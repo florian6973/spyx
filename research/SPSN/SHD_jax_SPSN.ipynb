{
 "cells": [
  {
   "cell_type": "code",
   "execution_count": 1,
   "id": "6793a986",
   "metadata": {},
   "outputs": [],
   "source": [
    "import os\n",
    "os.environ[\"XLA_PYTHON_CLIENT_MEM_FRACTION\"] = \".80\"\n",
    "\n",
    "import numpy as np\n",
    "\n",
    "import jax\n",
    "import jax.numpy as jnp\n",
    "import spyx\n",
    "import haiku as hk\n",
    "import optax\n",
    "from jax_tqdm import scan_tqdm"
   ]
  },
  {
   "cell_type": "markdown",
   "id": "da30d5e6",
   "metadata": {},
   "source": [
    "### SHD Dataloading"
   ]
  },
  {
   "cell_type": "code",
   "execution_count": 2,
   "id": "ab70fd4b",
   "metadata": {},
   "outputs": [],
   "source": [
    "\n",
    "import tonic\n",
    "from tonic import datasets, transforms\n",
    "import torchvision as tv\n",
    "from torch.utils.data import DataLoader, Subset\n",
    "from collections import namedtuple\n",
    "\n",
    "State = namedtuple(\"State\", \"obs labels\")\n",
    "\n"
   ]
  },
  {
   "cell_type": "code",
   "execution_count": 3,
   "id": "7d34a193",
   "metadata": {},
   "outputs": [],
   "source": [
    "class _SHD2Raster():\n",
    "    \"\"\" \n",
    "    Tool for rastering SHD samples into frames. Packs bits along the temporal axis for memory efficiency. This means\n",
    "        that the used will have to apply jnp.unpackbits(events, axis=<time axis>) prior to feeding the data to the network.\n",
    "    \"\"\"\n",
    "\n",
    "    def __init__(self, encoding_dim, sample_T = 100):\n",
    "        self.encoding_dim = encoding_dim\n",
    "        self.sample_T = sample_T\n",
    "        \n",
    "    def __call__(self, events):\n",
    "        # tensor has dimensions (time_steps, encoding_dim)\n",
    "        tensor = np.zeros((events[\"t\"].max()+1, self.encoding_dim), dtype=int)\n",
    "        np.add.at(tensor, (events[\"t\"], events[\"x\"]), 1)\n",
    "        #return tensor[:self.sample_T,:]\n",
    "        tensor = tensor[:self.sample_T,:]\n",
    "        tensor = np.minimum(tensor, 1)\n",
    "        tensor = np.packbits(tensor, axis=0)\n",
    "        return tensor"
   ]
  },
  {
   "cell_type": "code",
   "execution_count": 4,
   "id": "01a2e604",
   "metadata": {},
   "outputs": [],
   "source": [
    "sample_T = 64\n",
    "shd_timestep = 1e-6\n",
    "shd_channels = 700\n",
    "net_channels = 128\n",
    "net_dt = 1/sample_T\n",
    "batch_size = 256\n",
    "\n",
    "obs_shape = tuple([net_channels,])\n",
    "act_shape = tuple([20,])\n",
    "\n",
    "transform = transforms.Compose([\n",
    "    transforms.Downsample(\n",
    "        time_factor=shd_timestep / net_dt,\n",
    "        spatial_factor=net_channels / shd_channels\n",
    "    ),\n",
    "    _SHD2Raster(net_channels, sample_T=sample_T)\n",
    "])\n",
    "\n",
    "train_dataset = datasets.SHD(\"./data\", train=True, transform=transform)\n",
    "test_dataset = datasets.SHD(\"./data\", train=False, transform=transform)\n",
    "\n"
   ]
  },
  {
   "cell_type": "code",
   "execution_count": 5,
   "id": "9cf6be02",
   "metadata": {},
   "outputs": [],
   "source": [
    "train_dl = iter(DataLoader(train_dataset, batch_size=len(train_dataset),\n",
    "                          collate_fn=tonic.collation.PadTensors(batch_first=True), drop_last=True, shuffle=False))\n",
    "        \n",
    "x_train, y_train = next(train_dl)"
   ]
  },
  {
   "cell_type": "code",
   "execution_count": 6,
   "id": "ff2544a0",
   "metadata": {},
   "outputs": [],
   "source": [
    "test_dl = iter(DataLoader(test_dataset, batch_size=len(test_dataset),\n",
    "                          collate_fn=tonic.collation.PadTensors(batch_first=True), drop_last=True, shuffle=False))\n",
    "        \n",
    "x_test, y_test = next(test_dl)"
   ]
  },
  {
   "cell_type": "code",
   "execution_count": 7,
   "id": "e69c12b5",
   "metadata": {},
   "outputs": [
    {
     "name": "stdout",
     "output_type": "stream",
     "text": [
      "<class 'torch.Tensor'>\n",
      "torch.Size([8156, 8, 128])\n"
     ]
    }
   ],
   "source": [
    "print(type(x_train))\n",
    "print(x_train.shape)"
   ]
  },
  {
   "cell_type": "code",
   "execution_count": 8,
   "id": "670ea0a7",
   "metadata": {},
   "outputs": [],
   "source": [
    "x_train = jnp.array(x_train, dtype=jnp.uint8)\n",
    "y_train = jnp.array(y_train, dtype=jnp.uint8)\n",
    "\n",
    "x_test = jnp.array(x_test, dtype=jnp.uint8)\n",
    "y_test = jnp.array(y_test, dtype=jnp.uint8)"
   ]
  },
  {
   "cell_type": "code",
   "execution_count": 9,
   "id": "7135a5bb",
   "metadata": {},
   "outputs": [],
   "source": [
    "def shuffle(dataset, shuffle_rng):\n",
    "    x, y = dataset\n",
    "\n",
    "    cutoff = y.shape[0] % batch_size\n",
    "\n",
    "    obs = jax.random.permutation(shuffle_rng, x, axis=0)[:-cutoff]\n",
    "    labels = jax.random.permutation(shuffle_rng, y, axis=0)[:-cutoff]\n",
    "\n",
    "    obs = jnp.reshape(obs, (-1, batch_size) + obs.shape[1:])\n",
    "    labels = jnp.reshape(labels, (-1, batch_size)) # should make batch size a global\n",
    "\n",
    "    return State(obs=obs, labels=labels)"
   ]
  },
  {
   "cell_type": "markdown",
   "id": "1f415eb8",
   "metadata": {},
   "source": [
    "### Spyx SHD"
   ]
  },
  {
   "cell_type": "code",
   "execution_count": 41,
   "id": "ddc797e3",
   "metadata": {},
   "outputs": [],
   "source": [
    "def shd_snn(x): # batch, time, channels\n",
    "        \n",
    "    k1, k2, k3 = jax.random.split(hk.next_rng_key(), 3)\n",
    "    x = hk.BatchApply(hk.Linear(64, with_bias=False))(x)\n",
    "    x, V = spyx.experimental.SPSN((64,), k=12)(k1, x)\n",
    "    x = hk.BatchApply(hk.Linear(64, with_bias=False))(x)\n",
    "    x, V = spyx.experimental.SPSN((64,), k=12)(k2, x)\n",
    "    x = hk.BatchApply(hk.Linear(20, with_bias=False))(x)\n",
    "    spikes, V = spyx.experimental.SPSN((), k=12)(k3, x)\n",
    "    return spikes, V"
   ]
  },
  {
   "cell_type": "code",
   "execution_count": 42,
   "id": "344ed98f",
   "metadata": {},
   "outputs": [],
   "source": [
    "key = jax.random.PRNGKey(0)\n",
    "key1, key2 = jax.random.split(key)\n",
    "# Since there's nothing stochastic about the network, we can avoid using an RNG as a param!\n",
    "sample_x, sample_y = shuffle((x_train,y_train),key)\n",
    "SNN = hk.transform(shd_snn)\n",
    "params = SNN.init(rng=key1, x=jnp.float32(jnp.unpackbits(sample_x[0], axis=1)))"
   ]
  },
  {
   "cell_type": "code",
   "execution_count": 19,
   "id": "9f7422a0",
   "metadata": {},
   "outputs": [],
   "source": [
    "def gd(SNN, params, dataset, epochs=300):\n",
    "        \n",
    "    opt = optax.adam(learning_rate=5e-4)\n",
    "    \n",
    "    # create and initialize the optimizer\n",
    "    opt_state = opt.init(params)\n",
    "    grad_params = params\n",
    "        \n",
    "    # define and compile our eval function that computes the loss for our SNN\n",
    "    @jax.jit\n",
    "    def net_eval(weights, events, targets, apply_key):\n",
    "        readout = SNN.apply(weights, apply_key, events)\n",
    "        spikes, V = readout\n",
    "        return spyx.fn.integral_crossentropy(V, targets) # smoothing needs to be more explicit in docs...\n",
    "        \n",
    "    # Use JAX to create a function that calculates the loss and the gradient!\n",
    "    surrogate_grad = jax.value_and_grad(net_eval) \n",
    "        \n",
    "    rng = jax.random.PRNGKey(0)        \n",
    "    \n",
    "    # compile the meat of our training loop for speed\n",
    "    @jax.jit\n",
    "    def train_step(state, data):\n",
    "        grad_params, opt_state, batch_key = state\n",
    "        batch_key, new_batch_key = jax.random.split(batch_key)\n",
    "        events, targets = data # fix this\n",
    "        events = jnp.unpackbits(events, axis=1) # decompress temporal axis\n",
    "        # compute loss and gradient                    # need better augment rng\n",
    "        loss, grads = surrogate_grad(grad_params, events, targets, new_batch_key)\n",
    "        # generate updates based on the gradients and optimizer\n",
    "        updates, opt_state = opt.update(grads, opt_state, grad_params)\n",
    "        # return the updated parameters\n",
    "        new_state = [optax.apply_updates(grad_params, updates), opt_state, batch_key]\n",
    "        return new_state, loss\n",
    "    \n",
    "    \n",
    "    # Here's the start of our training loop!\n",
    "    @scan_tqdm(epochs)\n",
    "    def epoch(epoch_state, epoch_num):\n",
    "        curr_params, curr_opt_state, rng = epoch_state\n",
    "\n",
    "        shuffle_rng = jax.random.fold_in(rng, epoch_num)\n",
    "        net_key = jax.random.fold_in(shuffle_rng, epoch_num)\n",
    "\n",
    "        train_data = shuffle(dataset, shuffle_rng)\n",
    "        \n",
    "        # train epoch\n",
    "        end_state, train_loss = jax.lax.scan(\n",
    "            train_step,# func\n",
    "            [curr_params, curr_opt_state, net_key],# init\n",
    "            train_data,# xs\n",
    "            train_data.obs.shape[0]# len\n",
    "        )\n",
    "                    \n",
    "        return end_state, jnp.mean(train_loss)\n",
    "    # end epoch\n",
    "    \n",
    "    # epoch loop\n",
    "    final_state, metrics = jax.lax.scan(\n",
    "        epoch,\n",
    "        [grad_params, opt_state, rng], # metric arrays\n",
    "        jnp.arange(epochs), # \n",
    "        epochs # len of loop\n",
    "    )\n",
    "    \n",
    "    final_params, _, _ = final_state\n",
    "                \n",
    "    # return our final, optimized network.       \n",
    "    return final_params, metrics"
   ]
  },
  {
   "cell_type": "code",
   "execution_count": 20,
   "id": "5a5cb1c4",
   "metadata": {},
   "outputs": [],
   "source": [
    "def test_gd(SNN, params, dataset):\n",
    "\n",
    "    @jax.jit\n",
    "    def test_step(test_state, data):\n",
    "        params, batch_rng = test_state\n",
    "        inference_rng, next_rng = jax.random.split(batch_rng)\n",
    "        events, targets = data\n",
    "        events = jnp.unpackbits(events, axis=1)\n",
    "        readout = SNN.apply(params, inference_rng, events)\n",
    "        traces, V = readout\n",
    "        acc, pred = spyx.fn.integral_accuracy(V, targets)\n",
    "        loss = spyx.fn.integral_crossentropy(V, targets)\n",
    "        return [params, next_rng], [acc, loss, pred, targets]\n",
    "    \n",
    "    test_data = shuffle(dataset, jax.random.PRNGKey(0))\n",
    "    rng_test = jax.random.PRNGKey(1)\n",
    "    \n",
    "    _, test_metrics = jax.lax.scan(\n",
    "            test_step,# func\n",
    "            [params, rng_test],# init\n",
    "            test_data,# xs\n",
    "            test_data.obs.shape[0]# len\n",
    "    )\n",
    "    \n",
    "    acc = jnp.mean(test_metrics[0])\n",
    "    loss = jnp.mean(test_metrics[1])\n",
    "    preds = jnp.array(test_metrics[2]).flatten()\n",
    "    tgts = jnp.array(test_metrics[3]).flatten()\n",
    "    return acc, loss, preds, tgts"
   ]
  },
  {
   "cell_type": "code",
   "execution_count": 43,
   "id": "dd08a737",
   "metadata": {},
   "outputs": [
    {
     "data": {
      "application/vnd.jupyter.widget-view+json": {
       "model_id": "1090d1526675462a9fc8e9a8448df7cd",
       "version_major": 2,
       "version_minor": 0
      },
      "text/plain": [
       "  0%|          | 0/300 [00:00<?, ?it/s]"
      ]
     },
     "metadata": {},
     "output_type": "display_data"
    }
   ],
   "source": [
    "grad_params, metrics = gd(SNN, params, (x_train,y_train), epochs=300)\n"
   ]
  },
  {
   "cell_type": "code",
   "execution_count": 44,
   "id": "b7a3a0dd",
   "metadata": {},
   "outputs": [
    {
     "data": {
      "text/plain": [
       "Array([2.9956043, 2.9934208, 2.98255  , 2.957374 , 2.9138606, 2.855092 ,\n",
       "       2.785295 , 2.7272317, 2.6851356, 2.6476836, 2.605815 , 2.5535028,\n",
       "       2.5022476, 2.4553697, 2.4211712, 2.394369 , 2.3722808, 2.3504639,\n",
       "       2.325668 , 2.318754 , 2.3070316, 2.2884145, 2.270905 , 2.2603269,\n",
       "       2.248262 , 2.2349942, 2.2173157, 2.2085726, 2.197127 , 2.1876035,\n",
       "       2.1733255, 2.15996  , 2.1576474, 2.1451411, 2.1372874, 2.132701 ,\n",
       "       2.11767  , 2.1075215, 2.1051881, 2.0995646, 2.0881402, 2.0841293,\n",
       "       2.0770936, 2.0695984, 2.0629935, 2.0589275, 2.051084 , 2.0387058,\n",
       "       2.038746 , 2.0283213, 2.0209675, 2.0162504, 2.009159 , 2.0057366,\n",
       "       2.0007846, 1.9970376, 1.988    , 1.9855984, 1.9777839, 1.9737867,\n",
       "       1.9708807, 1.9652989, 1.955189 , 1.9531864, 1.9484136, 1.9465481,\n",
       "       1.9345324, 1.9319713, 1.9273002, 1.9265085, 1.9201834, 1.91493  ,\n",
       "       1.912744 , 1.9074663, 1.9026384, 1.9004493, 1.8955985, 1.8955228,\n",
       "       1.8853617, 1.8877478, 1.8854117, 1.8743522, 1.8771784, 1.8765043,\n",
       "       1.8665721, 1.8660028, 1.8659226, 1.8605405, 1.8571047, 1.8533717,\n",
       "       1.8534912, 1.8489234, 1.8506699, 1.844373 , 1.841525 , 1.8416243,\n",
       "       1.8366486, 1.8404083, 1.8338015, 1.8313046, 1.8325833, 1.8317624,\n",
       "       1.8259541, 1.8260266, 1.8231937, 1.8156999, 1.820908 , 1.8194396,\n",
       "       1.8141868, 1.8149321, 1.8133125, 1.8146263, 1.8067924, 1.805631 ,\n",
       "       1.8056338, 1.8084494, 1.8014302, 1.8044161, 1.7988759, 1.7927736,\n",
       "       1.7958056, 1.7978082, 1.7946005, 1.791809 , 1.7862142, 1.791633 ,\n",
       "       1.7847773, 1.7843864, 1.7852643, 1.7861471, 1.7811395, 1.7802408,\n",
       "       1.7810493, 1.7799599, 1.7780017, 1.774895 , 1.7746897, 1.7730927,\n",
       "       1.7708046, 1.7722914, 1.7743286, 1.7714806, 1.7650572, 1.7701901,\n",
       "       1.7666725, 1.7728179, 1.7622359, 1.7615563, 1.7629863, 1.7637258,\n",
       "       1.7602948, 1.756363 , 1.7548176, 1.7558838, 1.7564152, 1.758798 ,\n",
       "       1.7553385, 1.7531923, 1.7514215, 1.7524167, 1.7493743, 1.7502892,\n",
       "       1.7507484, 1.7534487, 1.7475302, 1.7463329, 1.7472175, 1.7518718,\n",
       "       1.7496214, 1.7443187, 1.7434303, 1.7420082, 1.741898 , 1.7413381,\n",
       "       1.741698 , 1.7384114, 1.7425468, 1.737119 , 1.7393374, 1.7405428,\n",
       "       1.7407709, 1.7359099, 1.7373762, 1.7371732, 1.7320464, 1.7336584,\n",
       "       1.7300056, 1.7309715, 1.7261008, 1.7340819, 1.7286613, 1.7267523,\n",
       "       1.7309401, 1.7279016, 1.7267323, 1.7249941, 1.7252038, 1.724812 ,\n",
       "       1.7279844, 1.7238023, 1.7211053, 1.725996 , 1.7236784, 1.7236954,\n",
       "       1.7196364, 1.7219672, 1.7197875, 1.718674 , 1.7208681, 1.7218533,\n",
       "       1.7217516, 1.7162982, 1.71926  , 1.7167624, 1.7183355, 1.716613 ,\n",
       "       1.7150993, 1.7159231, 1.7190421, 1.713872 , 1.712748 , 1.7139735,\n",
       "       1.7144825, 1.7113433, 1.7116816, 1.7113037, 1.7110448, 1.7125125,\n",
       "       1.7108934, 1.7140005, 1.709557 , 1.7076725, 1.7092149, 1.7049891,\n",
       "       1.7064425, 1.7065566, 1.7030481, 1.7058927, 1.7050678, 1.708306 ,\n",
       "       1.7057638, 1.6994127, 1.7060666, 1.7031429, 1.705226 , 1.7035517,\n",
       "       1.7044034, 1.7016718, 1.7024468, 1.7046591, 1.7049477, 1.7015316,\n",
       "       1.7014632, 1.6981484, 1.7021179, 1.7015615, 1.6940935, 1.6983546,\n",
       "       1.6993246, 1.699526 , 1.6966419, 1.6999193, 1.6970757, 1.6968863,\n",
       "       1.6973877, 1.6936774, 1.6940918, 1.6980859, 1.6947509, 1.6946003,\n",
       "       1.6955383, 1.6941649, 1.6929086, 1.6975346, 1.697355 , 1.6937344,\n",
       "       1.6939949, 1.6952934, 1.691914 , 1.6933223, 1.6941417, 1.6932366,\n",
       "       1.6908982, 1.6934227, 1.6930268, 1.6929996, 1.6887743, 1.6911632,\n",
       "       1.6887587, 1.6888394, 1.6881402, 1.6888134, 1.6898389, 1.6869739,\n",
       "       1.6876303, 1.6873572, 1.6868536, 1.6846602, 1.6862475, 1.6865048],      dtype=float32)"
      ]
     },
     "execution_count": 44,
     "metadata": {},
     "output_type": "execute_result"
    }
   ],
   "source": [
    "metrics"
   ]
  },
  {
   "cell_type": "code",
   "execution_count": 45,
   "id": "8553879b",
   "metadata": {},
   "outputs": [
    {
     "name": "stdout",
     "output_type": "stream",
     "text": [
      "Accuracy: 0.72216797 Loss: 2.0229526\n"
     ]
    }
   ],
   "source": [
    "acc, loss, preds, tgts = test_gd(SNN, grad_params, (x_test,y_test))\n",
    "print(\"Accuracy:\", acc, \"Loss:\", loss)"
   ]
  },
  {
   "cell_type": "code",
   "execution_count": 30,
   "id": "519f8b58",
   "metadata": {},
   "outputs": [],
   "source": [
    "grad_params = spyx.nir.reorder_layers(params, grad_params)"
   ]
  },
  {
   "cell_type": "code",
   "execution_count": 32,
   "id": "422e1842",
   "metadata": {},
   "outputs": [
    {
     "data": {
      "text/plain": [
       "{'beta': Array(-0.00500731, dtype=float32)}"
      ]
     },
     "execution_count": 32,
     "metadata": {},
     "output_type": "execute_result"
    }
   ],
   "source": [
    "grad_params[\"SPSN_2\"]"
   ]
  },
  {
   "cell_type": "code",
   "execution_count": 19,
   "id": "87547955",
   "metadata": {},
   "outputs": [
    {
     "data": {
      "text/plain": [
       "{'w': Array([[-0.04298574,  0.21619943,  0.10477108, ..., -0.10754719,\n",
       "         -0.04965809, -0.03431261],\n",
       "        [-0.01796218,  0.05607246, -0.04709149, ...,  0.1947771 ,\n",
       "         -0.10933241,  0.00303009],\n",
       "        [ 0.0482173 , -0.03384301, -0.12288244, ...,  0.10351518,\n",
       "          0.11186872,  0.08066373],\n",
       "        ...,\n",
       "        [ 0.19588879, -0.05644256, -0.07959975, ..., -0.08587369,\n",
       "         -0.18150201, -0.12443399],\n",
       "        [ 0.00163213,  0.07380239, -0.06773511, ..., -0.0573804 ,\n",
       "          0.03488021, -0.21297358],\n",
       "        [ 0.17212132,  0.09933139, -0.08786933, ...,  0.04749663,\n",
       "         -0.22334315,  0.16538994]], dtype=float32)}"
      ]
     },
     "execution_count": 19,
     "metadata": {},
     "output_type": "execute_result"
    }
   ],
   "source": [
    "params[\"linear_2\"]"
   ]
  },
  {
   "cell_type": "code",
   "execution_count": 33,
   "id": "7bab65b5",
   "metadata": {},
   "outputs": [],
   "source": [
    "s1, v1 = SNN.apply(params, jax.random.PRNGKey(42), jnp.unpackbits(sample_x[0], 1))\n",
    "s2, v2 = SNN.apply(grad_params, jax.random.PRNGKey(42), jnp.unpackbits(sample_x[0], 1))\n"
   ]
  },
  {
   "cell_type": "code",
   "execution_count": 34,
   "id": "742f51a9",
   "metadata": {},
   "outputs": [
    {
     "data": {
      "text/plain": [
       "<matplotlib.image.AxesImage at 0x7fc0e07693f0>"
      ]
     },
     "execution_count": 34,
     "metadata": {},
     "output_type": "execute_result"
    },
    {
     "data": {
      "image/png": "[encoded data removed]",
      "text/plain": [
       "<Figure size 432x288 with 1 Axes>"
      ]
     },
     "metadata": {
      "needs_background": "light"
     },
     "output_type": "display_data"
    }
   ],
   "source": [
    "import matplotlib.pyplot as plt\n",
    "plt.imshow(v1[0]-v2[0])"
   ]
  },
  {
   "cell_type": "code",
   "execution_count": 35,
   "id": "919d553f",
   "metadata": {},
   "outputs": [
    {
     "data": {
      "text/plain": [
       "<matplotlib.image.AxesImage at 0x7fc0e065d600>"
      ]
     },
     "execution_count": 35,
     "metadata": {},
     "output_type": "execute_result"
    },
    {
     "data": {
      "image/png": "[encoded data removed]",
      "text/plain": [
       "<Figure size 432x288 with 1 Axes>"
      ]
     },
     "metadata": {
      "needs_background": "light"
     },
     "output_type": "display_data"
    }
   ],
   "source": [
    "plt.imshow(v2[0])"
   ]
  },
  {
   "cell_type": "markdown",
   "id": "a01af1eb",
   "metadata": {},
   "source": [
    "### Use NIR to save our network and then load it up later, in any framework of our choosing!"
   ]
  },
  {
   "cell_type": "code",
   "execution_count": 17,
   "id": "dcf7e833",
   "metadata": {},
   "outputs": [],
   "source": [
    "import nir\n",
    "export_params = spyx.nir.reorder_layers(params, grad_params)\n",
    "G = spyx.nir.to_nir(export_params, obs_shape, act_shape, 1)\n",
    "#nir.write(\"./spyx_shd.nir\", G)"
   ]
  }
 ],
 "metadata": {
  "kernelspec": {
   "display_name": "Python 3 (ipykernel)",
   "language": "python",
   "name": "python3"
  },
  "language_info": {
   "codemirror_mode": {
    "name": "ipython",
    "version": 3
   },
   "file_extension": ".py",
   "mimetype": "text/x-python",
   "name": "python",
   "nbconvert_exporter": "python",
   "pygments_lexer": "ipython3",
   "version": "3.10.12"
  }
 },
 "nbformat": 4,
 "nbformat_minor": 5
}
