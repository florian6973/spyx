{
 "cells": [
  {
   "cell_type": "code",
   "execution_count": null,
   "metadata": {},
   "outputs": [],
   "source": [
    "!pip install spikingjelly cupy-cuda12x"
   ]
  },
  {
   "cell_type": "code",
   "execution_count": 1,
   "metadata": {},
   "outputs": [],
   "source": [
    "import torch\n",
    "import spikingjelly\n",
    "\n",
    "device = torch.device(\"cuda\" if torch.cuda.is_available() else \"cpu\")\n",
    "torch.cuda.set_per_process_memory_fraction(0.9, device=0)\n",
    "\n",
    "import numpy as np\n",
    "\n",
    "import tonic\n",
    "from tonic import datasets, transforms\n",
    "import torchvision as tv\n",
    "from torch.utils.data import DataLoader, Subset"
   ]
  },
  {
   "cell_type": "code",
   "execution_count": 2,
   "metadata": {},
   "outputs": [
    {
     "data": {
      "text/plain": [
       "'2.2.1+cu121'"
      ]
     },
     "execution_count": 2,
     "metadata": {},
     "output_type": "execute_result"
    }
   ],
   "source": [
    "torch.__version__"
   ]
  },
  {
   "cell_type": "code",
   "execution_count": 3,
   "metadata": {},
   "outputs": [],
   "source": [
    "class _SHD2Raster():\n",
    "    \"\"\" \n",
    "    Tool for rastering SHD samples into frames. Packs bits along the temporal axis for memory efficiency. This means\n",
    "        that the used will have to apply jnp.unpackbits(events, axis=<time axis>) prior to feeding the data to the network.\n",
    "    \"\"\"\n",
    "\n",
    "    def __init__(self, encoding_dim, sample_T = 100):\n",
    "        self.encoding_dim = encoding_dim\n",
    "        self.sample_T = sample_T\n",
    "        \n",
    "    def __call__(self, events):\n",
    "        # tensor has dimensions (time_steps, encoding_dim)\n",
    "        tensor = np.zeros((events[\"t\"].max()+1, self.encoding_dim), dtype=int)\n",
    "        np.add.at(tensor, (events[\"t\"], events[\"x\"]), 1)\n",
    "        #return tensor[:self.sample_T,:]\n",
    "        tensor = tensor[:self.sample_T,:]\n",
    "        tensor = np.minimum(tensor, 1)\n",
    "        #tensor = np.packbits(tensor, axis=0) pytorch does not have an unpack feature.\n",
    "        return tensor.astype(np.uint8)"
   ]
  },
  {
   "cell_type": "code",
   "execution_count": 4,
   "metadata": {},
   "outputs": [],
   "source": [
    "sample_T = 256\n",
    "shd_timestep = 1e-6\n",
    "shd_channels = 700\n",
    "net_channels = 128\n",
    "net_dt = 1/sample_T\n",
    "batch_size = 256\n",
    "\n",
    "obs_shape = tuple([net_channels,])\n",
    "act_shape = tuple([20,])\n",
    "\n",
    "transform = transforms.Compose([\n",
    "    transforms.Downsample(\n",
    "        time_factor=shd_timestep / net_dt,\n",
    "        spatial_factor=net_channels / shd_channels\n",
    "    ),\n",
    "    _SHD2Raster(net_channels, sample_T=sample_T)\n",
    "])\n",
    "\n",
    "train_dataset = datasets.SHD(\"./data\", train=True, transform=transform)"
   ]
  },
  {
   "cell_type": "code",
   "execution_count": 5,
   "metadata": {},
   "outputs": [],
   "source": [
    "train_dl = iter(DataLoader(train_dataset, batch_size=len(train_dataset)//8,\n",
    "                          collate_fn=tonic.collation.PadTensors(batch_first=True), drop_last=True, shuffle=False))\n",
    "        \n",
    "x_train, y_train = next(train_dl)\n",
    "x_train, y_train = x_train.to(torch.uint8), y_train.to(torch.uint8)\n",
    "x_train, y_train = x_train.to(device), y_train.to(device)\n"
   ]
  },
  {
   "cell_type": "code",
   "execution_count": 6,
   "metadata": {},
   "outputs": [],
   "source": [
    "\n",
    "def shuffle(dataset, batch_size):\n",
    "    x, y = dataset\n",
    "\n",
    "    full_batches = y.shape[0] // batch_size\n",
    "\n",
    "    indices = torch.randperm(y.shape[0])[:full_batches*batch_size]\n",
    "    obs, labels = x[indices], y[indices]\n",
    "\n",
    "\n",
    "    obs = torch.reshape(obs, (-1, batch_size) + obs.shape[1:])\n",
    "    labels = torch.reshape(labels, (-1, batch_size)) # should make batch size a global\n",
    "\n",
    "    return obs, labels\n",
    "    "
   ]
  },
  {
   "cell_type": "code",
   "execution_count": 7,
   "metadata": {},
   "outputs": [],
   "source": [
    "# Define Network\n",
    "class Net(torch.nn.Module):\n",
    "    def __init__(self, net_width, use_cupy):\n",
    "        super().__init__()\n",
    "        num_hidden = net_width\n",
    "\n",
    "        self.cupy = use_cupy\n",
    "\n",
    "        self.conv_fc = nn.Sequential(\n",
    "            layer.Linear(128, num_hidden, bias=False),\n",
    "            neuron.ParametricLIFNode(surrogate_function=surrogate.ATan()),\n",
    "            layer.Linear(num_hidden, num_hidden, bias=False),\n",
    "            neuron.ParametricLIFNode(surrogate_function=surrogate.ATan()),\n",
    "            layer.Linear(num_hidden, 10, bias=False),\n",
    "            neuron.ParametricLIFNode(surrogate_function=surrogate.ATan()),\n",
    "        )\n",
    "\n",
    "        functional.set_step_mode(self, step_mode='m')\n",
    "        if use_cupy:\n",
    "            functional.set_backend(self, backend='cupy')\n",
    "\n",
    "    def forward(self, x: torch.Tensor):\n",
    "        # x.shape = [N, T, C, H, W]\n",
    "        x = torch.swapaxes(x.to(torch.float32), 0, 1)\n",
    "        # [N, T, C, H, W] -> [T, N, C, H, W]\n",
    "        if self.cupy:\n",
    "            return self.conv_fc(x)\n",
    "        return torch.stack([self.conv_fc(t) for t in x])"
   ]
  },
  {
   "cell_type": "code",
   "execution_count": 8,
   "metadata": {},
   "outputs": [],
   "source": [
    "loss = torch.nn.CrossEntropyLoss(label_smoothing=0.3)\n",
    "acc = lambda predictions, targets : (torch.argmax(predictions, axis=-1) == targets).sum().item() / len(targets)"
   ]
  },
  {
   "cell_type": "code",
   "execution_count": 9,
   "metadata": {},
   "outputs": [],
   "source": [
    "def benchmark(net, loss, num_epochs, batch_size):\n",
    "    \n",
    "    acc = lambda predictions, targets : (torch.argmax(predictions, axis=-1) == targets).sum().item() / len(targets)\n",
    "    optimizer = torch.optim.Adam(net.parameters(), lr=5e-4)\n",
    "\n",
    "    \n",
    "    loss_hist = []    \n",
    "    # Outer training loop\n",
    "    start = time()\n",
    "    for epoch in range(num_epochs):    \n",
    "        print(epoch)\n",
    "        train_batch = shuffle((x_train, y_train), batch_size)\n",
    "        train_data, targets = train_batch\n",
    "        \n",
    "        \n",
    "        # Minibatch training loop\n",
    "        for data, targets in zip(train_data, targets):\n",
    "    \n",
    "            # forward pass\n",
    "            net.train()\n",
    "            out_V = net(data)\n",
    "            # initialize the loss & sum over time\n",
    "            loss_val = loss(torch.sum(out_V, axis=0), targets.to(torch.int64))\n",
    "    \n",
    "            # Gradient calculation + weight update\n",
    "            optimizer.zero_grad()\n",
    "            loss_val.backward()\n",
    "            optimizer.step()\n",
    "            functional.reset_net(net)\n",
    "    \n",
    "        # Store loss history for future plotting\n",
    "        loss_hist.append(loss_val.item())\n",
    "    \n",
    "    end = time() - start\n",
    "    \n",
    "    return end\n"
   ]
  },
  {
   "cell_type": "code",
   "execution_count": 10,
   "metadata": {},
   "outputs": [
    {
     "data": {
      "text/plain": [
       "torch.uint8"
      ]
     },
     "execution_count": 10,
     "metadata": {},
     "output_type": "execute_result"
    }
   ],
   "source": [
    "x_train.dtype"
   ]
  },
  {
   "cell_type": "code",
   "execution_count": 11,
   "metadata": {},
   "outputs": [],
   "source": [
    "from time import time\n",
    "\n",
    "def run_bench(trials, num_epochs, net_width, batch_size, use_cupy=True):\n",
    "    \n",
    "    loss = torch.nn.CrossEntropyLoss(label_smoothing=0.3)\n",
    "    net = Net(net_width, use_cupy).to(device)\n",
    "\n",
    "    loss = torch.compile(loss, fullgraph=True, mode=\"reduce-overhead\")\n",
    "\n",
    "    print(\"starting warmup\")\n",
    "    comp_start = time()\n",
    "    benchmark(net, loss, 1, batch_size)\n",
    "    \n",
    "    print(\"Warmup compilation finished:\", time() - comp_start)\n",
    "    \n",
    "    times = []\n",
    "    for t in range(trials):\n",
    "        times.append(benchmark(net, loss, num_epochs, batch_size))\n",
    "        print(t, \":\", times[t])\n",
    "    \n",
    "    print(\"Mean:\", np.mean(times), \"Std. Dev.:\", np.std(times))\n",
    "    "
   ]
  },
  {
   "cell_type": "code",
   "execution_count": 12,
   "metadata": {},
   "outputs": [
    {
     "name": "stdout",
     "output_type": "stream",
     "text": [
      "starting warmup\n",
      "0\n",
      "Warmup compilation finished: 8.765508890151978\n",
      "0\n",
      "1\n",
      "2\n",
      "3\n",
      "4\n",
      "5\n",
      "6\n",
      "7\n",
      "8\n",
      "9\n",
      "0 : 19.065460443496704\n",
      "Mean: 19.065460443496704 Std. Dev.: 0.0\n"
     ]
    }
   ],
   "source": [
    "run_bench(1, 10, 128, 256, True)"
   ]
  },
  {
   "cell_type": "code",
   "execution_count": 13,
   "metadata": {},
   "outputs": [
    {
     "name": "stdout",
     "output_type": "stream",
     "text": [
      "starting warmup\n",
      "0\n",
      "Warmup compilation finished: 17.967191696166992\n",
      "0\n",
      "1\n",
      "2\n",
      "3\n",
      "4\n",
      "5\n",
      "6\n",
      "7\n",
      "8\n",
      "9\n",
      "0 : 30.830129146575928\n",
      "Mean: 30.830129146575928 Std. Dev.: 0.0\n"
     ]
    }
   ],
   "source": [
    "run_bench(1, 10, 128, 256, False)"
   ]
  }
 ],
 "metadata": {
  "kernelspec": {
   "display_name": "Python 3 (ipykernel)",
   "language": "python",
   "name": "python3"
  },
  "language_info": {
   "codemirror_mode": {
    "name": "ipython",
    "version": 3
   },
   "file_extension": ".py",
   "mimetype": "text/x-python",
   "name": "python",
   "nbconvert_exporter": "python",
   "pygments_lexer": "ipython3",
   "version": "3.10.12"
  }
 },
 "nbformat": 4,
 "nbformat_minor": 4
}
