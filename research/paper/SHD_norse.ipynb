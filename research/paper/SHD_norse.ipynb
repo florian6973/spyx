{
 "cells": [
  {
   "cell_type": "code",
   "execution_count": 1,
   "metadata": {},
   "outputs": [
    {
     "name": "stdout",
     "output_type": "stream",
     "text": [
      "Tue Feb 27 17:38:33 2024       \n",
      "+---------------------------------------------------------------------------------------+\n",
      "| NVIDIA-SMI 535.104.05             Driver Version: 535.104.05   CUDA Version: 12.2     |\n",
      "|-----------------------------------------+----------------------+----------------------+\n",
      "| GPU  Name                 Persistence-M | Bus-Id        Disp.A | Volatile Uncorr. ECC |\n",
      "| Fan  Temp   Perf          Pwr:Usage/Cap |         Memory-Usage | GPU-Util  Compute M. |\n",
      "|                                         |                      |               MIG M. |\n",
      "|=========================================+======================+======================|\n",
      "|   0  NVIDIA RTX A6000               On  | 00000000:08:00.0 Off |                  Off |\n",
      "| 30%   33C    P8              32W / 300W |      2MiB / 49140MiB |      0%      Default |\n",
      "|                                         |                      |                  N/A |\n",
      "+-----------------------------------------+----------------------+----------------------+\n",
      "                                                                                         \n",
      "+---------------------------------------------------------------------------------------+\n",
      "| Processes:                                                                            |\n",
      "|  GPU   GI   CI        PID   Type   Process name                            GPU Memory |\n",
      "|        ID   ID                                                             Usage      |\n",
      "|=======================================================================================|\n",
      "|  No running processes found                                                           |\n",
      "+---------------------------------------------------------------------------------------+\n"
     ]
    }
   ],
   "source": [
    "!nvidia-smi"
   ]
  },
  {
   "cell_type": "code",
   "execution_count": 1,
   "metadata": {},
   "outputs": [],
   "source": [
    "import torch\n",
    "\n",
    "import norse.torch as norse\n",
    "\n",
    "device = torch.device(\"cuda\" if torch.cuda.is_available() else \"cpu\")\n",
    "#torch.cuda.set_per_process_memory_fraction(0.8, device=0)\n",
    "\n",
    "\n",
    "\n",
    "import numpy as np\n",
    "\n",
    "import tonic\n",
    "from tonic import datasets, transforms\n",
    "import torchvision as tv\n",
    "from torch.utils.data import DataLoader, Subset\n",
    "from sklearn.model_selection import train_test_split\n",
    "from collections import namedtuple\n",
    "\n"
   ]
  },
  {
   "cell_type": "code",
   "execution_count": 2,
   "metadata": {},
   "outputs": [
    {
     "data": {
      "text/plain": [
       "'2.2.1+cu121'"
      ]
     },
     "execution_count": 2,
     "metadata": {},
     "output_type": "execute_result"
    }
   ],
   "source": [
    "torch.__version__"
   ]
  },
  {
   "cell_type": "code",
   "execution_count": 3,
   "metadata": {},
   "outputs": [],
   "source": [
    "class _SHD2Raster():\n",
    "    \"\"\" \n",
    "    Tool for rastering SHD samples into frames. Packs bits along the temporal axis for memory efficiency. This means\n",
    "        that the used will have to apply jnp.unpackbits(events, axis=<time axis>) prior to feeding the data to the network.\n",
    "    \"\"\"\n",
    "\n",
    "    def __init__(self, encoding_dim, sample_T = 100):\n",
    "        self.encoding_dim = encoding_dim\n",
    "        self.sample_T = sample_T\n",
    "        \n",
    "    def __call__(self, events):\n",
    "        # tensor has dimensions (time_steps, encoding_dim)\n",
    "        tensor = np.zeros((events[\"t\"].max()+1, self.encoding_dim), dtype=int)\n",
    "        np.add.at(tensor, (events[\"t\"], events[\"x\"]), 1)\n",
    "        #return tensor[:self.sample_T,:]\n",
    "        tensor = tensor[:self.sample_T,:]\n",
    "        tensor = np.minimum(tensor, 1)\n",
    "        #tensor = np.packbits(tensor, axis=0) pytorch does not have an unpack feature.\n",
    "        return tensor.astype(np.uint8)"
   ]
  },
  {
   "cell_type": "code",
   "execution_count": 4,
   "metadata": {},
   "outputs": [],
   "source": [
    "sample_T = 256\n",
    "shd_timestep = 1e-6\n",
    "shd_channels = 700\n",
    "net_channels = 128\n",
    "net_dt = 1/sample_T\n",
    "batch_size = 256\n",
    "\n",
    "obs_shape = tuple([net_channels,])\n",
    "act_shape = tuple([20,])\n",
    "\n",
    "transform = transforms.Compose([\n",
    "    transforms.Downsample(\n",
    "        time_factor=shd_timestep / net_dt,\n",
    "        spatial_factor=net_channels / shd_channels\n",
    "    ),\n",
    "    _SHD2Raster(net_channels, sample_T=sample_T)\n",
    "])\n",
    "\n",
    "train_dataset = datasets.SHD(\"./data\", train=True, transform=transform)"
   ]
  },
  {
   "cell_type": "code",
   "execution_count": 5,
   "metadata": {},
   "outputs": [],
   "source": [
    "train_dl = iter(DataLoader(train_dataset, batch_size=len(train_dataset)//8,\n",
    "                          collate_fn=tonic.collation.PadTensors(batch_first=True), drop_last=True, shuffle=False))\n",
    "        \n",
    "x_train, y_train = next(train_dl)\n",
    "x_train, y_train = x_train.to(torch.uint8), y_train.to(torch.uint8)\n",
    "x_train, y_train = x_train.to(device), y_train.to(device)\n"
   ]
  },
  {
   "cell_type": "code",
   "execution_count": 6,
   "metadata": {},
   "outputs": [],
   "source": [
    "\n",
    "def shuffle(dataset, batch_size):\n",
    "    x, y = dataset\n",
    "\n",
    "    full_batches = y.shape[0] // batch_size\n",
    "\n",
    "    indices = torch.randperm(y.shape[0])[:full_batches*batch_size]\n",
    "    obs, labels = x[indices], y[indices]\n",
    "\n",
    "\n",
    "    obs = torch.reshape(obs, (-1, batch_size) + obs.shape[1:])\n",
    "    labels = torch.reshape(labels, (-1, batch_size)) # should make batch size a global\n",
    "\n",
    "    return obs, labels\n",
    "    "
   ]
  },
  {
   "cell_type": "code",
   "execution_count": 7,
   "metadata": {},
   "outputs": [],
   "source": [
    "# Define Network\n",
    "class Net(torch.nn.Module):\n",
    "    def __init__(self, net_width, disable):\n",
    "        super().__init__()\n",
    "        num_hidden = net_width\n",
    "\n",
    "        p1 = norse.LIFBoxParameters(\n",
    "            tau_mem_inv=torch.tensor([100.0], device=\"cuda\"),\n",
    "            v_leak=torch.tensor([0.0], device=\"cuda\"),\n",
    "            v_th=torch.tensor([1.0], device=\"cuda\"),\n",
    "            v_reset=torch.tensor([0.0], device=\"cuda\"),\n",
    "            alpha=torch.tensor([100.0], device=\"cuda\"),\n",
    "        )\n",
    "\n",
    "        p2 = norse.LIFBoxParameters(\n",
    "            tau_mem_inv=torch.tensor([100.0], device=\"cuda\"),\n",
    "            v_leak=torch.tensor([0.0], device=\"cuda\"),\n",
    "            v_th=torch.tensor([1.0], device=\"cuda\"),\n",
    "            v_reset=torch.tensor([0.0], device=\"cuda\"),\n",
    "            alpha=torch.tensor([100.0], device=\"cuda\"),\n",
    "        )\n",
    "\n",
    "        p3 = norse.LIBoxParameters(\n",
    "            tau_mem_inv=torch.tensor([100.0], device=\"cuda\"),\n",
    "            v_leak=torch.tensor([0.0], device=\"cuda\"),\n",
    "        )\n",
    "\n",
    "        self.model = torch.compile(norse.SequentialState(\n",
    "            torch.nn.Linear(128, num_hidden, bias=False),\n",
    "            norse.LIFBoxCell(p1),\n",
    "            torch.nn.Linear(num_hidden, num_hidden, bias=False),\n",
    "            norse.LIFBoxCell(p2),\n",
    "            torch.nn.Linear(num_hidden, 20, bias=False),\n",
    "            norse.LIBoxCell(p3)\n",
    "        ).to(device), disable=disable)\n",
    "\n",
    "            \n",
    "    def forward(self, x):\n",
    "\n",
    "        x = x.float() # [batch, time, channel]\n",
    "        \n",
    "        x = x.permute(1,0,2) # [time, batch, channel]\n",
    "        # Initialize hidden states at t=0\n",
    "\n",
    "        # time, batch, classes\n",
    "        V = []\n",
    "        \n",
    "        state = None\n",
    "        for t in range(x.shape[0]):\n",
    "            out, state = self.model(x[t], state)\n",
    "            V.append(out)\n",
    "        return torch.stack(V, axis=0)\n",
    "        \n",
    "# Load the network onto CUDA if available\n",
    "#precompiled_net = Net().to(device)\n",
    "#net = torch.compile(precompiled_net, fullgraph=True)"
   ]
  },
  {
   "cell_type": "code",
   "execution_count": 8,
   "metadata": {},
   "outputs": [],
   "source": [
    "loss = torch.nn.CrossEntropyLoss(label_smoothing=0.3)\n",
    "acc = lambda predictions, targets : (torch.argmax(predictions, axis=-1) == targets).sum().item() / len(targets)"
   ]
  },
  {
   "cell_type": "code",
   "execution_count": 9,
   "metadata": {},
   "outputs": [],
   "source": [
    "def benchmark(net, loss, num_epochs, batch_size):\n",
    "    \n",
    "    acc = lambda predictions, targets : (torch.argmax(predictions, axis=-1) == targets).sum().item() / len(targets)\n",
    "    optimizer = torch.optim.Adam(net.parameters(), lr=5e-4)\n",
    "    \n",
    "    loss_hist = []    \n",
    "    # Outer training loop\n",
    "    start = time()\n",
    "    for epoch in range(num_epochs):\n",
    "        print(epoch)\n",
    "        train_batch = shuffle((x_train, y_train), batch_size)\n",
    "        train_data, targets = train_batch\n",
    "        \n",
    "        \n",
    "        # Minibatch training loop\n",
    "        for data, targets in zip(train_data, targets):\n",
    "    \n",
    "            # forward pass\n",
    "            net.train()\n",
    "            out_V = net(data)\n",
    "            # initialize the loss & sum over time\n",
    "            loss_val = loss(torch.sum(out_V, axis=0), targets.to(torch.int64))\n",
    "            #print(acc(out_V, targets))\n",
    "    \n",
    "            # Gradient calculation + weight update\n",
    "            optimizer.zero_grad()\n",
    "            loss_val.backward()\n",
    "            optimizer.step()\n",
    "    \n",
    "        # Store loss history for future plotting\n",
    "        loss_hist.append(loss_val.item())\n",
    "    \n",
    "    end = time() - start\n",
    "    #print(end)\n",
    "    \n",
    "    return end\n"
   ]
  },
  {
   "cell_type": "code",
   "execution_count": 10,
   "metadata": {},
   "outputs": [
    {
     "data": {
      "text/plain": [
       "torch.uint8"
      ]
     },
     "execution_count": 10,
     "metadata": {},
     "output_type": "execute_result"
    }
   ],
   "source": [
    "x_train.dtype"
   ]
  },
  {
   "cell_type": "code",
   "execution_count": 11,
   "metadata": {},
   "outputs": [],
   "source": [
    "from time import time\n",
    "\n",
    "def run_bench(trials, num_epochs, net_width, batch_size, disable=True):\n",
    "    \n",
    "    loss = torch.nn.CrossEntropyLoss(label_smoothing=0.3)\n",
    "    net = Net(net_width, disable)\n",
    "\n",
    "    loss = torch.compile(loss, fullgraph=True, mode=\"reduce-overhead\")\n",
    "\n",
    "    print(\"starting warmup\")\n",
    "    comp_start = time()\n",
    "    benchmark(net, loss, 1, batch_size)\n",
    "    \n",
    "    print(\"Warmup compilation finished:\", time() - comp_start)\n",
    "    \n",
    "    times = []\n",
    "    for t in range(trials):\n",
    "        times.append(benchmark(net, loss, num_epochs, batch_size))\n",
    "        print(t, \":\", times[t])\n",
    "    \n",
    "    print(\"Mean:\", np.mean(times), \"Std. Dev.:\", np.std(times))\n",
    "    "
   ]
  },
  {
   "cell_type": "code",
   "execution_count": 12,
   "metadata": {},
   "outputs": [
    {
     "name": "stdout",
     "output_type": "stream",
     "text": [
      "starting warmup\n",
      "0\n",
      "Warmup compilation finished: 8.765508890151978\n",
      "0\n",
      "1\n",
      "2\n",
      "3\n",
      "4\n",
      "5\n",
      "6\n",
      "7\n",
      "8\n",
      "9\n",
      "0 : 19.065460443496704\n",
      "Mean: 19.065460443496704 Std. Dev.: 0.0\n"
     ]
    }
   ],
   "source": [
    "run_bench(1, 10, 128, 256, True)"
   ]
  },
  {
   "cell_type": "code",
   "execution_count": 13,
   "metadata": {},
   "outputs": [
    {
     "name": "stdout",
     "output_type": "stream",
     "text": [
      "starting warmup\n",
      "0\n",
      "Warmup compilation finished: 17.967191696166992\n",
      "0\n",
      "1\n",
      "2\n",
      "3\n",
      "4\n",
      "5\n",
      "6\n",
      "7\n",
      "8\n",
      "9\n",
      "0 : 30.830129146575928\n",
      "Mean: 30.830129146575928 Std. Dev.: 0.0\n"
     ]
    }
   ],
   "source": [
    "run_bench(1, 10, 128, 256, False)"
   ]
  },
  {
   "cell_type": "code",
   "execution_count": null,
   "metadata": {},
   "outputs": [],
   "source": [
    "\n",
    "\n",
    "# Test set\n",
    "with torch.no_grad():\n",
    "    denominator = y_test[0]\n",
    "    test_acc = 0\n",
    "    batch_acc = []\n",
    "    for test_data, test_targets in zip(x_test, y_test):\n",
    "        net.eval()\n",
    "        # Test set forward pass\n",
    "        out_V = net(test_data)\n",
    "        # Test set loss\n",
    "        batch_acc.append( acc(torch.sum(out_V, axis=-2), test_targets) )\n",
    "    \n",
    "    test_acc = np.mean(batch_acc)\n"
   ]
  },
  {
   "cell_type": "markdown",
   "metadata": {},
   "source": [
    "### Using NIR to load a network from Spyx in Norse:\n",
    "\n",
    "The following code is boiler plate until snnTorch merges support for importing from NIR."
   ]
  },
  {
   "cell_type": "code",
   "execution_count": null,
   "metadata": {},
   "outputs": [],
   "source": [
    "G = nir.read(\"./spyx_shd.nir\")"
   ]
  },
  {
   "cell_type": "code",
   "execution_count": null,
   "metadata": {},
   "outputs": [],
   "source": [
    "net2 = from_nir(G).to(device)"
   ]
  },
  {
   "cell_type": "code",
   "execution_count": null,
   "metadata": {},
   "outputs": [],
   "source": [
    "\n",
    "def forward_pass(network, data):\n",
    "  v_rec = []\n",
    "  utils.reset(net)  # resets hidden states for all LIF neurons in net\n",
    "\n",
    "  transposed_data = torch.permute(data, (1,0,2))\n",
    "\n",
    "  for step in transposed_data:  # data.size(0) = number of time steps\n",
    "      spk_out, v = network(step)\n",
    "      v_rec.append(v)\n",
    "  \n",
    "  return torch.stack(v_rec)"
   ]
  },
  {
   "cell_type": "code",
   "execution_count": null,
   "metadata": {},
   "outputs": [],
   "source": [
    "# Test set\n",
    "with torch.no_grad():\n",
    "    denominator = y_test[0]\n",
    "    test_acc = 0\n",
    "    batch_acc = []\n",
    "    for test_data, test_targets in zip(x_test, y_test):\n",
    "        net2.zero_grad()\n",
    "        # Test set forward pass\n",
    "        out_V = forward_pass(net2, test_data.to(torch.float32))\n",
    "        # Test set loss\n",
    "        batch_acc.append( acc(torch.sum(out_V, axis=0), test_targets) )\n",
    "    \n",
    "    test_acc = np.mean(batch_acc)\n",
    "\n",
    "test_acc"
   ]
  },
  {
   "cell_type": "markdown",
   "metadata": {},
   "source": [
    "As we can see, it gets about the same accuracy as it did in Spyx."
   ]
  },
  {
   "cell_type": "code",
   "execution_count": null,
   "metadata": {},
   "outputs": [],
   "source": [
    "batch_acc"
   ]
  }
 ],
 "metadata": {
  "kernelspec": {
   "display_name": "Python 3 (ipykernel)",
   "language": "python",
   "name": "python3"
  },
  "language_info": {
   "codemirror_mode": {
    "name": "ipython",
    "version": 3
   },
   "file_extension": ".py",
   "mimetype": "text/x-python",
   "name": "python",
   "nbconvert_exporter": "python",
   "pygments_lexer": "ipython3",
   "version": "3.10.12"
  }
 },
 "nbformat": 4,
 "nbformat_minor": 4
}
