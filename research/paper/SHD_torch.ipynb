{
 "cells": [
  {
   "cell_type": "code",
   "execution_count": 1,
   "metadata": {},
   "outputs": [],
   "source": [
    "import torch\n",
    "import snntorch\n",
    "device = torch.device(\"cuda\" if torch.cuda.is_available() else \"cpu\")\n",
    "torch.cuda.set_per_process_memory_fraction(0.85, device=0)\n",
    "\n",
    "\n",
    "\n",
    "import numpy as np\n",
    "\n",
    "import tonic\n",
    "from tonic import datasets, transforms\n",
    "import torchvision as tv\n",
    "from torch.utils.data import DataLoader, Subset\n",
    "from sklearn.model_selection import train_test_split\n",
    "from collections import namedtuple\n",
    "\n",
    "State = namedtuple(\"State\", \"obs labels\")\n",
    "\n"
   ]
  },
  {
   "cell_type": "code",
   "execution_count": 2,
   "metadata": {},
   "outputs": [],
   "source": [
    "class _SHD2Raster():\n",
    "    \"\"\" \n",
    "    Tool for rastering SHD samples into frames. Packs bits along the temporal axis for memory efficiency. This means\n",
    "        that the used will have to apply jnp.unpackbits(events, axis=<time axis>) prior to feeding the data to the network.\n",
    "    \"\"\"\n",
    "\n",
    "    def __init__(self, encoding_dim, sample_T = 100):\n",
    "        self.encoding_dim = encoding_dim\n",
    "        self.sample_T = sample_T\n",
    "        \n",
    "    def __call__(self, events):\n",
    "        # tensor has dimensions (time_steps, encoding_dim)\n",
    "        tensor = np.zeros((events[\"t\"].max()+1, self.encoding_dim), dtype=int)\n",
    "        np.add.at(tensor, (events[\"t\"], events[\"x\"]), 1)\n",
    "        #return tensor[:self.sample_T,:]\n",
    "        tensor = tensor[:self.sample_T,:]\n",
    "        tensor = np.minimum(tensor, 1)\n",
    "        #tensor = np.packbits(tensor, axis=0) pytorch does not have an unpack feature.\n",
    "        return tensor"
   ]
  },
  {
   "cell_type": "code",
   "execution_count": 3,
   "metadata": {},
   "outputs": [],
   "source": [
    "sample_T = 64\n",
    "shd_timestep = 1e-6\n",
    "shd_channels = 700\n",
    "net_channels = 128\n",
    "net_dt = 1/sample_T\n",
    "batch_size = 256\n",
    "\n",
    "obs_shape = tuple([net_channels,])\n",
    "act_shape = tuple([20,])\n",
    "\n",
    "transform = transforms.Compose([\n",
    "    transforms.Downsample(\n",
    "        time_factor=shd_timestep / net_dt,\n",
    "        spatial_factor=net_channels / shd_channels\n",
    "    ),\n",
    "    _SHD2Raster(net_channels, sample_T=sample_T)\n",
    "])\n",
    "\n",
    "train_dataset = datasets.SHD(\"./data\", train=True, transform=transform)\n",
    "test_dataset = datasets.SHD(\"./data\", train=False, transform=transform)\n",
    "\n"
   ]
  },
  {
   "cell_type": "code",
   "execution_count": 4,
   "metadata": {},
   "outputs": [],
   "source": [
    "train_dl = iter(DataLoader(train_dataset, batch_size=len(train_dataset),\n",
    "                          collate_fn=tonic.collation.PadTensors(batch_first=True), drop_last=True, shuffle=False))\n",
    "        \n",
    "x_train, y_train = next(train_dl)\n",
    "x_train, y_train = x_train.to(torch.uint8), y_train.to(torch.uint8)\n",
    "x_train, y_train = x_train.to(device), y_train.to(device)"
   ]
  },
  {
   "cell_type": "code",
   "execution_count": 5,
   "metadata": {},
   "outputs": [],
   "source": [
    "def shuffle(dataset):\n",
    "    x, y = dataset\n",
    "\n",
    "    cutoff = y.shape[0] % batch_size\n",
    "\n",
    "    indices = torch.randperm(y.shape[0])[:-cutoff]\n",
    "    obs, labels = x[indices], y[indices]\n",
    "\n",
    "\n",
    "    obs = torch.reshape(obs, (-1, batch_size) + obs.shape[1:])\n",
    "    labels = torch.reshape(labels, (-1, batch_size)) # should make batch size a global\n",
    "\n",
    "    return State(obs=obs, labels=labels)"
   ]
  },
  {
   "cell_type": "code",
   "execution_count": 6,
   "metadata": {},
   "outputs": [],
   "source": [
    "test_dl = iter(DataLoader(test_dataset, batch_size=len(test_dataset),\n",
    "                          collate_fn=tonic.collation.PadTensors(batch_first=True), drop_last=True, shuffle=False))\n",
    "        \n",
    "x_test, y_test = next(test_dl)\n",
    "x_test, y_test = x_test.to(torch.uint8), y_test.to(torch.uint8)\n",
    "x_test, y_test = x_test.to(device), y_test.to(device)\n",
    "x_test, y_test = shuffle((x_test, y_test))"
   ]
  },
  {
   "cell_type": "code",
   "execution_count": 7,
   "metadata": {},
   "outputs": [],
   "source": [
    "num_hidden = 64\n",
    "# Define Network\n",
    "class Net(torch.nn.Module):\n",
    "    def __init__(self):\n",
    "        super().__init__()\n",
    "\n",
    "        # Initialize layers\n",
    "        self.fc1 = torch.nn.Linear(128, num_hidden)\n",
    "        self.lif1 = snntorch.Leaky(beta=torch.ones(num_hidden)*0.5, learn_beta=True)\n",
    "        self.fc2 = torch.nn.Linear(num_hidden, num_hidden)\n",
    "        self.lif2 = snntorch.Leaky(beta=torch.ones(num_hidden)*0.5, learn_beta=True)\n",
    "        self.fc3 = torch.nn.Linear(num_hidden, 20)\n",
    "        self.lif3 = snntorch.Leaky(beta=torch.ones(20)*0.5, learn_beta=True, threshold=10e6)\n",
    "\n",
    "    def forward(self, x):\n",
    "\n",
    "        x = x.float() # [batch, time, channel]\n",
    "        \n",
    "        x = x.permute(1,0,2) # [time, batch, channel]\n",
    "        # Initialize hidden states at t=0\n",
    "        mem1 = self.lif1.init_leaky()\n",
    "        mem2 = self.lif2.init_leaky()\n",
    "        mem3 = self.lif3.init_leaky()\n",
    "        \n",
    "        V = []\n",
    "\n",
    "        # need to fix since data is not time leading axis...\n",
    "        for i, step in enumerate(x):\n",
    "            cur1 = self.fc1(step)\n",
    "            spk1, mem1 = self.lif1(cur1, mem1)\n",
    "            cur2 = self.fc2(spk1)\n",
    "            spk2, mem2 = self.lif2(cur2, mem2)\n",
    "            cur3 = self.fc3(spk2)\n",
    "            spk3, mem3 = self.lif3(cur3, mem3)\n",
    "            \n",
    "            V.append(mem3)\n",
    "\n",
    "        \n",
    "        return torch.stack(V, axis=0).permute(1,0,2)\n",
    "        \n",
    "# Load the network onto CUDA if available\n",
    "net = Net().to(device)"
   ]
  },
  {
   "cell_type": "code",
   "execution_count": 8,
   "metadata": {},
   "outputs": [],
   "source": [
    "loss = torch.nn.CrossEntropyLoss(label_smoothing=0.3)\n",
    "optimizer = torch.optim.Adam(net.parameters(), lr=5e-4)\n",
    "acc = lambda predictions, targets : (torch.argmax(predictions, axis=-1) == targets).sum().item() / len(targets)"
   ]
  },
  {
   "cell_type": "code",
   "execution_count": 78,
   "metadata": {},
   "outputs": [
    {
     "ename": "KeyboardInterrupt",
     "evalue": "",
     "output_type": "error",
     "traceback": [
      "\u001b[0;31m---------------------------------------------------------------------------\u001b[0m",
      "\u001b[0;31mKeyboardInterrupt\u001b[0m                         Traceback (most recent call last)",
      "\u001b[0;32m/tmp/ipykernel_15248/2261976999.py\u001b[0m in \u001b[0;36m<module>\u001b[0;34m\u001b[0m\n\u001b[1;32m     16\u001b[0m         \u001b[0;31m# forward pass\u001b[0m\u001b[0;34m\u001b[0m\u001b[0;34m\u001b[0m\u001b[0m\n\u001b[1;32m     17\u001b[0m         \u001b[0mnet\u001b[0m\u001b[0;34m.\u001b[0m\u001b[0mtrain\u001b[0m\u001b[0;34m(\u001b[0m\u001b[0;34m)\u001b[0m\u001b[0;34m\u001b[0m\u001b[0;34m\u001b[0m\u001b[0m\n\u001b[0;32m---> 18\u001b[0;31m         \u001b[0mout_V\u001b[0m \u001b[0;34m=\u001b[0m \u001b[0mnet\u001b[0m\u001b[0;34m(\u001b[0m\u001b[0mdata\u001b[0m\u001b[0;34m)\u001b[0m\u001b[0;34m\u001b[0m\u001b[0;34m\u001b[0m\u001b[0m\n\u001b[0m\u001b[1;32m     19\u001b[0m         \u001b[0;31m# initialize the loss & sum over time\u001b[0m\u001b[0;34m\u001b[0m\u001b[0;34m\u001b[0m\u001b[0m\n\u001b[1;32m     20\u001b[0m         \u001b[0mloss_val\u001b[0m \u001b[0;34m=\u001b[0m \u001b[0mloss\u001b[0m\u001b[0;34m(\u001b[0m\u001b[0mtorch\u001b[0m\u001b[0;34m.\u001b[0m\u001b[0msum\u001b[0m\u001b[0;34m(\u001b[0m\u001b[0mout_V\u001b[0m\u001b[0;34m,\u001b[0m \u001b[0maxis\u001b[0m\u001b[0;34m=\u001b[0m\u001b[0;34m-\u001b[0m\u001b[0;36m2\u001b[0m\u001b[0;34m)\u001b[0m\u001b[0;34m,\u001b[0m \u001b[0mtargets\u001b[0m\u001b[0;34m)\u001b[0m\u001b[0;34m\u001b[0m\u001b[0;34m\u001b[0m\u001b[0m\n",
      "\u001b[0;32m~/.local/lib/python3.10/site-packages/torch/nn/modules/module.py\u001b[0m in \u001b[0;36m_call_impl\u001b[0;34m(self, *args, **kwargs)\u001b[0m\n\u001b[1;32m   1499\u001b[0m                 \u001b[0;32mor\u001b[0m \u001b[0m_global_backward_pre_hooks\u001b[0m \u001b[0;32mor\u001b[0m \u001b[0m_global_backward_hooks\u001b[0m\u001b[0;34m\u001b[0m\u001b[0;34m\u001b[0m\u001b[0m\n\u001b[1;32m   1500\u001b[0m                 or _global_forward_hooks or _global_forward_pre_hooks):\n\u001b[0;32m-> 1501\u001b[0;31m             \u001b[0;32mreturn\u001b[0m \u001b[0mforward_call\u001b[0m\u001b[0;34m(\u001b[0m\u001b[0;34m*\u001b[0m\u001b[0margs\u001b[0m\u001b[0;34m,\u001b[0m \u001b[0;34m**\u001b[0m\u001b[0mkwargs\u001b[0m\u001b[0;34m)\u001b[0m\u001b[0;34m\u001b[0m\u001b[0;34m\u001b[0m\u001b[0m\n\u001b[0m\u001b[1;32m   1502\u001b[0m         \u001b[0;31m# Do not call functions when jit is used\u001b[0m\u001b[0;34m\u001b[0m\u001b[0;34m\u001b[0m\u001b[0m\n\u001b[1;32m   1503\u001b[0m         \u001b[0mfull_backward_hooks\u001b[0m\u001b[0;34m,\u001b[0m \u001b[0mnon_full_backward_hooks\u001b[0m \u001b[0;34m=\u001b[0m \u001b[0;34m[\u001b[0m\u001b[0;34m]\u001b[0m\u001b[0;34m,\u001b[0m \u001b[0;34m[\u001b[0m\u001b[0;34m]\u001b[0m\u001b[0;34m\u001b[0m\u001b[0;34m\u001b[0m\u001b[0m\n",
      "\u001b[0;32m/tmp/ipykernel_15248/2671668009.py\u001b[0m in \u001b[0;36mforward\u001b[0;34m(self, x)\u001b[0m\n\u001b[1;32m     28\u001b[0m         \u001b[0;32mfor\u001b[0m \u001b[0mi\u001b[0m\u001b[0;34m,\u001b[0m \u001b[0mstep\u001b[0m \u001b[0;32min\u001b[0m \u001b[0menumerate\u001b[0m\u001b[0;34m(\u001b[0m\u001b[0mx\u001b[0m\u001b[0;34m)\u001b[0m\u001b[0;34m:\u001b[0m\u001b[0;34m\u001b[0m\u001b[0;34m\u001b[0m\u001b[0m\n\u001b[1;32m     29\u001b[0m             \u001b[0mcur1\u001b[0m \u001b[0;34m=\u001b[0m \u001b[0mself\u001b[0m\u001b[0;34m.\u001b[0m\u001b[0mfc1\u001b[0m\u001b[0;34m(\u001b[0m\u001b[0mstep\u001b[0m\u001b[0;34m)\u001b[0m\u001b[0;34m\u001b[0m\u001b[0;34m\u001b[0m\u001b[0m\n\u001b[0;32m---> 30\u001b[0;31m             \u001b[0mspk1\u001b[0m\u001b[0;34m,\u001b[0m \u001b[0mmem1\u001b[0m \u001b[0;34m=\u001b[0m \u001b[0mself\u001b[0m\u001b[0;34m.\u001b[0m\u001b[0mlif1\u001b[0m\u001b[0;34m(\u001b[0m\u001b[0mcur1\u001b[0m\u001b[0;34m,\u001b[0m \u001b[0mmem1\u001b[0m\u001b[0;34m)\u001b[0m\u001b[0;34m\u001b[0m\u001b[0;34m\u001b[0m\u001b[0m\n\u001b[0m\u001b[1;32m     31\u001b[0m             \u001b[0mcur2\u001b[0m \u001b[0;34m=\u001b[0m \u001b[0mself\u001b[0m\u001b[0;34m.\u001b[0m\u001b[0mfc2\u001b[0m\u001b[0;34m(\u001b[0m\u001b[0mspk1\u001b[0m\u001b[0;34m)\u001b[0m\u001b[0;34m\u001b[0m\u001b[0;34m\u001b[0m\u001b[0m\n\u001b[1;32m     32\u001b[0m             \u001b[0mspk2\u001b[0m\u001b[0;34m,\u001b[0m \u001b[0mmem2\u001b[0m \u001b[0;34m=\u001b[0m \u001b[0mself\u001b[0m\u001b[0;34m.\u001b[0m\u001b[0mlif2\u001b[0m\u001b[0;34m(\u001b[0m\u001b[0mcur2\u001b[0m\u001b[0;34m,\u001b[0m \u001b[0mmem2\u001b[0m\u001b[0;34m)\u001b[0m\u001b[0;34m\u001b[0m\u001b[0;34m\u001b[0m\u001b[0m\n",
      "\u001b[0;32m~/.local/lib/python3.10/site-packages/torch/nn/modules/module.py\u001b[0m in \u001b[0;36m_call_impl\u001b[0;34m(self, *args, **kwargs)\u001b[0m\n\u001b[1;32m   1499\u001b[0m                 \u001b[0;32mor\u001b[0m \u001b[0m_global_backward_pre_hooks\u001b[0m \u001b[0;32mor\u001b[0m \u001b[0m_global_backward_hooks\u001b[0m\u001b[0;34m\u001b[0m\u001b[0;34m\u001b[0m\u001b[0m\n\u001b[1;32m   1500\u001b[0m                 or _global_forward_hooks or _global_forward_pre_hooks):\n\u001b[0;32m-> 1501\u001b[0;31m             \u001b[0;32mreturn\u001b[0m \u001b[0mforward_call\u001b[0m\u001b[0;34m(\u001b[0m\u001b[0;34m*\u001b[0m\u001b[0margs\u001b[0m\u001b[0;34m,\u001b[0m \u001b[0;34m**\u001b[0m\u001b[0mkwargs\u001b[0m\u001b[0;34m)\u001b[0m\u001b[0;34m\u001b[0m\u001b[0;34m\u001b[0m\u001b[0m\n\u001b[0m\u001b[1;32m   1502\u001b[0m         \u001b[0;31m# Do not call functions when jit is used\u001b[0m\u001b[0;34m\u001b[0m\u001b[0;34m\u001b[0m\u001b[0m\n\u001b[1;32m   1503\u001b[0m         \u001b[0mfull_backward_hooks\u001b[0m\u001b[0;34m,\u001b[0m \u001b[0mnon_full_backward_hooks\u001b[0m \u001b[0;34m=\u001b[0m \u001b[0;34m[\u001b[0m\u001b[0;34m]\u001b[0m\u001b[0;34m,\u001b[0m \u001b[0;34m[\u001b[0m\u001b[0;34m]\u001b[0m\u001b[0;34m\u001b[0m\u001b[0;34m\u001b[0m\u001b[0m\n",
      "\u001b[0;32m~/.local/lib/python3.10/site-packages/snntorch/_neurons/leaky.py\u001b[0m in \u001b[0;36mforward\u001b[0;34m(self, input_, mem)\u001b[0m\n\u001b[1;32m    179\u001b[0m         \u001b[0;32mif\u001b[0m \u001b[0;32mnot\u001b[0m \u001b[0mself\u001b[0m\u001b[0;34m.\u001b[0m\u001b[0minit_hidden\u001b[0m\u001b[0;34m:\u001b[0m\u001b[0;34m\u001b[0m\u001b[0;34m\u001b[0m\u001b[0m\n\u001b[1;32m    180\u001b[0m             \u001b[0mself\u001b[0m\u001b[0;34m.\u001b[0m\u001b[0mreset\u001b[0m \u001b[0;34m=\u001b[0m \u001b[0mself\u001b[0m\u001b[0;34m.\u001b[0m\u001b[0mmem_reset\u001b[0m\u001b[0;34m(\u001b[0m\u001b[0mmem\u001b[0m\u001b[0;34m)\u001b[0m\u001b[0;34m\u001b[0m\u001b[0;34m\u001b[0m\u001b[0m\n\u001b[0;32m--> 181\u001b[0;31m             \u001b[0mmem\u001b[0m \u001b[0;34m=\u001b[0m \u001b[0mself\u001b[0m\u001b[0;34m.\u001b[0m\u001b[0m_build_state_function\u001b[0m\u001b[0;34m(\u001b[0m\u001b[0minput_\u001b[0m\u001b[0;34m,\u001b[0m \u001b[0mmem\u001b[0m\u001b[0;34m)\u001b[0m\u001b[0;34m\u001b[0m\u001b[0;34m\u001b[0m\u001b[0m\n\u001b[0m\u001b[1;32m    182\u001b[0m \u001b[0;34m\u001b[0m\u001b[0m\n\u001b[1;32m    183\u001b[0m             \u001b[0;32mif\u001b[0m \u001b[0mself\u001b[0m\u001b[0;34m.\u001b[0m\u001b[0mstate_quant\u001b[0m\u001b[0;34m:\u001b[0m\u001b[0;34m\u001b[0m\u001b[0;34m\u001b[0m\u001b[0m\n",
      "\u001b[0;32m~/.local/lib/python3.10/site-packages/snntorch/_neurons/leaky.py\u001b[0m in \u001b[0;36m_build_state_function\u001b[0;34m(self, input_, mem)\u001b[0m\n\u001b[1;32m    218\u001b[0m         \u001b[0;32mif\u001b[0m \u001b[0mself\u001b[0m\u001b[0;34m.\u001b[0m\u001b[0mreset_mechanism_val\u001b[0m \u001b[0;34m==\u001b[0m \u001b[0;36m0\u001b[0m\u001b[0;34m:\u001b[0m  \u001b[0;31m# reset by subtraction\u001b[0m\u001b[0;34m\u001b[0m\u001b[0;34m\u001b[0m\u001b[0m\n\u001b[1;32m    219\u001b[0m             state_fn = self._base_state_function(\n\u001b[0;32m--> 220\u001b[0;31m                 \u001b[0minput_\u001b[0m\u001b[0;34m,\u001b[0m \u001b[0mmem\u001b[0m \u001b[0;34m-\u001b[0m \u001b[0mself\u001b[0m\u001b[0;34m.\u001b[0m\u001b[0mreset\u001b[0m \u001b[0;34m*\u001b[0m \u001b[0mself\u001b[0m\u001b[0;34m.\u001b[0m\u001b[0mthreshold\u001b[0m\u001b[0;34m\u001b[0m\u001b[0;34m\u001b[0m\u001b[0m\n\u001b[0m\u001b[1;32m    221\u001b[0m             )\n\u001b[1;32m    222\u001b[0m         \u001b[0;32melif\u001b[0m \u001b[0mself\u001b[0m\u001b[0;34m.\u001b[0m\u001b[0mreset_mechanism_val\u001b[0m \u001b[0;34m==\u001b[0m \u001b[0;36m1\u001b[0m\u001b[0;34m:\u001b[0m  \u001b[0;31m# reset to zero\u001b[0m\u001b[0;34m\u001b[0m\u001b[0;34m\u001b[0m\u001b[0m\n",
      "\u001b[0;32m~/.local/lib/python3.10/site-packages/torch/nn/modules/module.py\u001b[0m in \u001b[0;36m__getattr__\u001b[0;34m(self, name)\u001b[0m\n\u001b[1;32m   1599\u001b[0m             \u001b[0mself\u001b[0m\u001b[0;34m.\u001b[0m\u001b[0m_backward_pre_hooks\u001b[0m \u001b[0;34m=\u001b[0m \u001b[0mOrderedDict\u001b[0m\u001b[0;34m(\u001b[0m\u001b[0;34m)\u001b[0m\u001b[0;34m\u001b[0m\u001b[0;34m\u001b[0m\u001b[0m\n\u001b[1;32m   1600\u001b[0m \u001b[0;34m\u001b[0m\u001b[0m\n\u001b[0;32m-> 1601\u001b[0;31m     \u001b[0;32mdef\u001b[0m \u001b[0m__getattr__\u001b[0m\u001b[0;34m(\u001b[0m\u001b[0mself\u001b[0m\u001b[0;34m,\u001b[0m \u001b[0mname\u001b[0m\u001b[0;34m:\u001b[0m \u001b[0mstr\u001b[0m\u001b[0;34m)\u001b[0m \u001b[0;34m->\u001b[0m \u001b[0mUnion\u001b[0m\u001b[0;34m[\u001b[0m\u001b[0mTensor\u001b[0m\u001b[0;34m,\u001b[0m \u001b[0;34m'Module'\u001b[0m\u001b[0;34m]\u001b[0m\u001b[0;34m:\u001b[0m\u001b[0;34m\u001b[0m\u001b[0;34m\u001b[0m\u001b[0m\n\u001b[0m\u001b[1;32m   1602\u001b[0m         \u001b[0;32mif\u001b[0m \u001b[0;34m'_parameters'\u001b[0m \u001b[0;32min\u001b[0m \u001b[0mself\u001b[0m\u001b[0;34m.\u001b[0m\u001b[0m__dict__\u001b[0m\u001b[0;34m:\u001b[0m\u001b[0;34m\u001b[0m\u001b[0;34m\u001b[0m\u001b[0m\n\u001b[1;32m   1603\u001b[0m             \u001b[0m_parameters\u001b[0m \u001b[0;34m=\u001b[0m \u001b[0mself\u001b[0m\u001b[0;34m.\u001b[0m\u001b[0m__dict__\u001b[0m\u001b[0;34m[\u001b[0m\u001b[0;34m'_parameters'\u001b[0m\u001b[0;34m]\u001b[0m\u001b[0;34m\u001b[0m\u001b[0;34m\u001b[0m\u001b[0m\n",
      "\u001b[0;31mKeyboardInterrupt\u001b[0m: "
     ]
    }
   ],
   "source": [
    "num_epochs = 300\n",
    "loss_hist = []\n",
    "counter = 0\n",
    "\n",
    "\n",
    "# Outer training loop\n",
    "for epoch in range(num_epochs):    \n",
    "    \n",
    "    train_batch = shuffle((x_train, y_train))\n",
    "    train_data, targets = train_batch\n",
    "    \n",
    "    \n",
    "    # Minibatch training loop\n",
    "    for data, targets in zip(train_data, targets):\n",
    "\n",
    "        # forward pass\n",
    "        net.train()\n",
    "        out_V = net(data)\n",
    "        # initialize the loss & sum over time\n",
    "        loss_val = loss(torch.sum(out_V, axis=-2), targets)\n",
    "\n",
    "        # Gradient calculation + weight update\n",
    "        optimizer.zero_grad()\n",
    "        loss_val.backward()\n",
    "        optimizer.step()\n",
    "\n",
    "    # Store loss history for future plotting\n",
    "    loss_hist.append(loss_val.item())\n",
    "\n",
    "\n",
    "# Test set\n",
    "with torch.no_grad():\n",
    "    denominator = y_test[0]\n",
    "    test_acc = 0\n",
    "    batch_acc = []\n",
    "    for test_data, test_targets in zip(x_test, y_test):\n",
    "        net.eval()\n",
    "        # Test set forward pass\n",
    "        out_V = net(test_data)\n",
    "        # Test set loss\n",
    "        batch_acc.append( acc(torch.sum(out_V, axis=-2), test_targets) )\n",
    "    \n",
    "    test_acc = np.mean(batch_acc)\n"
   ]
  },
  {
   "cell_type": "code",
   "execution_count": 10,
   "metadata": {},
   "outputs": [
    {
     "data": {
      "text/plain": [
       "0.767578125"
      ]
     },
     "execution_count": 10,
     "metadata": {},
     "output_type": "execute_result"
    }
   ],
   "source": [
    "test_acc"
   ]
  },
  {
   "cell_type": "markdown",
   "metadata": {},
   "source": [
    "### Using NIR to load a network from Spyx in snnTorch:\n",
    "\n",
    "The following code is boiler plate until snnTorch merges support for importing from NIR."
   ]
  },
  {
   "cell_type": "code",
   "execution_count": 105,
   "metadata": {},
   "outputs": [],
   "source": [
    "import snntorch as snn\n",
    "import numpy as np\n",
    "import torch\n",
    "import nir\n",
    "import typing\n",
    "\n",
    "\n",
    "# TODO: implement this?\n",
    "class ImportedNetwork(torch.nn.Module):\n",
    "    \"\"\"Wrapper for a snnTorch network. NOTE: not working atm.\"\"\"\n",
    "    def __init__(self, module_list):\n",
    "        super().__init__()\n",
    "        self.module_list = module_list\n",
    "\n",
    "    def forward(self, x):\n",
    "        for module in self.module_list:\n",
    "            x = module(x)\n",
    "        return x\n",
    "\n",
    "\n",
    "def create_snntorch_network(module_list):\n",
    "    return torch.nn.Sequential(*module_list)\n",
    "\n",
    "\n",
    "def _lif_to_snntorch_module(\n",
    "        lif: typing.Union[nir.LIF, nir.CubaLIF]\n",
    ") -> torch.nn.Module:\n",
    "    \"\"\"Parse a LIF node into snnTorch.\"\"\"\n",
    "    if isinstance(lif, nir.LIF):\n",
    "        assert np.alltrue(lif.v_leak == 0), 'v_leak not supported'\n",
    "        assert np.allclose(lif.r , 1. - 1. / lif.tau), 'r not supported'\n",
    "        assert np.unique(lif.v_threshold).size == 1, 'v_threshold must be same for all neurons'\n",
    "        threshold = lif.v_threshold[0]\n",
    "        mod = snn.Leaky(\n",
    "            beta=1. - 1. / lif.tau,\n",
    "            threshold=threshold,\n",
    "            reset_mechanism='subtract',\n",
    "            init_hidden=True,\n",
    "        )\n",
    "        return mod\n",
    "\n",
    "    elif isinstance(lif, nir.LI):\n",
    "        assert np.alltrue(lif.v_leak == 0), 'v_leak not supported'\n",
    "        assert np.allclose(lif.r , 1. - 1. / lif.tau), 'r not supported'\n",
    "        mod = snn.Leaky(\n",
    "            beta=1. - 1. / lif.tau,\n",
    "            reset_mechanism='none',\n",
    "            init_hidden=True,\n",
    "            output=True,\n",
    "        )\n",
    "        return mod\n",
    "\n",
    "    elif isinstance(lif, nir.CubaLIF):\n",
    "        assert np.alltrue(lif.v_leak == 0), 'v_leak not supported'\n",
    "        assert np.alltrue(lif.r == 1. - 1. / lif.tau_mem), 'r not supported'  # NOTE: is this right?\n",
    "        assert np.unique(lif.v_threshold).size == 1, 'v_threshold must be same for all neurons'\n",
    "        threshold = lif.v_threshold[0]\n",
    "        mod = snn.RSynaptic(\n",
    "            alpha=1. - 1. / lif.tau_syn,\n",
    "            beta=1. - 1. / lif.tau_mem,\n",
    "            threshold=threshold,\n",
    "            all_to_all=True,\n",
    "            reset_mechanism='zero',\n",
    "            linear_features=lif.tau_mem.shape[0] if len(lif.tau_mem.shape) == 1 else None,\n",
    "            init_hidden=True,\n",
    "        )\n",
    "        return mod\n",
    "\n",
    "    else:\n",
    "        raise ValueError('called _lif_to_snntorch_module on non-LIF node')\n",
    "\n",
    "\n",
    "def _to_snntorch_module(node: nir.NIRNode) -> torch.nn.Module:\n",
    "    \"\"\"Convert a NIR node to a snnTorch module.\n",
    "\n",
    "    Supported NIR nodes: Affine.\n",
    "    \"\"\"\n",
    "    if isinstance(node, (nir.LIF, nir.CubaLIF, nir.LI)):\n",
    "        return _lif_to_snntorch_module(node)\n",
    "\n",
    "    elif isinstance(node, (nir.Affine, nir.Linear)):\n",
    "        if len(node.weight.shape) != 2:\n",
    "            raise NotImplementedError('only 2D weight matrices are supported')\n",
    "        \n",
    "        linear = torch.nn.Linear(node.weight.shape[1], node.weight.shape[0], bias=False)\n",
    "        linear.weight.data = torch.Tensor(node.weight.T)\n",
    "        \n",
    "        return linear\n",
    "\n",
    "    else:\n",
    "        raise NotImplementedError(f'node type {type(node).__name__} not supported')\n",
    "\n",
    "\n",
    "def _rnn_subgraph_to_snntorch_module(\n",
    "        lif: typing.Union[nir.LIF, nir.CubaLIF], w_rec: typing.Union[nir.Affine, nir.Linear]\n",
    ") -> torch.nn.Module:\n",
    "    \"\"\"Parse an RNN subgraph consisting of a LIF node and a recurrent weight matrix into snnTorch.\n",
    "\n",
    "    NOTE: for now always set it as a recurrent linear layer (not RecurrentOneToOne)\n",
    "    \"\"\"\n",
    "    assert isinstance(lif, (nir.LIF, nir.CubaLIF)), 'only LIF or CubaLIF nodes supported as RNNs'\n",
    "    mod = _lif_to_snntorch_module(lif)\n",
    "    mod.recurrent.weight.data = torch.Tensor(w_rec.weight)\n",
    "    if isinstance(w_rec, nir.Linear):\n",
    "        mod.recurrent.register_parameter('bias', None)\n",
    "        mod.recurrent.reset_parameters()\n",
    "    else:\n",
    "        mod.recurrent.bias.data = torch.Tensor(w_rec.bias)\n",
    "    return mod\n",
    "\n",
    "\n",
    "def _get_next_node_key(node_key: str, graph: nir.ir.NIRGraph):\n",
    "    \"\"\"Get the next node key in the NIR graph.\"\"\"\n",
    "    possible_next_node_keys = [edge[1] for edge in graph.edges if edge[0] == node_key]\n",
    "    # possible_next_node_keys += [edge[1] + '.input' for edge in graph.edges if edge[0] == node_key]\n",
    "    assert len(possible_next_node_keys) <= 1, 'branching networks are not supported'\n",
    "    if len(possible_next_node_keys) == 0:\n",
    "        return None\n",
    "    else:\n",
    "        return possible_next_node_keys[0]\n",
    "\n",
    "\n",
    "def from_nir(graph: nir.ir.NIRGraph) -> torch.nn.Module:\n",
    "    \"\"\"Convert NIR graph to snnTorch module.\n",
    "\n",
    "    :param graph: a saved snnTorch model as a parameter dictionary\n",
    "    :type graph: nir.ir.NIRGraph\n",
    "\n",
    "    :return: snnTorch module\n",
    "    :rtype: torch.nn.Module\n",
    "    \"\"\"\n",
    "    node_key = 'input'\n",
    "    visited_node_keys = [node_key]\n",
    "    module_list = []\n",
    "\n",
    "    while _get_next_node_key(node_key, graph) is not None:\n",
    "        node_key = _get_next_node_key(node_key, graph)\n",
    "\n",
    "        assert node_key not in visited_node_keys, 'cyclic NIR graphs not supported'\n",
    "\n",
    "        if node_key == 'output':\n",
    "            visited_node_keys.append(node_key)\n",
    "            continue\n",
    "\n",
    "        if node_key in graph.nodes:\n",
    "            visited_node_keys.append(node_key)\n",
    "            node = graph.nodes[node_key]\n",
    "            print(f'simple node {node_key}: {type(node).__name__}')\n",
    "            module = _to_snntorch_module(node)\n",
    "        else:\n",
    "            # check if it's a nested node\n",
    "            print(f'potential subgraph node: {node_key}')\n",
    "            sub_node_keys = [n for n in graph.nodes if n.startswith(f'{node_key}.')]\n",
    "            assert len(sub_node_keys) > 0, f'no nodes found for subgraph {node_key}'\n",
    "\n",
    "            # parse subgraph\n",
    "            # NOTE: for now only looking for RNN subgraphs\n",
    "            rnn_sub_node_keys = [f'{node_key}.{n}' for n in ['input', 'output', 'lif', 'w_rec']]\n",
    "            if set(sub_node_keys) != set(rnn_sub_node_keys):\n",
    "                raise NotImplementedError('only RNN subgraphs are supported')\n",
    "            print('found RNN subgraph')\n",
    "            module = _rnn_subgraph_to_snntorch_module(\n",
    "                graph.nodes[f'{node_key}.lif'], graph.nodes[f'{node_key}.w_rec']\n",
    "            )\n",
    "            for nk in sub_node_keys:\n",
    "                visited_node_keys.append(nk)\n",
    "\n",
    "        module_list.append(module)\n",
    "\n",
    "    if len(visited_node_keys) != len(graph.nodes):\n",
    "        print(graph.nodes.keys(), visited_node_keys)\n",
    "        raise ValueError('not all nodes visited')\n",
    "\n",
    "    return create_snntorch_network(module_list)"
   ]
  },
  {
   "cell_type": "code",
   "execution_count": 106,
   "metadata": {},
   "outputs": [
    {
     "data": {
      "text/plain": [
       "dict_keys(['LI', 'LIF', 'LIF_1', 'input', 'linear', 'linear_1', 'linear_2', 'output'])"
      ]
     },
     "execution_count": 106,
     "metadata": {},
     "output_type": "execute_result"
    }
   ],
   "source": [
    "G = nir.read(\"./spyx_shd.nir\")"
   ]
  },
  {
   "cell_type": "code",
   "execution_count": 110,
   "metadata": {},
   "outputs": [
    {
     "name": "stdout",
     "output_type": "stream",
     "text": [
      "simple node linear: Linear\n",
      "simple node LIF: LIF\n",
      "simple node linear_1: Linear\n",
      "simple node LIF_1: LIF\n",
      "simple node linear_2: Linear\n",
      "simple node LI: LI\n"
     ]
    },
    {
     "name": "stderr",
     "output_type": "stream",
     "text": [
      "/tmp/ipykernel_15248/3406107150.py:79: DeprecationWarning: `alltrue` is deprecated as of NumPy 1.25.0, and will be removed in NumPy 2.0. Please use `all` instead.\n",
      "  return _lif_to_snntorch_module(node)\n"
     ]
    }
   ],
   "source": [
    "net2 = from_nir(G).to(device)"
   ]
  },
  {
   "cell_type": "code",
   "execution_count": 121,
   "metadata": {},
   "outputs": [],
   "source": [
    "from snntorch import utils\n",
    "\n",
    "def forward_pass(network, data):\n",
    "  v_rec = []\n",
    "  utils.reset(net)  # resets hidden states for all LIF neurons in net\n",
    "\n",
    "  transposed_data = torch.permute(data, (1,0,2))\n",
    "\n",
    "  for step in transposed_data:  # data.size(0) = number of time steps\n",
    "      spk_out, v = network(step)\n",
    "      v_rec.append(v)\n",
    "  \n",
    "  return torch.stack(v_rec)"
   ]
  },
  {
   "cell_type": "code",
   "execution_count": 125,
   "metadata": {},
   "outputs": [
    {
     "data": {
      "text/plain": [
       "0.7431640625"
      ]
     },
     "execution_count": 125,
     "metadata": {},
     "output_type": "execute_result"
    }
   ],
   "source": [
    "# Test set\n",
    "with torch.no_grad():\n",
    "    denominator = y_test[0]\n",
    "    test_acc = 0\n",
    "    batch_acc = []\n",
    "    for test_data, test_targets in zip(x_test, y_test):\n",
    "        net2.zero_grad()\n",
    "        # Test set forward pass\n",
    "        out_V = forward_pass(net2, test_data.to(torch.float32))\n",
    "        # Test set loss\n",
    "        batch_acc.append( acc(torch.sum(out_V, axis=0), test_targets) )\n",
    "    \n",
    "    test_acc = np.mean(batch_acc)\n",
    "\n",
    "test_acc"
   ]
  },
  {
   "cell_type": "markdown",
   "metadata": {},
   "source": [
    "As we can see, it gets about the same accuracy as it did in Spyx."
   ]
  },
  {
   "cell_type": "code",
   "execution_count": 128,
   "metadata": {},
   "outputs": [
    {
     "data": {
      "text/plain": [
       "[0.71875,\n",
       " 0.76171875,\n",
       " 0.73828125,\n",
       " 0.7109375,\n",
       " 0.73046875,\n",
       " 0.7578125,\n",
       " 0.75,\n",
       " 0.77734375]"
      ]
     },
     "execution_count": 128,
     "metadata": {},
     "output_type": "execute_result"
    }
   ],
   "source": [
    "batch_acc"
   ]
  }
 ],
 "metadata": {
  "kernelspec": {
   "display_name": "Python 3",
   "language": "python",
   "name": "python3"
  },
  "language_info": {
   "codemirror_mode": {
    "name": "ipython",
    "version": 3
   },
   "file_extension": ".py",
   "mimetype": "text/x-python",
   "name": "python",
   "nbconvert_exporter": "python",
   "pygments_lexer": "ipython3",
   "version": "3.10.12"
  }
 },
 "nbformat": 4,
 "nbformat_minor": 2
}
