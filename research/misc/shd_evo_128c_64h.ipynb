{
 "cells": [
  {
   "cell_type": "markdown",
   "id": "fd3a7575",
   "metadata": {},
   "source": [
    "# Training an SNN using surrogate gradients!\n",
    "\n",
    "Train your first SNN in JAX in less than 10 minutes without needing a heavy-duty GPU!"
   ]
  },
  {
   "cell_type": "code",
   "execution_count": 1,
   "id": "f2219523-517f-44bb-9b08-207d57540d61",
   "metadata": {
    "execution": {
     "iopub.execute_input": "2023-08-22T11:13:09.355990Z",
     "iopub.status.busy": "2023-08-22T11:13:09.355724Z",
     "iopub.status.idle": "2023-08-22T11:13:10.751215Z",
     "shell.execute_reply": "2023-08-22T11:13:10.750536Z",
     "shell.execute_reply.started": "2023-08-22T11:13:09.355969Z"
    }
   },
   "outputs": [
    {
     "data": {
      "text/plain": [
       "Array([12.34, 24.68, 37.02], dtype=float32, weak_type=True)"
      ]
     },
     "execution_count": 1,
     "metadata": {},
     "output_type": "execute_result"
    }
   ],
   "source": [
    "import jax.numpy as jnp\n",
    "warmup = jnp.array([1,2,3])\n",
    "warmup * 12.34"
   ]
  },
  {
   "cell_type": "code",
   "execution_count": 2,
   "id": "3cf6fa71",
   "metadata": {
    "execution": {
     "iopub.execute_input": "2023-08-22T11:13:13.119898Z",
     "iopub.status.busy": "2023-08-22T11:13:13.119537Z",
     "iopub.status.idle": "2023-08-22T11:13:15.176804Z",
     "shell.execute_reply": "2023-08-22T11:13:15.176241Z",
     "shell.execute_reply.started": "2023-08-22T11:13:13.119869Z"
    }
   },
   "outputs": [],
   "source": [
    "import spyx\n",
    "import spyx.nn as snn\n",
    "\n",
    "# JAX imports\n",
    "\n",
    "import jax\n",
    "from jax import numpy as jnp\n",
    "import jmp\n",
    "import numpy as np\n",
    "\n",
    "from jax_tqdm import scan_tqdm\n",
    "from tqdm import tqdm\n",
    "\n",
    "# implement our SNN in DeepMind's Haiku\n",
    "import haiku as hk\n",
    "\n",
    "# for surrogate loss training.\n",
    "import evosax\n",
    "from evosax.strategies import CR_FM_NES as CRFMNES\n",
    "\n",
    "from evosax import FitnessShaper\n",
    "\n",
    "# rendering tools\n",
    "import matplotlib.pyplot as plt\n",
    "from sklearn.metrics import confusion_matrix, ConfusionMatrixDisplay\n",
    "%matplotlib notebook"
   ]
  },
  {
   "cell_type": "markdown",
   "id": "f4e9402d",
   "metadata": {},
   "source": [
    "## Set Mixed Precision Policy"
   ]
  },
  {
   "cell_type": "code",
   "execution_count": 3,
   "id": "9bfdcd58",
   "metadata": {
    "execution": {
     "iopub.execute_input": "2023-08-22T11:13:18.109346Z",
     "iopub.status.busy": "2023-08-22T11:13:18.108957Z",
     "iopub.status.idle": "2023-08-22T11:13:18.226457Z",
     "shell.execute_reply": "2023-08-22T11:13:18.225677Z",
     "shell.execute_reply.started": "2023-08-22T11:13:18.109324Z"
    }
   },
   "outputs": [],
   "source": [
    "policy = jmp.get_policy('half')\n",
    "\n",
    "\n",
    "hk.mixed_precision.set_policy(hk.Linear, policy)\n",
    "hk.mixed_precision.set_policy(snn.ALIF, policy)\n",
    "hk.mixed_precision.set_policy(snn.LIF, policy)"
   ]
  },
  {
   "cell_type": "markdown",
   "id": "95bf2a89",
   "metadata": {},
   "source": [
    "## Data Loading"
   ]
  },
  {
   "cell_type": "code",
   "execution_count": 4,
   "id": "6573ba59",
   "metadata": {
    "execution": {
     "iopub.execute_input": "2023-08-22T11:13:19.533696Z",
     "iopub.status.busy": "2023-08-22T11:13:19.533398Z",
     "iopub.status.idle": "2023-08-22T11:14:08.094856Z",
     "shell.execute_reply": "2023-08-22T11:14:08.093980Z",
     "shell.execute_reply.started": "2023-08-22T11:13:19.533691Z"
    }
   },
   "outputs": [],
   "source": [
    "shd_dl = spyx.data.SHD_loader(256,128,128)"
   ]
  },
  {
   "cell_type": "code",
   "execution_count": 5,
   "id": "e5d127b3",
   "metadata": {
    "execution": {
     "iopub.execute_input": "2023-08-22T11:14:08.096435Z",
     "iopub.status.busy": "2023-08-22T11:14:08.096212Z",
     "iopub.status.idle": "2023-08-22T11:14:09.331428Z",
     "shell.execute_reply": "2023-08-22T11:14:09.330550Z",
     "shell.execute_reply.started": "2023-08-22T11:14:08.096415Z"
    }
   },
   "outputs": [],
   "source": [
    "key = jax.random.PRNGKey(0)\n",
    "x, y = shd_dl.train_epoch(key)"
   ]
  },
  {
   "cell_type": "code",
   "execution_count": null,
   "id": "a0403fb8",
   "metadata": {
    "execution": {
     "iopub.execute_input": "2023-08-21T08:15:27.718970Z",
     "iopub.status.busy": "2023-08-21T08:15:27.718273Z"
    }
   },
   "outputs": [],
   "source": [
    "plt.imshow(np.unpackbits(x[0][69], axis=0).T)\n",
    "plt.show()"
   ]
  },
  {
   "cell_type": "code",
   "execution_count": 6,
   "id": "f2076c71",
   "metadata": {
    "execution": {
     "iopub.execute_input": "2023-08-22T11:14:09.332677Z",
     "iopub.status.busy": "2023-08-22T11:14:09.332533Z",
     "iopub.status.idle": "2023-08-22T11:14:09.337172Z",
     "shell.execute_reply": "2023-08-22T11:14:09.336457Z",
     "shell.execute_reply.started": "2023-08-22T11:14:09.332661Z"
    }
   },
   "outputs": [
    {
     "data": {
      "text/plain": [
       "(25, 256, 16, 128)"
      ]
     },
     "execution_count": 6,
     "metadata": {},
     "output_type": "execute_result"
    }
   ],
   "source": [
    "x.shape"
   ]
  },
  {
   "cell_type": "code",
   "execution_count": 7,
   "id": "df9bc18e",
   "metadata": {
    "execution": {
     "iopub.execute_input": "2023-08-22T11:14:09.338359Z",
     "iopub.status.busy": "2023-08-22T11:14:09.338238Z",
     "iopub.status.idle": "2023-08-22T11:14:09.342330Z",
     "shell.execute_reply": "2023-08-22T11:14:09.341670Z",
     "shell.execute_reply.started": "2023-08-22T11:14:09.338346Z"
    }
   },
   "outputs": [
    {
     "data": {
      "text/plain": [
       "(25, 256)"
      ]
     },
     "execution_count": 7,
     "metadata": {},
     "output_type": "execute_result"
    }
   ],
   "source": [
    "y.shape"
   ]
  },
  {
   "cell_type": "markdown",
   "id": "f878677e",
   "metadata": {},
   "source": [
    "## SNN\n",
    "\n"
   ]
  },
  {
   "cell_type": "code",
   "execution_count": 8,
   "id": "5aac20bd",
   "metadata": {
    "execution": {
     "iopub.execute_input": "2023-08-22T11:14:55.521493Z",
     "iopub.status.busy": "2023-08-22T11:14:55.520876Z",
     "iopub.status.idle": "2023-08-22T11:14:55.525786Z",
     "shell.execute_reply": "2023-08-22T11:14:55.525074Z",
     "shell.execute_reply.started": "2023-08-22T11:14:55.521468Z"
    }
   },
   "outputs": [],
   "source": [
    "def snn_alif(x):\n",
    "    \n",
    "    x = hk.BatchApply(hk.Linear(64, with_bias=False))(x)\n",
    "    \n",
    "    core = hk.DeepRNN([\n",
    "        snn.ALIF((64,)),\n",
    "        hk.Linear(64, with_bias=False),\n",
    "        snn.ALIF((64,)),\n",
    "        hk.Linear(20, with_bias=False),\n",
    "        snn.LIF((20,))\n",
    "    ])\n",
    "    \n",
    "    # static unroll for maximum performance\n",
    "    spikes, V = hk.dynamic_unroll(core, x, core.initial_state(x.shape[0]),\n",
    "                                  time_major=False, unroll=16)\n",
    "    \n",
    "    return spikes, V"
   ]
  },
  {
   "cell_type": "code",
   "execution_count": 9,
   "id": "58fbb0dc",
   "metadata": {
    "execution": {
     "iopub.execute_input": "2023-08-22T11:14:56.630123Z",
     "iopub.status.busy": "2023-08-22T11:14:56.629344Z",
     "iopub.status.idle": "2023-08-22T11:15:11.718582Z",
     "shell.execute_reply": "2023-08-22T11:15:11.717905Z",
     "shell.execute_reply.started": "2023-08-22T11:14:56.630097Z"
    }
   },
   "outputs": [],
   "source": [
    "key = jax.random.PRNGKey(0)\n",
    "# Since there's nothing stochastic about the network, we can avoid using an RNG as a param!\n",
    "SNN_alif = hk.without_apply_rng(hk.transform(snn_alif))\n",
    "params_alif = SNN_alif.init(rng=key, x=x[0])"
   ]
  },
  {
   "cell_type": "markdown",
   "id": "0711ce25",
   "metadata": {},
   "source": [
    "## evolution\n"
   ]
  },
  {
   "cell_type": "code",
   "execution_count": 10,
   "id": "5e257945",
   "metadata": {
    "execution": {
     "iopub.execute_input": "2023-08-22T11:15:22.157669Z",
     "iopub.status.busy": "2023-08-22T11:15:22.157002Z",
     "iopub.status.idle": "2023-08-22T11:15:22.162008Z",
     "shell.execute_reply": "2023-08-22T11:15:22.161442Z",
     "shell.execute_reply.started": "2023-08-22T11:15:22.157642Z"
    }
   },
   "outputs": [],
   "source": [
    "import optax\n",
    "\n",
    "\n",
    "def mse_spikerate(traces, targets, sparsity=.35, smoothing=0):\n",
    "    \"\"\"\n",
    "    Calculate the mean squared error of the mean spike rate.\n",
    "    Allows for label smoothing to discourage silencing \n",
    "    the other neurons in the readout layer.\n",
    "\n",
    "    Attributes:\n",
    "        traces: the output of the final layer of the SNN\n",
    "        targets: the integer labels for each class\n",
    "        smoothing: [optional] rate at which to smooth labels.\n",
    "    \"\"\"\n",
    "    t = traces.shape[1]\n",
    "    logits = jnp.sum(traces, axis=-2) # time axis.\n",
    "    labels = optax.smooth_labels(jax.nn.one_hot(targets, logits.shape[-1]), smoothing)\n",
    "    return jnp.mean(optax.squared_error(logits, labels * sparsity * t))"
   ]
  },
  {
   "cell_type": "code",
   "execution_count": 11,
   "id": "aa93e1f4",
   "metadata": {
    "execution": {
     "iopub.execute_input": "2023-08-22T11:15:23.404674Z",
     "iopub.status.busy": "2023-08-22T11:15:23.403900Z",
     "iopub.status.idle": "2023-08-22T11:15:23.415858Z",
     "shell.execute_reply": "2023-08-22T11:15:23.415259Z",
     "shell.execute_reply.started": "2023-08-22T11:15:23.404646Z"
    }
   },
   "outputs": [],
   "source": [
    "def evo(SNN, params, dl, key, epochs=300): # rename this\n",
    "    rng = key        \n",
    "    aug = spyx.data.shift_augment(8) # need to make this stateless\n",
    "    \n",
    "    param_reshaper = evosax.ParameterReshaper(params)\n",
    "        \n",
    "\n",
    "    # Instantiate jittable fitness shaper (e.g. for Open ES)\n",
    "    fit_shaper = FitnessShaper(maximize=False)\n",
    "\n",
    "    # Shape the evaluated fitness scores\n",
    "    \n",
    "    strategy = CRFMNES(popsize=512, # 192\n",
    "                num_dims=param_reshaper.total_params,\n",
    "                sigma_init=0.15\n",
    "                )\n",
    "\n",
    "    opt_state = strategy.initialize(rng)\n",
    "    \n",
    "            \n",
    "    # define and compile our eval function that computes the loss for our SNN\n",
    "    @jax.jit\n",
    "    def net_eval(weights, events, targets):\n",
    "        readout = SNN.apply(weights, events)\n",
    "        traces, V_f = readout\n",
    "        #acc, _ = spyx.fn.integral_accuracy(traces, targets)\n",
    "        loss = mse_spikerate(traces, targets)\n",
    "        return loss #acc\n",
    "        \n",
    "    sim_fn = jax.vmap(net_eval, (0, None, None))\n",
    "    \n",
    "    # compile the meat of our training loop for speed\n",
    "    @jax.jit\n",
    "    def step(state, data):\n",
    "        old_state, rng = state\n",
    "        rng, rng_ask, rng_aug = jax.random.split(rng, 3)\n",
    "        events, targets = data # fix this\n",
    "        events = jnp.unpackbits(events, axis=1) # decompress temporal axis\n",
    "        pop, evo_state = strategy.ask(rng_ask, old_state)\n",
    "        population_params = param_reshaper.reshape(pop.astype(jnp.float16)) \n",
    "        # EVAL\n",
    "        fit = sim_fn(population_params, aug(events, rng_aug), targets) \n",
    "        # TELL\n",
    "        fit_shaped = fit_shaper.apply(pop, fit) \n",
    "        new_state = [strategy.tell(pop, fit_shaped, evo_state), rng]\n",
    "        \n",
    "        return new_state, fit\n",
    "    \n",
    "    # For validation epochs, do the same as before but compute the\n",
    "    # accuracy, predictions and losses (no gradients needed)\n",
    "    @jax.jit\n",
    "    def eval_step(grad_params, data):\n",
    "        events, targets = data # fix\n",
    "        events = jnp.unpackbits(events, axis=1) # decompress temporal axis\n",
    "        readout = SNN.apply(grad_params, events)\n",
    "        traces, V_f = readout\n",
    "        acc, pred = spyx.fn.integral_accuracy(traces, targets)\n",
    "        return grad_params, acc\n",
    "        \n",
    "    \n",
    "    val_data = dl.val_epoch()\n",
    "    \n",
    "    # Here's the start of our training loop!\n",
    "    @scan_tqdm(epochs)\n",
    "    def epoch(curr_opt_state, epoch_num):\n",
    "        \n",
    "        shuffle_rng = jax.random.fold_in(rng, epoch_num)\n",
    "        train_data = dl.train_epoch(shuffle_rng)\n",
    "        \n",
    "        # train epoch\n",
    "        end_state, train_acc = jax.lax.scan(\n",
    "            step,# func\n",
    "            curr_opt_state,# init\n",
    "            train_data,# xs\n",
    "            train_data.obs.shape[0]# len\n",
    "        )\n",
    "        \n",
    "        elite = param_reshaper.reshape(jnp.array([end_state[0].best_member]))\n",
    "        new_params = jax.tree_util.tree_map(lambda x: x[0], elite)\n",
    "                        \n",
    "        # val epoch\n",
    "        _, val_acc = jax.lax.scan(\n",
    "            eval_step,# func\n",
    "            new_params,# init\n",
    "            val_data,# xs\n",
    "            val_data.obs.shape[0]# len\n",
    "        )\n",
    "\n",
    "        \n",
    "        return end_state, jnp.hstack([jnp.max(train_acc), jnp.mean(val_acc)])\n",
    "    # end epoch\n",
    "    \n",
    "    # epoch loop\n",
    "    final_state, metrics = jax.lax.scan(\n",
    "        epoch,\n",
    "        [opt_state, rng], # metric arrays\n",
    "        jnp.arange(epochs), # \n",
    "        epochs # len of loop\n",
    "    )\n",
    "    \n",
    "    elite = param_reshaper.reshape(jnp.array([final_state[0].best_member]))\n",
    "    final_params = jax.tree_util.tree_map(lambda x: x[0], elite)\n",
    "                \n",
    "    # return our final, optimized network.       \n",
    "    return final_params, metrics"
   ]
  },
  {
   "cell_type": "code",
   "execution_count": 12,
   "id": "f5eb4fb2",
   "metadata": {
    "execution": {
     "iopub.execute_input": "2023-08-22T11:15:27.356527Z",
     "iopub.status.busy": "2023-08-22T11:15:27.355899Z",
     "iopub.status.idle": "2023-08-22T11:15:27.361141Z",
     "shell.execute_reply": "2023-08-22T11:15:27.360533Z",
     "shell.execute_reply.started": "2023-08-22T11:15:27.356499Z"
    }
   },
   "outputs": [],
   "source": [
    "def test_evo(SNN, params, dl):\n",
    "\n",
    "    @jax.jit\n",
    "    def test_step(params, data):\n",
    "        events, targets = data\n",
    "        events = jnp.unpackbits(events, axis=1)\n",
    "        readout = SNN.apply(params, events)\n",
    "        traces, V_f = readout\n",
    "        acc, pred = spyx.fn.integral_accuracy(traces, targets)\n",
    "        return params, [acc, pred, targets]\n",
    "    \n",
    "    test_data = dl.test_epoch()\n",
    "    \n",
    "    _, test_metrics = jax.lax.scan(\n",
    "            test_step,# func\n",
    "            params,# init\n",
    "            test_data,# xs\n",
    "            test_data.obs.shape[0]# len\n",
    "    )\n",
    "    \n",
    "    acc = jnp.mean(test_metrics[0])\n",
    "    preds = jnp.array(test_metrics[1]).flatten()\n",
    "    tgts = jnp.array(test_metrics[2]).flatten()\n",
    "    return acc, preds, tgts,"
   ]
  },
  {
   "cell_type": "markdown",
   "id": "d1669fb3",
   "metadata": {},
   "source": [
    "## Training Time\n"
   ]
  },
  {
   "cell_type": "code",
   "execution_count": 13,
   "id": "12ea671f",
   "metadata": {
    "execution": {
     "iopub.execute_input": "2023-08-22T11:15:29.221976Z",
     "iopub.status.busy": "2023-08-22T11:15:29.221344Z",
     "iopub.status.idle": "2023-08-22T11:15:29.224831Z",
     "shell.execute_reply": "2023-08-22T11:15:29.224268Z",
     "shell.execute_reply.started": "2023-08-22T11:15:29.221952Z"
    }
   },
   "outputs": [],
   "source": [
    "from time import time"
   ]
  },
  {
   "cell_type": "markdown",
   "id": "6e80e6e2",
   "metadata": {},
   "source": [
    "# Seed: 42"
   ]
  },
  {
   "cell_type": "code",
   "execution_count": 14,
   "id": "36e0c154",
   "metadata": {
    "execution": {
     "iopub.execute_input": "2023-08-22T11:15:31.179598Z",
     "iopub.status.busy": "2023-08-22T11:15:31.178718Z",
     "iopub.status.idle": "2023-08-22T11:15:31.200728Z",
     "shell.execute_reply": "2023-08-22T11:15:31.200014Z",
     "shell.execute_reply.started": "2023-08-22T11:15:31.179574Z"
    }
   },
   "outputs": [],
   "source": [
    "seed = jax.random.PRNGKey(42)"
   ]
  },
  {
   "cell_type": "code",
   "execution_count": 16,
   "id": "425db1fd",
   "metadata": {
    "execution": {
     "iopub.execute_input": "2023-08-22T11:16:01.015748Z",
     "iopub.status.busy": "2023-08-22T11:16:01.014915Z",
     "iopub.status.idle": "2023-08-22T11:45:28.511157Z",
     "shell.execute_reply": "2023-08-22T11:45:28.510498Z",
     "shell.execute_reply.started": "2023-08-22T11:16:01.015723Z"
    },
    "scrolled": true
   },
   "outputs": [
    {
     "name": "stdout",
     "output_type": "stream",
     "text": [
      "ParameterReshaper: 13844 parameters detected for optimization.\n",
      "128\n"
     ]
    },
    {
     "data": {
      "application/vnd.jupyter.widget-view+json": {
       "model_id": "487936d13ffe4f1c8b1f78b2e4e1d06c",
       "version_major": 2,
       "version_minor": 0
      },
      "text/plain": [
       "  0%|          | 0/1000 [00:00<?, ?it/s]"
      ]
     },
     "metadata": {},
     "output_type": "display_data"
    },
    {
     "name": "stdout",
     "output_type": "stream",
     "text": [
      "1750.874398946762\n",
      "Performance: train_acc=109.28594207763672, val_acc=0.7649739980697632\n",
      "0.7597656\n"
     ]
    }
   ],
   "source": [
    "start = time()\n",
    "evolved_params_alif, metrics_alif = evo(SNN_alif, params_alif, shd_dl, seed, epochs=1000) # started 13:33\n",
    "elapsed = time() - start\n",
    "print(elapsed)\n",
    "print(\"Performance: train_acc={}, val_acc={}\".format(*metrics_alif[-1]))\n",
    "acc, preds, tgts = test_evo(SNN_alif, evolved_params_alif, shd_dl)\n",
    "print(acc)"
   ]
  },
  {
   "cell_type": "code",
   "execution_count": 24,
   "id": "068aac84",
   "metadata": {
    "execution": {
     "iopub.execute_input": "2023-08-21T09:12:17.700699Z",
     "iopub.status.busy": "2023-08-21T09:12:17.700109Z",
     "iopub.status.idle": "2023-08-21T09:12:33.515004Z",
     "shell.execute_reply": "2023-08-21T09:12:33.514082Z",
     "shell.execute_reply.started": "2023-08-21T09:12:17.700680Z"
    },
    "scrolled": true,
    "tags": []
   },
   "outputs": [
    {
     "data": {
      "text/plain": [
       "Array(0.75634766, dtype=float32)"
      ]
     },
     "execution_count": 24,
     "metadata": {},
     "output_type": "execute_result"
    }
   ],
   "source": [
    "acc, preds, tgts = test_evo(SNN_alif, evolved_params_alif, shd_dl)\n",
    "acc"
   ]
  },
  {
   "cell_type": "markdown",
   "id": "5eedb5ef",
   "metadata": {},
   "source": [
    "# Seed: 12345"
   ]
  },
  {
   "cell_type": "code",
   "execution_count": 25,
   "id": "cc9f1296",
   "metadata": {
    "execution": {
     "iopub.execute_input": "2023-08-21T09:12:33.517958Z",
     "iopub.status.busy": "2023-08-21T09:12:33.517756Z",
     "iopub.status.idle": "2023-08-21T09:12:33.523584Z",
     "shell.execute_reply": "2023-08-21T09:12:33.522808Z",
     "shell.execute_reply.started": "2023-08-21T09:12:33.517951Z"
    }
   },
   "outputs": [],
   "source": [
    "seed = jax.random.PRNGKey(12345)"
   ]
  },
  {
   "cell_type": "code",
   "execution_count": 27,
   "id": "9604f9e2",
   "metadata": {
    "execution": {
     "iopub.execute_input": "2023-08-21T09:38:08.315591Z",
     "iopub.status.busy": "2023-08-21T09:38:08.315422Z",
     "iopub.status.idle": "2023-08-21T10:07:25.141682Z",
     "shell.execute_reply": "2023-08-21T10:07:25.141044Z",
     "shell.execute_reply.started": "2023-08-21T09:38:08.315574Z"
    },
    "scrolled": true
   },
   "outputs": [
    {
     "name": "stdout",
     "output_type": "stream",
     "text": [
      "ParameterReshaper: 13844 parameters detected for optimization.\n"
     ]
    },
    {
     "data": {
      "application/vnd.jupyter.widget-view+json": {
       "model_id": "c73e7ce3023849589c27937c59224da2",
       "version_major": 2,
       "version_minor": 0
      },
      "text/plain": [
       "  0%|          | 0/1000 [00:00<?, ?it/s]"
      ]
     },
     "metadata": {},
     "output_type": "display_data"
    },
    {
     "name": "stdout",
     "output_type": "stream",
     "text": [
      "1756.8226170539856\n"
     ]
    }
   ],
   "source": [
    "start = time()\n",
    "evolved_params_alif, metrics_alif = evo(SNN_alif, params_alif, shd_dl, seed, epochs=1000) # started 13:33\n",
    "elapsed = time() - start\n",
    "print(elapsed)"
   ]
  },
  {
   "cell_type": "code",
   "execution_count": 29,
   "id": "c0724608",
   "metadata": {
    "execution": {
     "iopub.execute_input": "2023-08-21T10:07:25.152096Z",
     "iopub.status.busy": "2023-08-21T10:07:25.151949Z",
     "iopub.status.idle": "2023-08-21T10:07:25.156963Z",
     "shell.execute_reply": "2023-08-21T10:07:25.156491Z",
     "shell.execute_reply.started": "2023-08-21T10:07:25.152081Z"
    }
   },
   "outputs": [
    {
     "name": "stdout",
     "output_type": "stream",
     "text": [
      "Performance: train_acc=61.52933883666992, val_acc=0.75\n"
     ]
    }
   ],
   "source": [
    "print(\"Performance: train_acc={}, val_acc={}\".format(*metrics_alif[-1]))"
   ]
  },
  {
   "cell_type": "code",
   "execution_count": 31,
   "id": "933f97fd",
   "metadata": {
    "execution": {
     "iopub.execute_input": "2023-08-21T10:07:31.168493Z",
     "iopub.status.busy": "2023-08-21T10:07:31.168337Z",
     "iopub.status.idle": "2023-08-21T10:07:46.745933Z",
     "shell.execute_reply": "2023-08-21T10:07:46.745336Z",
     "shell.execute_reply.started": "2023-08-21T10:07:31.168477Z"
    },
    "scrolled": true,
    "tags": []
   },
   "outputs": [
    {
     "data": {
      "text/plain": [
       "Array(0.70166016, dtype=float32)"
      ]
     },
     "execution_count": 31,
     "metadata": {},
     "output_type": "execute_result"
    }
   ],
   "source": [
    "acc, preds, tgts = test_evo(SNN_alif, evolved_params_alif, shd_dl)\n",
    "acc"
   ]
  },
  {
   "cell_type": "markdown",
   "id": "decf2ce6",
   "metadata": {},
   "source": [
    "# Seed: 54321"
   ]
  },
  {
   "cell_type": "code",
   "execution_count": 32,
   "id": "c60f0e52",
   "metadata": {
    "execution": {
     "iopub.execute_input": "2023-08-21T10:07:46.748258Z",
     "iopub.status.busy": "2023-08-21T10:07:46.748111Z",
     "iopub.status.idle": "2023-08-21T10:07:46.753331Z",
     "shell.execute_reply": "2023-08-21T10:07:46.752707Z",
     "shell.execute_reply.started": "2023-08-21T10:07:46.748243Z"
    }
   },
   "outputs": [],
   "source": [
    "seed = jax.random.PRNGKey(54321)"
   ]
  },
  {
   "cell_type": "code",
   "execution_count": 34,
   "id": "008ef34e",
   "metadata": {
    "execution": {
     "iopub.execute_input": "2023-08-21T10:33:22.924483Z",
     "iopub.status.busy": "2023-08-21T10:33:22.924310Z",
     "iopub.status.idle": "2023-08-21T11:02:39.625260Z",
     "shell.execute_reply": "2023-08-21T11:02:39.624434Z",
     "shell.execute_reply.started": "2023-08-21T10:33:22.924467Z"
    },
    "scrolled": true
   },
   "outputs": [
    {
     "name": "stdout",
     "output_type": "stream",
     "text": [
      "ParameterReshaper: 13844 parameters detected for optimization.\n"
     ]
    },
    {
     "data": {
      "application/vnd.jupyter.widget-view+json": {
       "model_id": "98ff0e144c10438b92705daeb759922d",
       "version_major": 2,
       "version_minor": 0
      },
      "text/plain": [
       "  0%|          | 0/1000 [00:00<?, ?it/s]"
      ]
     },
     "metadata": {},
     "output_type": "display_data"
    },
    {
     "name": "stdout",
     "output_type": "stream",
     "text": [
      "1756.6970422267914\n"
     ]
    }
   ],
   "source": [
    "start = time()\n",
    "evolved_params_alif, metrics_alif = evo(SNN_alif, params_alif, shd_dl, seed, epochs=1000) # started 13:33\n",
    "elapsed = time() - start\n",
    "print(elapsed)"
   ]
  },
  {
   "cell_type": "code",
   "execution_count": 36,
   "id": "2b3d349a",
   "metadata": {
    "execution": {
     "iopub.execute_input": "2023-08-21T11:02:39.638099Z",
     "iopub.status.busy": "2023-08-21T11:02:39.637625Z",
     "iopub.status.idle": "2023-08-21T11:02:39.642921Z",
     "shell.execute_reply": "2023-08-21T11:02:39.642471Z",
     "shell.execute_reply.started": "2023-08-21T11:02:39.638079Z"
    }
   },
   "outputs": [
    {
     "name": "stdout",
     "output_type": "stream",
     "text": [
      "Performance: train_acc=101.5151596069336, val_acc=0.75390625\n"
     ]
    }
   ],
   "source": [
    "print(\"Performance: train_acc={}, val_acc={}\".format(*metrics_alif[-1]))"
   ]
  },
  {
   "cell_type": "code",
   "execution_count": 38,
   "id": "ab99ceaa",
   "metadata": {
    "execution": {
     "iopub.execute_input": "2023-08-21T11:02:45.688267Z",
     "iopub.status.busy": "2023-08-21T11:02:45.687807Z",
     "iopub.status.idle": "2023-08-21T11:03:01.507788Z",
     "shell.execute_reply": "2023-08-21T11:03:01.507085Z",
     "shell.execute_reply.started": "2023-08-21T11:02:45.688248Z"
    },
    "scrolled": true,
    "tags": []
   },
   "outputs": [
    {
     "data": {
      "text/plain": [
       "Array(0.75341797, dtype=float32)"
      ]
     },
     "execution_count": 38,
     "metadata": {},
     "output_type": "execute_result"
    }
   ],
   "source": [
    "acc, preds, tgts = test_evo(SNN_alif, evolved_params_alif, shd_dl)\n",
    "acc"
   ]
  },
  {
   "cell_type": "markdown",
   "id": "c7febefc",
   "metadata": {},
   "source": [
    "# Seed: 0"
   ]
  },
  {
   "cell_type": "code",
   "execution_count": 16,
   "id": "cc69500a",
   "metadata": {
    "execution": {
     "iopub.execute_input": "2023-08-21T11:18:17.660531Z",
     "iopub.status.busy": "2023-08-21T11:18:17.659850Z",
     "iopub.status.idle": "2023-08-21T11:18:17.664842Z",
     "shell.execute_reply": "2023-08-21T11:18:17.664366Z",
     "shell.execute_reply.started": "2023-08-21T11:18:17.660505Z"
    }
   },
   "outputs": [],
   "source": [
    "seed = jax.random.PRNGKey(0)"
   ]
  },
  {
   "cell_type": "code",
   "execution_count": 19,
   "id": "868783d8",
   "metadata": {
    "execution": {
     "iopub.execute_input": "2023-08-21T11:45:48.514421Z",
     "iopub.status.busy": "2023-08-21T11:45:48.514170Z",
     "iopub.status.idle": "2023-08-21T12:15:05.371625Z",
     "shell.execute_reply": "2023-08-21T12:15:05.370919Z",
     "shell.execute_reply.started": "2023-08-21T11:45:48.514403Z"
    },
    "scrolled": true
   },
   "outputs": [
    {
     "name": "stdout",
     "output_type": "stream",
     "text": [
      "ParameterReshaper: 13844 parameters detected for optimization.\n"
     ]
    },
    {
     "data": {
      "application/vnd.jupyter.widget-view+json": {
       "model_id": "0c9443c83b634581bb616129b1d9ca45",
       "version_major": 2,
       "version_minor": 0
      },
      "text/plain": [
       "  0%|          | 0/1000 [00:00<?, ?it/s]"
      ]
     },
     "metadata": {},
     "output_type": "display_data"
    },
    {
     "name": "stdout",
     "output_type": "stream",
     "text": [
      "1756.853637456894\n"
     ]
    }
   ],
   "source": [
    "start = time()\n",
    "evolved_params_alif, metrics_alif = evo(SNN_alif, params_alif, shd_dl, seed, epochs=1000) # started 13:33\n",
    "elapsed = time() - start\n",
    "print(elapsed)"
   ]
  },
  {
   "cell_type": "code",
   "execution_count": 20,
   "id": "30c12419",
   "metadata": {
    "execution": {
     "iopub.execute_input": "2023-08-21T12:16:08.395707Z",
     "iopub.status.busy": "2023-08-21T12:16:08.395177Z",
     "iopub.status.idle": "2023-08-21T12:16:08.416794Z",
     "shell.execute_reply": "2023-08-21T12:16:08.416341Z",
     "shell.execute_reply.started": "2023-08-21T12:16:08.395684Z"
    }
   },
   "outputs": [
    {
     "name": "stdout",
     "output_type": "stream",
     "text": [
      "Performance: train_acc=79.02629852294922, val_acc=0.73828125\n"
     ]
    }
   ],
   "source": [
    "print(\"Performance: train_acc={}, val_acc={}\".format(*metrics_alif[-1]))"
   ]
  },
  {
   "cell_type": "code",
   "execution_count": 22,
   "id": "2814e39b",
   "metadata": {
    "execution": {
     "iopub.execute_input": "2023-08-21T12:16:18.215025Z",
     "iopub.status.busy": "2023-08-21T12:16:18.214847Z",
     "iopub.status.idle": "2023-08-21T12:16:33.459155Z",
     "shell.execute_reply": "2023-08-21T12:16:33.458424Z",
     "shell.execute_reply.started": "2023-08-21T12:16:18.215025Z"
    },
    "scrolled": true,
    "tags": []
   },
   "outputs": [
    {
     "data": {
      "text/plain": [
       "Array(0.73046875, dtype=float32)"
      ]
     },
     "execution_count": 22,
     "metadata": {},
     "output_type": "execute_result"
    }
   ],
   "source": [
    "acc, preds, tgts = test_evo(SNN_alif, evolved_params_alif, shd_dl)\n",
    "acc"
   ]
  },
  {
   "cell_type": "markdown",
   "id": "8a53fc96",
   "metadata": {},
   "source": [
    "# Seed: 7"
   ]
  },
  {
   "cell_type": "code",
   "execution_count": 23,
   "id": "87890512",
   "metadata": {
    "execution": {
     "iopub.execute_input": "2023-08-21T12:16:37.886131Z",
     "iopub.status.busy": "2023-08-21T12:16:37.885568Z",
     "iopub.status.idle": "2023-08-21T12:16:37.890611Z",
     "shell.execute_reply": "2023-08-21T12:16:37.890122Z",
     "shell.execute_reply.started": "2023-08-21T12:16:37.886107Z"
    }
   },
   "outputs": [],
   "source": [
    "seed = jax.random.PRNGKey(7)"
   ]
  },
  {
   "cell_type": "code",
   "execution_count": 25,
   "id": "ccd95c65",
   "metadata": {
    "execution": {
     "iopub.execute_input": "2023-08-21T12:42:13.966953Z",
     "iopub.status.busy": "2023-08-21T12:42:13.966820Z",
     "iopub.status.idle": "2023-08-21T13:11:29.375991Z",
     "shell.execute_reply": "2023-08-21T13:11:29.375355Z",
     "shell.execute_reply.started": "2023-08-21T12:42:13.966951Z"
    },
    "scrolled": true
   },
   "outputs": [
    {
     "name": "stdout",
     "output_type": "stream",
     "text": [
      "ParameterReshaper: 13844 parameters detected for optimization.\n"
     ]
    },
    {
     "data": {
      "application/vnd.jupyter.widget-view+json": {
       "model_id": "9b3fc48d3c5d4f8388708f73e147421e",
       "version_major": 2,
       "version_minor": 0
      },
      "text/plain": [
       "  0%|          | 0/1000 [00:00<?, ?it/s]"
      ]
     },
     "metadata": {},
     "output_type": "display_data"
    },
    {
     "name": "stdout",
     "output_type": "stream",
     "text": [
      "1755.4052205085754\n"
     ]
    }
   ],
   "source": [
    "start = time()\n",
    "evolved_params_alif, metrics_alif = evo(SNN_alif, params_alif, shd_dl, seed, epochs=1000) # started 13:33\n",
    "elapsed = time() - start\n",
    "print(elapsed)"
   ]
  },
  {
   "cell_type": "code",
   "execution_count": 27,
   "id": "27f048cf",
   "metadata": {
    "execution": {
     "iopub.execute_input": "2023-08-21T13:11:29.386815Z",
     "iopub.status.busy": "2023-08-21T13:11:29.386341Z",
     "iopub.status.idle": "2023-08-21T13:11:29.391333Z",
     "shell.execute_reply": "2023-08-21T13:11:29.390950Z",
     "shell.execute_reply.started": "2023-08-21T13:11:29.386797Z"
    }
   },
   "outputs": [
    {
     "name": "stdout",
     "output_type": "stream",
     "text": [
      "Performance: train_acc=57.57223129272461, val_acc=0.751953125\n"
     ]
    }
   ],
   "source": [
    "print(\"Performance: train_acc={}, val_acc={}\".format(*metrics_alif[-1]))"
   ]
  },
  {
   "cell_type": "code",
   "execution_count": 29,
   "id": "7662593e",
   "metadata": {
    "execution": {
     "iopub.execute_input": "2023-08-21T13:11:36.040936Z",
     "iopub.status.busy": "2023-08-21T13:11:36.040625Z",
     "iopub.status.idle": "2023-08-21T13:11:52.519448Z",
     "shell.execute_reply": "2023-08-21T13:11:52.518695Z",
     "shell.execute_reply.started": "2023-08-21T13:11:36.040916Z"
    },
    "scrolled": true,
    "tags": []
   },
   "outputs": [
    {
     "data": {
      "text/plain": [
       "Array(0.7211914, dtype=float32)"
      ]
     },
     "execution_count": 29,
     "metadata": {},
     "output_type": "execute_result"
    }
   ],
   "source": [
    "acc, preds, tgts = test_evo(SNN_alif, evolved_params_alif, shd_dl)\n",
    "acc"
   ]
  }
 ],
 "metadata": {
  "kernelspec": {
   "display_name": "Python 3 (ipykernel)",
   "language": "python",
   "name": "python3"
  },
  "language_info": {
   "codemirror_mode": {
    "name": "ipython",
    "version": 3
   },
   "file_extension": ".py",
   "mimetype": "text/x-python",
   "name": "python",
   "nbconvert_exporter": "python",
   "pygments_lexer": "ipython3",
   "version": "3.10.12"
  }
 },
 "nbformat": 4,
 "nbformat_minor": 5
}
