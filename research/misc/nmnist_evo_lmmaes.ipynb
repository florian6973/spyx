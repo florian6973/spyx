{
 "cells": [
  {
   "cell_type": "markdown",
   "id": "fd3a7575",
   "metadata": {},
   "source": [
    "# Training an SNN using evolution!\n",
    "\n",
    "This notebook contains the LM-MA-ES experimental results on NMNIST"
   ]
  },
  {
   "cell_type": "code",
   "execution_count": 1,
   "id": "222bb1a3",
   "metadata": {
    "execution": {
     "iopub.execute_input": "2023-08-22T12:04:30.346063Z",
     "iopub.status.busy": "2023-08-22T12:04:30.345505Z",
     "iopub.status.idle": "2023-08-22T12:04:31.578213Z",
     "shell.execute_reply": "2023-08-22T12:04:31.577343Z",
     "shell.execute_reply.started": "2023-08-22T12:04:30.346036Z"
    },
    "tags": []
   },
   "outputs": [
    {
     "data": {
      "text/plain": [
       "Array([12.34, 24.68, 37.02], dtype=float32, weak_type=True)"
      ]
     },
     "execution_count": 1,
     "metadata": {},
     "output_type": "execute_result"
    }
   ],
   "source": [
    "import jax.numpy as jnp\n",
    "warmup = jnp.array([1,2,3])\n",
    "warmup * 12.34"
   ]
  },
  {
   "cell_type": "code",
   "execution_count": 2,
   "id": "3cf6fa71",
   "metadata": {
    "execution": {
     "iopub.execute_input": "2023-08-22T12:04:33.222014Z",
     "iopub.status.busy": "2023-08-22T12:04:33.221405Z",
     "iopub.status.idle": "2023-08-22T12:04:35.366945Z",
     "shell.execute_reply": "2023-08-22T12:04:35.366249Z",
     "shell.execute_reply.started": "2023-08-22T12:04:33.221988Z"
    },
    "tags": []
   },
   "outputs": [],
   "source": [
    "import spyx\n",
    "import spyx.nn as snn\n",
    "\n",
    "# JAX imports\n",
    "import jax\n",
    "from jax import numpy as jnp\n",
    "import jmp\n",
    "import numpy as np\n",
    "\n",
    "from jax_tqdm import scan_tqdm\n",
    "from tqdm import tqdm\n",
    "\n",
    "# implement our SNN in DeepMind's Haiku\n",
    "import haiku as hk\n",
    "\n",
    "# for surrogate loss training.\n",
    "import evosax\n",
    "from evosax.strategies import CR_FM_NES as CRFMNES\n",
    "from evosax.strategies import LM_MA_ES as LMMAES\n",
    "\n",
    "from evosax import FitnessShaper\n",
    "\n",
    "# rendering tools\n",
    "import matplotlib.pyplot as plt\n",
    "from sklearn.metrics import confusion_matrix, ConfusionMatrixDisplay\n",
    "%matplotlib notebook"
   ]
  },
  {
   "cell_type": "markdown",
   "id": "f4e9402d",
   "metadata": {},
   "source": [
    "## Set Mixed Precision Policy"
   ]
  },
  {
   "cell_type": "code",
   "execution_count": 3,
   "id": "9bfdcd58",
   "metadata": {
    "execution": {
     "iopub.execute_input": "2023-08-22T12:04:37.194773Z",
     "iopub.status.busy": "2023-08-22T12:04:37.194065Z",
     "iopub.status.idle": "2023-08-22T12:04:37.198540Z",
     "shell.execute_reply": "2023-08-22T12:04:37.197989Z",
     "shell.execute_reply.started": "2023-08-22T12:04:37.194745Z"
    },
    "tags": []
   },
   "outputs": [],
   "source": [
    "policy = jmp.get_policy('half')\n",
    "\n",
    "\n",
    "hk.mixed_precision.set_policy(hk.Flatten, policy)\n",
    "hk.mixed_precision.set_policy(hk.Linear, policy)\n",
    "hk.mixed_precision.set_policy(snn.LIF, policy)\n",
    "hk.mixed_precision.set_policy(snn.LI, policy)"
   ]
  },
  {
   "cell_type": "markdown",
   "id": "95bf2a89",
   "metadata": {},
   "source": [
    "## Data Loading"
   ]
  },
  {
   "cell_type": "code",
   "execution_count": 4,
   "id": "6573ba59",
   "metadata": {
    "execution": {
     "iopub.execute_input": "2023-08-22T12:04:38.736665Z",
     "iopub.status.busy": "2023-08-22T12:04:38.736057Z",
     "iopub.status.idle": "2023-08-22T12:06:36.124140Z",
     "shell.execute_reply": "2023-08-22T12:06:36.123278Z",
     "shell.execute_reply.started": "2023-08-22T12:04:38.736637Z"
    },
    "tags": []
   },
   "outputs": [],
   "source": [
    "nmnist_dl = spyx.data.NMNIST_loader(batch_size=256)"
   ]
  },
  {
   "cell_type": "code",
   "execution_count": 5,
   "id": "e5d127b3",
   "metadata": {
    "execution": {
     "iopub.execute_input": "2023-08-22T12:06:38.138508Z",
     "iopub.status.busy": "2023-08-22T12:06:38.137899Z",
     "iopub.status.idle": "2023-08-22T12:06:45.002349Z",
     "shell.execute_reply": "2023-08-22T12:06:45.001723Z",
     "shell.execute_reply.started": "2023-08-22T12:06:38.138462Z"
    },
    "tags": []
   },
   "outputs": [],
   "source": [
    "key = jax.random.PRNGKey(0)\n",
    "x, y = nmnist_dl.train_epoch(key)"
   ]
  },
  {
   "cell_type": "code",
   "execution_count": 6,
   "id": "f2076c71",
   "metadata": {
    "execution": {
     "iopub.execute_input": "2023-08-22T12:06:46.783176Z",
     "iopub.status.busy": "2023-08-22T12:06:46.782519Z",
     "iopub.status.idle": "2023-08-22T12:06:46.787715Z",
     "shell.execute_reply": "2023-08-22T12:06:46.787045Z",
     "shell.execute_reply.started": "2023-08-22T12:06:46.783151Z"
    },
    "tags": []
   },
   "outputs": [
    {
     "data": {
      "text/plain": [
       "(54, 256, 5, 2, 34, 34)"
      ]
     },
     "execution_count": 6,
     "metadata": {},
     "output_type": "execute_result"
    }
   ],
   "source": [
    "x.shape"
   ]
  },
  {
   "cell_type": "markdown",
   "id": "f878677e",
   "metadata": {},
   "source": [
    "## SNN\n",
    "\n",
    "Here we define a simple feed-forward SNN using Haiku's RNN features, incorporating our\n",
    "LIF neuron models where activation functions would usually go. Haiku manages all of the state for us, so when we transform the function and get an apply() function we just need to pass the params!\n",
    "\n",
    "Since spiking neurons have a discrete all-or-nothing activation, in order to do gradient descent we'll have to approximate the derivative of the Heaviside function with something smoother. In this case, we use the SuperSpike surrogate gradient from Zenke & Ganguli 2017.\n",
    "Also not that we aren't using bias terms on the linear layers and since the inputs are images, we flatten the data before feeding it to the first layer.\n",
    "\n",
    "Depending on computational constraints, we can use haiku's dynamic unroll to iterate the SNN, or we can use static unroll where the SNN will be unrolled during the JIT compiling process to further increase speed when training on GPU. Note that the static unroll will take longer to compile, but once it runs the iterations per second will be 2x-3x greater than the dynamic unroll."
   ]
  },
  {
   "cell_type": "code",
   "execution_count": 7,
   "id": "1e9ee900",
   "metadata": {
    "execution": {
     "iopub.execute_input": "2023-08-22T12:06:49.991306Z",
     "iopub.status.busy": "2023-08-22T12:06:49.990762Z",
     "iopub.status.idle": "2023-08-22T12:06:49.995528Z",
     "shell.execute_reply": "2023-08-22T12:06:49.994846Z",
     "shell.execute_reply.started": "2023-08-22T12:06:49.991282Z"
    },
    "tags": []
   },
   "outputs": [],
   "source": [
    "def nmnist_snn(x):\n",
    "    \n",
    "    x = hk.BatchApply(hk.Flatten())(x)\n",
    "    x = hk.BatchApply(hk.Linear(512, with_bias=False))(x)\n",
    "    \n",
    "    core = hk.DeepRNN([\n",
    "        snn.LIF((512,)),\n",
    "        hk.Linear(10, with_bias=False),\n",
    "        snn.LI((10,))\n",
    "    ])\n",
    "    \n",
    "    # static unroll for maximum performance\n",
    "    spikes, V = hk.dynamic_unroll(core, x, core.initial_state(x.shape[0]), time_major=False, unroll=20)\n",
    "    \n",
    "    return spikes, V\n"
   ]
  },
  {
   "cell_type": "code",
   "execution_count": 8,
   "id": "e32e514a",
   "metadata": {
    "execution": {
     "iopub.execute_input": "2023-08-22T12:06:51.579463Z",
     "iopub.status.busy": "2023-08-22T12:06:51.578813Z",
     "iopub.status.idle": "2023-08-22T12:06:55.042072Z",
     "shell.execute_reply": "2023-08-22T12:06:55.041566Z",
     "shell.execute_reply.started": "2023-08-22T12:06:51.579437Z"
    },
    "tags": []
   },
   "outputs": [],
   "source": [
    "key = jax.random.PRNGKey(0)\n",
    "# Since there's nothing stochastic about the network, we can avoid using an RNG as a param!\n",
    "SNN = hk.without_apply_rng(hk.transform(nmnist_snn))\n",
    "params = SNN.init(rng=key, x=x[0])"
   ]
  },
  {
   "cell_type": "markdown",
   "id": "0711ce25",
   "metadata": {},
   "source": [
    "## evolution\n"
   ]
  },
  {
   "cell_type": "code",
   "execution_count": 9,
   "id": "aa93e1f4",
   "metadata": {
    "execution": {
     "iopub.execute_input": "2023-08-22T12:06:57.218979Z",
     "iopub.status.busy": "2023-08-22T12:06:57.218188Z",
     "iopub.status.idle": "2023-08-22T12:06:57.228528Z",
     "shell.execute_reply": "2023-08-22T12:06:57.227974Z",
     "shell.execute_reply.started": "2023-08-22T12:06:57.218954Z"
    },
    "tags": []
   },
   "outputs": [],
   "source": [
    "def evo(params, dl, key, epochs=300): # rename this\n",
    "    rng = key        \n",
    "    \n",
    "    \n",
    "    param_reshaper = evosax.ParameterReshaper(params)\n",
    "        \n",
    "\n",
    "    fit_shaper = FitnessShaper(maximize=True)\n",
    "\n",
    "    # Shape the evaluated fitness scores\n",
    "    \n",
    "    strategy = LMMAES(popsize=256, \n",
    "                num_dims=param_reshaper.total_params,\n",
    "                sigma_init=0.03\n",
    "                )\n",
    "\n",
    "    opt_state = strategy.initialize(rng)\n",
    "    \n",
    "            \n",
    "    # define and compile our eval function that computes the loss for our SNN\n",
    "    @jax.jit\n",
    "    def net_eval(weights, events, targets):\n",
    "        readout = SNN.apply(weights, events)\n",
    "        traces, V_f = readout\n",
    "        acc, _ = spyx.fn.integral_accuracy(traces, targets)\n",
    "        return acc\n",
    "        \n",
    "    sim_fn = jax.vmap(net_eval, (0, None, None))\n",
    "    \n",
    "    # compile the meat of our training loop for speed\n",
    "    @jax.jit\n",
    "    def train_step(state, data):\n",
    "        old_state, rng = state\n",
    "        rng, rng_ask = jax.random.split(rng)\n",
    "        events, targets = data\n",
    "        pop, evo_state = strategy.ask(rng_ask, old_state)\n",
    "        population_params = param_reshaper.reshape(pop.astype(jnp.float16)) # this cast is bad...\n",
    "        # EVAL\n",
    "        fit = sim_fn(population_params, jnp.unpackbits(events, axis=1), targets) \n",
    "        # TELL\n",
    "        fit_shaped = fit_shaper.apply(pop, fit) \n",
    "        new_state = [strategy.tell(pop, fit_shaped, evo_state), rng]\n",
    "        \n",
    "        return new_state, fit\n",
    "    \n",
    "    # For validation epochs, do the same as before but compute the\n",
    "    # accuracy, predictions and losses (no gradients needed)\n",
    "    @jax.jit\n",
    "    def eval_step(grad_params_rng, data):\n",
    "        grad_params, rng = grad_params_rng\n",
    "        events, targets = data # fix\n",
    "        readout = SNN.apply(grad_params, jnp.unpackbits(events, axis=1))\n",
    "        traces, V_f = readout\n",
    "        acc, _ = spyx.fn.integral_accuracy(traces, targets)\n",
    "        return [grad_params, rng], acc\n",
    "        \n",
    "    \n",
    "    val_data = dl.val_epoch()\n",
    "    \n",
    "    # Here's the start of our training loop!\n",
    "    @scan_tqdm(epochs)\n",
    "    def epoch(curr_opt_state, epoch_num):\n",
    "        \n",
    "        shuffle_rng = jax.random.fold_in(rng, epoch_num)\n",
    "        train_data = dl.train_epoch(shuffle_rng)\n",
    "        \n",
    "        # train epoch\n",
    "        end_state, train_acc = jax.lax.scan(\n",
    "            train_step,# func\n",
    "            curr_opt_state,# init\n",
    "            train_data,# xs\n",
    "            train_data.obs.shape[0]# len\n",
    "        )\n",
    "        \n",
    "        elite = param_reshaper.reshape(jnp.array([end_state[0].best_member]))\n",
    "        new_params = jax.tree_util.tree_map(lambda x: x[0], elite)\n",
    "                        \n",
    "        # val epoch\n",
    "        _rng, val_acc = jax.lax.scan(\n",
    "            eval_step,# func\n",
    "            [new_params, end_state[1]],# init\n",
    "            val_data,# xs\n",
    "            val_data.obs.shape[0]# len\n",
    "        )\n",
    "\n",
    "        _, new_rng = _rng\n",
    "        \n",
    "        return [end_state[0], new_rng], jnp.hstack([jnp.max(train_acc), jnp.mean(val_acc)])\n",
    "    # end epoch\n",
    "    \n",
    "    # epoch loop\n",
    "    final_state, metrics = jax.lax.scan(\n",
    "        epoch,\n",
    "        [opt_state, rng], # metric arrays\n",
    "        jnp.arange(epochs), # \n",
    "        epochs # len of loop\n",
    "    )\n",
    "    \n",
    "    elite = param_reshaper.reshape(jnp.array([final_state[0].best_member]))\n",
    "    final_params = jax.tree_util.tree_map(lambda x: x[0], elite)\n",
    "                \n",
    "    # return our final, optimized network.       \n",
    "    return final_params, metrics"
   ]
  },
  {
   "cell_type": "code",
   "execution_count": 10,
   "id": "f5eb4fb2",
   "metadata": {
    "execution": {
     "iopub.execute_input": "2023-08-22T12:06:59.912238Z",
     "iopub.status.busy": "2023-08-22T12:06:59.911725Z",
     "iopub.status.idle": "2023-08-22T12:06:59.916970Z",
     "shell.execute_reply": "2023-08-22T12:06:59.916517Z",
     "shell.execute_reply.started": "2023-08-22T12:06:59.912213Z"
    },
    "tags": []
   },
   "outputs": [],
   "source": [
    "def test_evo(params, dl):\n",
    "\n",
    "    rng = jax.random.PRNGKey(0)\n",
    "    \n",
    "    @jax.jit\n",
    "    def test_step(params_rng, data):\n",
    "        params, rng = params_rng\n",
    "        events, targets = data\n",
    "        events = jnp.unpackbits(events, axis=1)\n",
    "        readout = SNN.apply(params, events)\n",
    "        traces, V_f = readout\n",
    "        acc, pred = spyx.fn.integral_accuracy(traces, targets)\n",
    "        return [params, rng], [acc, pred, targets ]\n",
    "    \n",
    "    test_data = dl.test_epoch()\n",
    "    \n",
    "    _, test_metrics = jax.lax.scan(\n",
    "            test_step,# func\n",
    "            [params, rng],# init\n",
    "            test_data,# xs\n",
    "            test_data.obs.shape[0]# len\n",
    "    )\n",
    "    \n",
    "    acc = jnp.mean(test_metrics[0])\n",
    "    preds = jnp.array(test_metrics[1]).flatten()\n",
    "    tgts = jnp.array(test_metrics[2]).flatten()\n",
    "    return acc, preds, tgts"
   ]
  },
  {
   "cell_type": "markdown",
   "id": "d1669fb3",
   "metadata": {},
   "source": [
    "## Training Time\n",
    "\n",
    "We'll train the network for 50 epochs since SHD is more difficult than MNIST.\n",
    "\n",
    "The SHD dataloader for Spyx has built-in leave-one-group-out cross validation. This is becuase the test set for SHD has two unseen speakers, so when we train our model we need to make it robust to speakers it isn't training on in the hopes of improving generalization accuracy."
   ]
  },
  {
   "cell_type": "code",
   "execution_count": 11,
   "id": "bf91d9db-af60-4fdf-8562-2a680e94b693",
   "metadata": {
    "execution": {
     "iopub.execute_input": "2023-08-22T12:07:03.066214Z",
     "iopub.status.busy": "2023-08-22T12:07:03.065670Z",
     "iopub.status.idle": "2023-08-22T12:07:03.068759Z",
     "shell.execute_reply": "2023-08-22T12:07:03.068336Z",
     "shell.execute_reply.started": "2023-08-22T12:07:03.066190Z"
    },
    "tags": []
   },
   "outputs": [],
   "source": [
    "from time import time"
   ]
  },
  {
   "cell_type": "code",
   "execution_count": 12,
   "id": "ec1565db",
   "metadata": {
    "execution": {
     "iopub.execute_input": "2023-08-22T12:07:05.566129Z",
     "iopub.status.busy": "2023-08-22T12:07:05.565323Z",
     "iopub.status.idle": "2023-08-22T12:18:11.797565Z",
     "shell.execute_reply": "2023-08-22T12:18:11.796878Z",
     "shell.execute_reply.started": "2023-08-22T12:07:05.566121Z"
    },
    "scrolled": true,
    "tags": []
   },
   "outputs": [
    {
     "name": "stdout",
     "output_type": "stream",
     "text": [
      "ParameterReshaper: 1189376 parameters detected for optimization.\n"
     ]
    },
    {
     "data": {
      "application/vnd.jupyter.widget-view+json": {
       "model_id": "fb65aa0667c54b4d8581490e37a874e6",
       "version_major": 2,
       "version_minor": 0
      },
      "text/plain": [
       "  0%|          | 0/50 [00:00<?, ?it/s]"
      ]
     },
     "metadata": {},
     "output_type": "display_data"
    },
    {
     "name": "stdout",
     "output_type": "stream",
     "text": [
      "Performance: train_acc=0.9609375, val_acc=0.893172562122345 Elapsed Time: 660.3495941162109\n",
      "Test Acc: 0.8977364\n"
     ]
    }
   ],
   "source": [
    "key = jax.random.PRNGKey(0)\n",
    "\n",
    "start = time()\n",
    "evolved_params, metrics = evo(params, nmnist_dl, key, epochs=50) # 3:11\n",
    "elapsed_time = time()-start\n",
    "print(\"Performance: train_acc={}, val_acc={}\".format(*metrics[-1]), \"Elapsed Time: {}\".format(elapsed_time))\n",
    "acc, preds, tgts = test_evo(evolved_params, nmnist_dl)\n",
    "print(\"Test Acc:\",acc)"
   ]
  },
  {
   "cell_type": "code",
   "execution_count": 13,
   "id": "3a709a38-038d-4785-8656-dbe85853789a",
   "metadata": {
    "execution": {
     "iopub.execute_input": "2023-08-22T12:18:11.798938Z",
     "iopub.status.busy": "2023-08-22T12:18:11.798747Z",
     "iopub.status.idle": "2023-08-22T12:29:07.986254Z",
     "shell.execute_reply": "2023-08-22T12:29:07.985527Z",
     "shell.execute_reply.started": "2023-08-22T12:18:11.798920Z"
    },
    "scrolled": true,
    "tags": []
   },
   "outputs": [
    {
     "name": "stdout",
     "output_type": "stream",
     "text": [
      "ParameterReshaper: 1189376 parameters detected for optimization.\n"
     ]
    },
    {
     "data": {
      "application/vnd.jupyter.widget-view+json": {
       "model_id": "5273fa1db7a448f9bea1fe237a377fad",
       "version_major": 2,
       "version_minor": 0
      },
      "text/plain": [
       "  0%|          | 0/50 [00:00<?, ?it/s]"
      ]
     },
     "metadata": {},
     "output_type": "display_data"
    },
    {
     "name": "stdout",
     "output_type": "stream",
     "text": [
      "Performance: train_acc=0.95703125, val_acc=0.87941575050354 Elapsed Time: 655.1253998279572\n",
      "Test Acc: 0.8839143\n"
     ]
    }
   ],
   "source": [
    "key = jax.random.PRNGKey(7)\n",
    "\n",
    "start = time()\n",
    "evolved_params, metrics = evo(params, nmnist_dl, key, epochs=50) # 3:11\n",
    "elapsed_time = time()-start\n",
    "print(\"Performance: train_acc={}, val_acc={}\".format(*metrics[-1]), \"Elapsed Time: {}\".format(elapsed_time))\n",
    "acc, preds, tgts = test_evo(evolved_params, nmnist_dl)\n",
    "print(\"Test Acc:\",acc)"
   ]
  },
  {
   "cell_type": "code",
   "execution_count": 14,
   "id": "4ff9e8b3-7de9-47d7-8321-c95594fee7a8",
   "metadata": {
    "execution": {
     "iopub.execute_input": "2023-08-22T12:29:07.991319Z",
     "iopub.status.busy": "2023-08-22T12:29:07.991071Z",
     "iopub.status.idle": "2023-08-22T12:40:02.581381Z",
     "shell.execute_reply": "2023-08-22T12:40:02.580449Z",
     "shell.execute_reply.started": "2023-08-22T12:29:07.991301Z"
    },
    "scrolled": true,
    "tags": []
   },
   "outputs": [
    {
     "name": "stdout",
     "output_type": "stream",
     "text": [
      "ParameterReshaper: 1189376 parameters detected for optimization.\n"
     ]
    },
    {
     "data": {
      "application/vnd.jupyter.widget-view+json": {
       "model_id": "bfdc850698e8464cb78affa81f308a1b",
       "version_major": 2,
       "version_minor": 0
      },
      "text/plain": [
       "  0%|          | 0/50 [00:00<?, ?it/s]"
      ]
     },
     "metadata": {},
     "output_type": "display_data"
    },
    {
     "name": "stdout",
     "output_type": "stream",
     "text": [
      "Performance: train_acc=0.9609375, val_acc=0.890285313129425 Elapsed Time: 653.5114979743958\n",
      "Test Acc: 0.88952327\n"
     ]
    }
   ],
   "source": [
    "key = jax.random.PRNGKey(42)\n",
    "\n",
    "start = time()\n",
    "evolved_params, metrics = evo(params, nmnist_dl, key, epochs=50) # 3:11\n",
    "elapsed_time = time()-start\n",
    "print(\"Performance: train_acc={}, val_acc={}\".format(*metrics[-1]), \"Elapsed Time: {}\".format(elapsed_time))\n",
    "acc, preds, tgts = test_evo(evolved_params, nmnist_dl)\n",
    "print(\"Test Acc:\",acc)"
   ]
  },
  {
   "cell_type": "code",
   "execution_count": 15,
   "id": "b0b83f59-92ed-418d-8c94-2e20ee98bd42",
   "metadata": {
    "execution": {
     "iopub.execute_input": "2023-08-22T12:40:02.584899Z",
     "iopub.status.busy": "2023-08-22T12:40:02.584639Z",
     "iopub.status.idle": "2023-08-22T12:50:58.933187Z",
     "shell.execute_reply": "2023-08-22T12:50:58.932554Z",
     "shell.execute_reply.started": "2023-08-22T12:40:02.584879Z"
    },
    "scrolled": true,
    "tags": []
   },
   "outputs": [
    {
     "name": "stdout",
     "output_type": "stream",
     "text": [
      "ParameterReshaper: 1189376 parameters detected for optimization.\n"
     ]
    },
    {
     "data": {
      "application/vnd.jupyter.widget-view+json": {
       "model_id": "db18ec87de124a2faa21a0b7a490c348",
       "version_major": 2,
       "version_minor": 0
      },
      "text/plain": [
       "  0%|          | 0/50 [00:00<?, ?it/s]"
      ]
     },
     "metadata": {},
     "output_type": "display_data"
    },
    {
     "name": "stdout",
     "output_type": "stream",
     "text": [
      "Performance: train_acc=0.95703125, val_acc=0.89113450050354 Elapsed Time: 655.3028016090393\n",
      "Test Acc: 0.89783657\n"
     ]
    }
   ],
   "source": [
    "key = jax.random.PRNGKey(12345)\n",
    "\n",
    "start = time()\n",
    "evolved_params, metrics = evo(params, nmnist_dl, key, epochs=50) # 3:11\n",
    "elapsed_time = time()-start\n",
    "print(\"Performance: train_acc={}, val_acc={}\".format(*metrics[-1]), \"Elapsed Time: {}\".format(elapsed_time))\n",
    "acc, preds, tgts = test_evo(evolved_params, nmnist_dl)\n",
    "print(\"Test Acc:\",acc)"
   ]
  },
  {
   "cell_type": "code",
   "execution_count": 16,
   "id": "df6ba64a-c44f-430a-b02c-887bdbf3c28b",
   "metadata": {
    "execution": {
     "iopub.execute_input": "2023-08-22T12:50:58.935608Z",
     "iopub.status.busy": "2023-08-22T12:50:58.935435Z",
     "iopub.status.idle": "2023-08-22T13:01:55.171648Z",
     "shell.execute_reply": "2023-08-22T13:01:55.171109Z",
     "shell.execute_reply.started": "2023-08-22T12:50:58.935590Z"
    },
    "scrolled": true,
    "tags": []
   },
   "outputs": [
    {
     "name": "stdout",
     "output_type": "stream",
     "text": [
      "ParameterReshaper: 1189376 parameters detected for optimization.\n"
     ]
    },
    {
     "data": {
      "application/vnd.jupyter.widget-view+json": {
       "model_id": "df622daa5e2c41298de2976b8c48b7f2",
       "version_major": 2,
       "version_minor": 0
      },
      "text/plain": [
       "  0%|          | 0/50 [00:00<?, ?it/s]"
      ]
     },
     "metadata": {},
     "output_type": "display_data"
    },
    {
     "name": "stdout",
     "output_type": "stream",
     "text": [
      "Performance: train_acc=0.96484375, val_acc=0.88892662525177 Elapsed Time: 655.1524081230164\n",
      "Test Acc: 0.89503205\n"
     ]
    }
   ],
   "source": [
    "key = jax.random.PRNGKey(54321)\n",
    "\n",
    "start = time()\n",
    "evolved_params, metrics = evo(params, nmnist_dl, key, epochs=50) # 3:11\n",
    "elapsed_time = time()-start\n",
    "print(\"Performance: train_acc={}, val_acc={}\".format(*metrics[-1]), \"Elapsed Time: {}\".format(elapsed_time))\n",
    "acc, preds, tgts = test_evo(evolved_params, nmnist_dl)\n",
    "print(\"Test Acc:\",acc)"
   ]
  },
  {
   "cell_type": "code",
   "execution_count": 17,
   "id": "bb5445ce-b755-4398-bb38-155576ada1dd",
   "metadata": {
    "execution": {
     "iopub.execute_input": "2023-08-22T13:01:58.501413Z",
     "iopub.status.busy": "2023-08-22T13:01:58.500525Z",
     "iopub.status.idle": "2023-08-22T13:01:58.507034Z",
     "shell.execute_reply": "2023-08-22T13:01:58.506193Z",
     "shell.execute_reply.started": "2023-08-22T13:01:58.501384Z"
    }
   },
   "outputs": [
    {
     "data": {
      "text/plain": [
       "Array([[0.4375    , 0.3947011 ],\n",
       "       [0.67578125, 0.62788725],\n",
       "       [0.80859375, 0.7236753 ],\n",
       "       [0.85546875, 0.77632475],\n",
       "       [0.8671875 , 0.79959244],\n",
       "       [0.8828125 , 0.79432744],\n",
       "       [0.89453125, 0.8289742 ],\n",
       "       [0.8984375 , 0.8192935 ],\n",
       "       [0.9140625 , 0.8439199 ],\n",
       "       [0.921875  , 0.8350883 ],\n",
       "       [0.92578125, 0.850034  ],\n",
       "       [0.9296875 , 0.8580163 ],\n",
       "       [0.9296875 , 0.8580163 ],\n",
       "       [0.93359375, 0.8483356 ],\n",
       "       [0.93359375, 0.8483356 ],\n",
       "       [0.94140625, 0.8644701 ],\n",
       "       [0.93359375, 0.8644701 ],\n",
       "       [0.9453125 , 0.8496943 ],\n",
       "       [0.94140625, 0.8496943 ],\n",
       "       [0.94140625, 0.8496943 ],\n",
       "       [0.9375    , 0.8496943 ],\n",
       "       [0.94140625, 0.8496943 ],\n",
       "       [0.9453125 , 0.8496943 ],\n",
       "       [0.94140625, 0.8496943 ],\n",
       "       [0.9453125 , 0.8496943 ],\n",
       "       [0.94921875, 0.8731318 ],\n",
       "       [0.953125  , 0.8717731 ],\n",
       "       [0.953125  , 0.8717731 ],\n",
       "       [0.94921875, 0.8717731 ],\n",
       "       [0.94921875, 0.8717731 ],\n",
       "       [0.9453125 , 0.8717731 ],\n",
       "       [0.94921875, 0.8717731 ],\n",
       "       [0.953125  , 0.8717731 ],\n",
       "       [0.94921875, 0.8717731 ],\n",
       "       [0.96484375, 0.8897758 ],\n",
       "       [0.95703125, 0.8897758 ],\n",
       "       [0.94921875, 0.8897758 ],\n",
       "       [0.9609375 , 0.8897758 ],\n",
       "       [0.9609375 , 0.8897758 ],\n",
       "       [0.96484375, 0.8897758 ],\n",
       "       [0.95703125, 0.8897758 ],\n",
       "       [0.96484375, 0.8897758 ],\n",
       "       [0.953125  , 0.8897758 ],\n",
       "       [0.96875   , 0.8889266 ],\n",
       "       [0.953125  , 0.8889266 ],\n",
       "       [0.95703125, 0.8889266 ],\n",
       "       [0.9609375 , 0.8889266 ],\n",
       "       [0.953125  , 0.8889266 ],\n",
       "       [0.96484375, 0.8889266 ],\n",
       "       [0.96484375, 0.8889266 ]], dtype=float32)"
      ]
     },
     "execution_count": 17,
     "metadata": {},
     "output_type": "execute_result"
    }
   ],
   "source": [
    "metrics"
   ]
  },
  {
   "cell_type": "code",
   "execution_count": 18,
   "id": "52e6c9bb-2455-4015-a3cb-891ac31edfa3",
   "metadata": {
    "execution": {
     "iopub.execute_input": "2023-08-22T13:02:04.686005Z",
     "iopub.status.busy": "2023-08-22T13:02:04.685515Z",
     "iopub.status.idle": "2023-08-22T13:02:04.695156Z",
     "shell.execute_reply": "2023-08-22T13:02:04.694652Z",
     "shell.execute_reply.started": "2023-08-22T13:02:04.685976Z"
    }
   },
   "outputs": [
    {
     "data": {
      "text/plain": [
       "array([[ 923,    0,   14,    7,    3,    6,    7,    4,   11,    3],\n",
       "       [   1, 1081,   11,    5,    2,    4,    7,    2,   19,    1],\n",
       "       [  18,    1,  896,   30,   23,    3,    7,    9,   42,    2],\n",
       "       [   0,    3,   20,  897,    1,   30,    5,    5,   35,   12],\n",
       "       [   5,    8,    6,    1,  878,    3,    7,    2,   12,   57],\n",
       "       [  12,    0,    8,   46,    4,  754,   16,    3,   38,   10],\n",
       "       [  24,    3,   21,    5,   19,   21,  852,    1,   10,    1],\n",
       "       [   5,   10,   33,   15,    6,    4,    0,  879,   16,   59],\n",
       "       [   3,    5,   13,   28,    8,   26,    6,    8,  865,   10],\n",
       "       [  13,    4,    7,   17,   16,   10,    0,    9,   21,  911]])"
      ]
     },
     "execution_count": 18,
     "metadata": {},
     "output_type": "execute_result"
    }
   ],
   "source": [
    "from sklearn.metrics import confusion_matrix\n",
    "\n",
    "confusion_matrix(tgts, preds)"
   ]
  }
 ],
 "metadata": {
  "kernelspec": {
   "display_name": "Python 3 (ipykernel)",
   "language": "python",
   "name": "python3"
  },
  "language_info": {
   "codemirror_mode": {
    "name": "ipython",
    "version": 3
   },
   "file_extension": ".py",
   "mimetype": "text/x-python",
   "name": "python",
   "nbconvert_exporter": "python",
   "pygments_lexer": "ipython3",
   "version": "3.10.12"
  }
 },
 "nbformat": 4,
 "nbformat_minor": 5
}
