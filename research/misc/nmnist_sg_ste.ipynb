{
 "cells": [
  {
   "cell_type": "markdown",
   "id": "fd3a7575",
   "metadata": {},
   "source": [
    "# Training an SNN using surrogate gradients!\n",
    "\n",
    "Train your first SNN in JAX in minutes without needing a heavy-duty GPU!"
   ]
  },
  {
   "cell_type": "code",
   "execution_count": 1,
   "id": "4e7fa5fb-4958-48fa-adc5-d5f7cbe3202f",
   "metadata": {
    "execution": {
     "iopub.execute_input": "2023-08-22T07:25:55.957069Z",
     "iopub.status.busy": "2023-08-22T07:25:55.956570Z",
     "iopub.status.idle": "2023-08-22T07:25:56.860151Z",
     "shell.execute_reply": "2023-08-22T07:25:56.859682Z",
     "shell.execute_reply.started": "2023-08-22T07:25:55.957047Z"
    }
   },
   "outputs": [
    {
     "data": {
      "text/plain": [
       "Array([148.08, 419.56], dtype=float32, weak_type=True)"
      ]
     },
     "execution_count": 1,
     "metadata": {},
     "output_type": "execute_result"
    }
   ],
   "source": [
    "import jax.numpy as jnp\n",
    "warmup = jnp.array([12,34])\n",
    "warmup * 12.34"
   ]
  },
  {
   "cell_type": "code",
   "execution_count": 2,
   "id": "3cf6fa71",
   "metadata": {
    "execution": {
     "iopub.execute_input": "2023-08-22T07:25:59.067118Z",
     "iopub.status.busy": "2023-08-22T07:25:59.066245Z",
     "iopub.status.idle": "2023-08-22T07:26:01.545934Z",
     "shell.execute_reply": "2023-08-22T07:26:01.545288Z",
     "shell.execute_reply.started": "2023-08-22T07:25:59.067091Z"
    }
   },
   "outputs": [],
   "source": [
    "import spyx\n",
    "import spyx.nn as snn\n",
    "\n",
    "# JAX imports\n",
    "import jax\n",
    "from jax import numpy as jnp\n",
    "import jmp\n",
    "import numpy as np\n",
    "\n",
    "from jax_tqdm import scan_tqdm\n",
    "from tqdm import tqdm\n",
    "\n",
    "# implement our SNN in DeepMind's Haiku\n",
    "import haiku as hk\n",
    "\n",
    "# for surrogate loss training.\n",
    "import optax\n",
    "\n",
    "# rendering tools\n",
    "import matplotlib.pyplot as plt\n",
    "from sklearn.metrics import confusion_matrix, ConfusionMatrixDisplay\n",
    "%matplotlib notebook"
   ]
  },
  {
   "cell_type": "markdown",
   "id": "f4e9402d",
   "metadata": {},
   "source": [
    "## Set Mixed Precision Policy"
   ]
  },
  {
   "cell_type": "code",
   "execution_count": 3,
   "id": "9bfdcd58",
   "metadata": {
    "execution": {
     "iopub.execute_input": "2023-08-22T07:26:07.567431Z",
     "iopub.status.busy": "2023-08-22T07:26:07.566782Z",
     "iopub.status.idle": "2023-08-22T07:26:07.571844Z",
     "shell.execute_reply": "2023-08-22T07:26:07.570672Z",
     "shell.execute_reply.started": "2023-08-22T07:26:07.567405Z"
    }
   },
   "outputs": [],
   "source": [
    "policy = jmp.get_policy('half')\n",
    "\n",
    "\n",
    "hk.mixed_precision.set_policy(hk.Linear, policy)\n",
    "hk.mixed_precision.set_policy(snn.LIF, policy)\n",
    "hk.mixed_precision.set_policy(snn.LI, policy)"
   ]
  },
  {
   "cell_type": "markdown",
   "id": "95bf2a89",
   "metadata": {},
   "source": [
    "## Data Loading"
   ]
  },
  {
   "cell_type": "code",
   "execution_count": null,
   "id": "6573ba59",
   "metadata": {
    "execution": {
     "iopub.execute_input": "2023-08-22T07:30:41.804433Z",
     "iopub.status.busy": "2023-08-22T07:30:41.804159Z",
     "iopub.status.idle": "2023-08-22T07:32:20.999093Z",
     "shell.execute_reply": "2023-08-22T07:32:20.998477Z",
     "shell.execute_reply.started": "2023-08-22T07:30:41.804413Z"
    }
   },
   "outputs": [],
   "source": [
    "nmnist_dl = spyx.data.NMNIST_loader(64)"
   ]
  },
  {
   "cell_type": "code",
   "execution_count": 17,
   "id": "e5d127b3",
   "metadata": {
    "execution": {
     "iopub.execute_input": "2023-08-22T07:32:26.480090Z",
     "iopub.status.busy": "2023-08-22T07:32:26.479596Z",
     "iopub.status.idle": "2023-08-22T07:32:32.764276Z",
     "shell.execute_reply": "2023-08-22T07:32:32.763445Z",
     "shell.execute_reply.started": "2023-08-22T07:32:26.480067Z"
    }
   },
   "outputs": [],
   "source": [
    "key = jax.random.PRNGKey(0)\n",
    "x, y = nmnist_dl.train_epoch(key)"
   ]
  },
  {
   "cell_type": "code",
   "execution_count": 18,
   "id": "c5f6dbd2",
   "metadata": {
    "execution": {
     "iopub.execute_input": "2023-08-22T07:32:32.765873Z",
     "iopub.status.busy": "2023-08-22T07:32:32.765583Z",
     "iopub.status.idle": "2023-08-22T07:32:32.769809Z",
     "shell.execute_reply": "2023-08-22T07:32:32.769317Z",
     "shell.execute_reply.started": "2023-08-22T07:32:32.765852Z"
    }
   },
   "outputs": [
    {
     "data": {
      "text/plain": [
       "(216, 64, 5, 2, 34, 34)"
      ]
     },
     "execution_count": 18,
     "metadata": {},
     "output_type": "execute_result"
    }
   ],
   "source": [
    "x.shape"
   ]
  },
  {
   "cell_type": "code",
   "execution_count": 19,
   "id": "f34e0028",
   "metadata": {
    "execution": {
     "iopub.execute_input": "2023-08-22T07:32:36.214545Z",
     "iopub.status.busy": "2023-08-22T07:32:36.214235Z",
     "iopub.status.idle": "2023-08-22T07:32:36.218721Z",
     "shell.execute_reply": "2023-08-22T07:32:36.218203Z",
     "shell.execute_reply.started": "2023-08-22T07:32:36.214525Z"
    }
   },
   "outputs": [
    {
     "data": {
      "text/plain": [
       "(216, 64)"
      ]
     },
     "execution_count": 19,
     "metadata": {},
     "output_type": "execute_result"
    }
   ],
   "source": [
    "y.shape"
   ]
  },
  {
   "cell_type": "markdown",
   "id": "f878677e",
   "metadata": {},
   "source": [
    "## SNN\n",
    "\n",
    "Here we define a simple feed-forward SNN using Haiku's RNN features, incorporating our\n",
    "LIF neuron models where activation functions would usually go. Haiku manages all of the state for us, so when we transform the function and get an apply() function we just need to pass the params!\n",
    "\n",
    "Since spiking neurons have a discrete all-or-nothing activation, in order to do gradient descent we'll have to approximate the derivative of the Heaviside function with something smoother. In this case, we use the SuperSpike surrogate gradient from Zenke & Ganguli 2017.\n",
    "Also not that we aren't using bias terms on the linear layers and since the inputs are images, we flatten the data before feeding it to the first layer.\n",
    "\n",
    "Depending on computational constraints, we can use haiku's dynamic unroll to iterate the SNN, or we can use static unroll where the SNN will be unrolled during the JIT compiling process to further increase speed when training on GPU. Note that the static unroll will take longer to compile, but once it runs the iterations per second will be 2x-3x greater than the dynamic unroll."
   ]
  },
  {
   "cell_type": "code",
   "execution_count": 8,
   "id": "6f02cfdd",
   "metadata": {
    "execution": {
     "iopub.execute_input": "2023-08-22T07:28:36.996680Z",
     "iopub.status.busy": "2023-08-22T07:28:36.996151Z",
     "iopub.status.idle": "2023-08-22T07:28:37.001337Z",
     "shell.execute_reply": "2023-08-22T07:28:37.000714Z",
     "shell.execute_reply.started": "2023-08-22T07:28:36.996617Z"
    }
   },
   "outputs": [],
   "source": [
    "def nmnist_snn(x):    \n",
    "    # seqs is [T, F].\n",
    "    \n",
    "    x = hk.BatchApply(hk.Flatten())(x)\n",
    "    x = hk.BatchApply(hk.Linear(512, with_bias=False))(x)\n",
    "    \n",
    "    core = hk.DeepRNN([\n",
    "        snn.LIF((512,)),\n",
    "        hk.Linear(10, with_bias=False),\n",
    "        snn.LI((10,))\n",
    "    ])\n",
    "    \n",
    "    # static unroll for maximum performance\n",
    "    spikes, V = hk.dynamic_unroll(core, x, core.initial_state(x.shape[0]), time_major=False, unroll=20)\n",
    "    \n",
    "    return spikes, V\n"
   ]
  },
  {
   "cell_type": "markdown",
   "id": "0711ce25",
   "metadata": {},
   "source": [
    "## Gradient Descent\n",
    "\n",
    "We define a training loop below.\n",
    "\n",
    "We use the Lion optimizer from Optax, which is a more efficient competitor to the popular Adam. The eval steps and updates are JIT'ed to maximize time spent in optimized GPU code and minimize time spent in higher-level python.\n",
    "\n",
    "The use of regularizers in the spiking network will be covered in a seperate tutorial."
   ]
  },
  {
   "cell_type": "code",
   "execution_count": 22,
   "id": "aa93e1f4",
   "metadata": {
    "execution": {
     "iopub.execute_input": "2023-08-22T07:33:39.786170Z",
     "iopub.status.busy": "2023-08-22T07:33:39.785896Z",
     "iopub.status.idle": "2023-08-22T07:33:39.795515Z",
     "shell.execute_reply": "2023-08-22T07:33:39.794872Z",
     "shell.execute_reply.started": "2023-08-22T07:33:39.786150Z"
    }
   },
   "outputs": [],
   "source": [
    "def gd(SNN, params, dl, epochs=300, schedule = 2e-4):\n",
    "    \n",
    "    #aug = spyx.data.shift_augment(max_shift=3, axes=(-2,-1)) # need to make this stateless\n",
    "    \n",
    "    opt = optax.chain(\n",
    "        optax.centralize(),\n",
    "        optax.lion(learning_rate=schedule)\n",
    "    )\n",
    "    # create and initialize the optimizer\n",
    "    opt_state = opt.init(params)\n",
    "    grad_params = params\n",
    "        \n",
    "    # define and compile our eval function that computes the loss for our SNN\n",
    "    @jax.jit\n",
    "    def net_eval(weights, events, targets):\n",
    "        readout = SNN.apply(weights, events)\n",
    "        traces, V_f = readout\n",
    "        return spyx.fn.integral_crossentropy(traces, targets, smoothing=0.2)\n",
    "        \n",
    "    # Use JAX to create a function that calculates the loss and the gradient!\n",
    "    surrogate_grad = jax.value_and_grad(net_eval) \n",
    "        \n",
    "    rng = jax.random.PRNGKey(0)        \n",
    "    \n",
    "    # compile the meat of our training loop for speed\n",
    "    @jax.jit\n",
    "    def train_step(state, data):\n",
    "        grad_params, opt_state = state\n",
    "        events, targets = data # fix this\n",
    "        events = jnp.unpackbits(events, axis=1) # decompress temporal axis\n",
    "        # compute loss and gradient                    # need better augment rng\n",
    "        loss, grads = surrogate_grad(grad_params, events, targets)\n",
    "        # generate updates based on the gradients and optimizer\n",
    "        updates, opt_state = opt.update(grads, opt_state, grad_params)\n",
    "        # return the updated parameters\n",
    "        new_state = [optax.apply_updates(grad_params, updates), opt_state]\n",
    "        return new_state, loss\n",
    "    \n",
    "    # For validation epochs, do the same as before but compute the\n",
    "    # accuracy, predictions and losses (no gradients needed)\n",
    "    @jax.jit\n",
    "    def eval_step(grad_params, data):\n",
    "        events, targets = data # fix\n",
    "        events = jnp.unpackbits(events, axis=1)\n",
    "        readout = SNN.apply(grad_params, events)\n",
    "        traces, V_f = readout\n",
    "        acc, pred = spyx.fn.integral_accuracy(traces, targets)\n",
    "        loss = spyx.fn.integral_crossentropy(traces, targets)\n",
    "        return grad_params, jnp.array([acc, loss])\n",
    "        \n",
    "    \n",
    "    val_data = dl.val_epoch()\n",
    "    \n",
    "    # Here's the start of our training loop!\n",
    "    @scan_tqdm(epochs)\n",
    "    def epoch(epoch_state, epoch_num):\n",
    "        curr_params, curr_opt_state = epoch_state\n",
    "        \n",
    "        shuffle_rng = jax.random.fold_in(rng, epoch_num)\n",
    "        train_data = dl.train_epoch(shuffle_rng)\n",
    "        \n",
    "        # train epoch\n",
    "        end_state, train_loss = jax.lax.scan(\n",
    "            train_step,# func\n",
    "            [curr_params, curr_opt_state],# init\n",
    "            train_data,# xs\n",
    "            train_data.obs.shape[0]# len\n",
    "        )\n",
    "        \n",
    "        new_params, _ = end_state\n",
    "            \n",
    "        # val epoch\n",
    "        _, val_metrics = jax.lax.scan(\n",
    "            eval_step,# func\n",
    "            new_params,# init\n",
    "            val_data,# xs\n",
    "            val_data.obs.shape[0]# len\n",
    "        )\n",
    "\n",
    "        \n",
    "        return end_state, jnp.concatenate([jnp.expand_dims(jnp.mean(train_loss),0), jnp.mean(val_metrics, axis=0)])\n",
    "    # end epoch\n",
    "    \n",
    "    # epoch loop\n",
    "    final_state, metrics = jax.lax.scan(\n",
    "        epoch,\n",
    "        [grad_params, opt_state], # metric arrays\n",
    "        jnp.arange(epochs), # \n",
    "        epochs # len of loop\n",
    "    )\n",
    "    \n",
    "    final_params, _ = final_state\n",
    "    \n",
    "                \n",
    "    # return our final, optimized network.       \n",
    "    return final_params, metrics"
   ]
  },
  {
   "cell_type": "code",
   "execution_count": 10,
   "id": "f5eb4fb2",
   "metadata": {
    "execution": {
     "iopub.execute_input": "2023-08-22T07:28:44.699921Z",
     "iopub.status.busy": "2023-08-22T07:28:44.699641Z",
     "iopub.status.idle": "2023-08-22T07:28:44.705442Z",
     "shell.execute_reply": "2023-08-22T07:28:44.704786Z",
     "shell.execute_reply.started": "2023-08-22T07:28:44.699902Z"
    }
   },
   "outputs": [],
   "source": [
    "def test_gd(SNN, params, dl):\n",
    "\n",
    "    @jax.jit\n",
    "    def test_step(params, data):\n",
    "        events, targets = data\n",
    "        events = jnp.unpackbits(events, axis=1)\n",
    "        readout = SNN.apply(params, events)\n",
    "        traces, V_f = readout\n",
    "        acc, pred = spyx.fn.integral_accuracy(traces, targets)\n",
    "        loss = spyx.fn.integral_crossentropy(traces, targets)\n",
    "        return params, [acc, loss, pred, targets]\n",
    "    \n",
    "    test_data = dl.test_epoch()\n",
    "    \n",
    "    _, test_metrics = jax.lax.scan(\n",
    "            test_step,# func\n",
    "            params,# init\n",
    "            test_data,# xs\n",
    "            test_data.obs.shape[0]# len\n",
    "    )\n",
    "    \n",
    "    acc = jnp.mean(test_metrics[0])\n",
    "    loss = jnp.mean(test_metrics[1])\n",
    "    preds = jnp.array(test_metrics[2]).flatten()\n",
    "    tgts = jnp.array(test_metrics[3]).flatten()\n",
    "    return acc, loss, preds, tgts"
   ]
  },
  {
   "cell_type": "markdown",
   "id": "d1669fb3",
   "metadata": {},
   "source": [
    "## Training Time\n"
   ]
  },
  {
   "cell_type": "code",
   "execution_count": 11,
   "id": "8922b152",
   "metadata": {
    "execution": {
     "iopub.execute_input": "2023-08-22T07:28:47.208224Z",
     "iopub.status.busy": "2023-08-22T07:28:47.207632Z",
     "iopub.status.idle": "2023-08-22T07:28:47.211381Z",
     "shell.execute_reply": "2023-08-22T07:28:47.210753Z",
     "shell.execute_reply.started": "2023-08-22T07:28:47.208202Z"
    }
   },
   "outputs": [],
   "source": [
    "from time import time"
   ]
  },
  {
   "cell_type": "code",
   "execution_count": 27,
   "id": "ec1565db",
   "metadata": {
    "execution": {
     "iopub.execute_input": "2023-08-22T07:34:51.902480Z",
     "iopub.status.busy": "2023-08-22T07:34:51.902049Z",
     "iopub.status.idle": "2023-08-22T07:35:03.534713Z",
     "shell.execute_reply": "2023-08-22T07:35:03.533977Z",
     "shell.execute_reply.started": "2023-08-22T07:34:51.902457Z"
    },
    "scrolled": true
   },
   "outputs": [
    {
     "data": {
      "application/vnd.jupyter.widget-view+json": {
       "model_id": "a4abd845b072457ab21a427ce297a76d",
       "version_major": 2,
       "version_minor": 0
      },
      "text/plain": [
       "  0%|          | 0/25 [00:00<?, ?it/s]"
      ]
     },
     "metadata": {},
     "output_type": "display_data"
    },
    {
     "name": "stdout",
     "output_type": "stream",
     "text": [
      "Performance: train_loss=1.0463900566101074, val_acc=0.906589686870575, val_loss=1.4872430562973022\n",
      "Time Elapsed: 9.723111867904663\n",
      "Accuracy: 0.9105569 Loss: 1.4683846\n"
     ]
    }
   ],
   "source": [
    "key = jax.random.PRNGKey(0)\n",
    "# Since there's nothing stochastic about the network, we can avoid using an RNG as a param!\n",
    "SNN = hk.without_apply_rng(hk.transform(nmnist_snn))\n",
    "params = SNN.init(rng=key, x=x[0])\n",
    "start = time()\n",
    "grad_params, metrics = gd(SNN, params, nmnist_dl, epochs=25, schedule=2e-4)\n",
    "elapsed = time() - start\n",
    "print(\"Performance: train_loss={}, val_acc={}, val_loss={}\".format(*metrics[-1]))\n",
    "print(\"Time Elapsed:\", elapsed)\n",
    "acc, loss, preds, tgts = test_gd(SNN, grad_params, nmnist_dl)\n",
    "print(\"Accuracy:\", acc, \"Loss:\", loss)\n"
   ]
  },
  {
   "cell_type": "code",
   "execution_count": 29,
   "id": "8bed2c6b",
   "metadata": {
    "execution": {
     "iopub.execute_input": "2023-08-22T07:35:29.759421Z",
     "iopub.status.busy": "2023-08-22T07:35:29.758633Z",
     "iopub.status.idle": "2023-08-22T07:35:41.289981Z",
     "shell.execute_reply": "2023-08-22T07:35:41.289488Z",
     "shell.execute_reply.started": "2023-08-22T07:35:29.759395Z"
    },
    "scrolled": true
   },
   "outputs": [
    {
     "data": {
      "application/vnd.jupyter.widget-view+json": {
       "model_id": "11ac7efa4fdb4a3b82526b79b9cb3a0b",
       "version_major": 2,
       "version_minor": 0
      },
      "text/plain": [
       "  0%|          | 0/25 [00:00<?, ?it/s]"
      ]
     },
     "metadata": {},
     "output_type": "display_data"
    },
    {
     "name": "stdout",
     "output_type": "stream",
     "text": [
      "Performance: train_loss=1.0490636825561523, val_acc=0.9082880616188049, val_loss=1.4835765361785889\n",
      "Time Elapsed: 9.753554821014404\n",
      "Accuracy: 0.91396236 Loss: 1.4707409\n"
     ]
    }
   ],
   "source": [
    "key = jax.random.PRNGKey(7)\n",
    "# Since there's nothing stochastic about the network, we can avoid using an RNG as a param!\n",
    "SNN = hk.without_apply_rng(hk.transform(nmnist_snn))\n",
    "params = SNN.init(rng=key, x=x[0])\n",
    "start = time()\n",
    "grad_params, metrics = gd(SNN, params, nmnist_dl, epochs=25, schedule=2e-4)\n",
    "elapsed = time() - start\n",
    "print(\"Performance: train_loss={}, val_acc={}, val_loss={}\".format(*metrics[-1]))\n",
    "print(\"Time Elapsed:\", elapsed)\n",
    "acc, loss, preds, tgts = test_gd(SNN, grad_params, nmnist_dl)\n",
    "print(\"Accuracy:\", acc, \"Loss:\", loss)\n"
   ]
  },
  {
   "cell_type": "code",
   "execution_count": 30,
   "id": "32cfa958",
   "metadata": {
    "execution": {
     "iopub.execute_input": "2023-08-22T07:35:42.060152Z",
     "iopub.status.busy": "2023-08-22T07:35:42.059606Z",
     "iopub.status.idle": "2023-08-22T07:35:53.546262Z",
     "shell.execute_reply": "2023-08-22T07:35:53.545532Z",
     "shell.execute_reply.started": "2023-08-22T07:35:42.060129Z"
    },
    "scrolled": true
   },
   "outputs": [
    {
     "data": {
      "application/vnd.jupyter.widget-view+json": {
       "model_id": "5169ec36bc4d4bdb9084dfc0b3105f03",
       "version_major": 2,
       "version_minor": 0
      },
      "text/plain": [
       "  0%|          | 0/25 [00:00<?, ?it/s]"
      ]
     },
     "metadata": {},
     "output_type": "display_data"
    },
    {
     "name": "stdout",
     "output_type": "stream",
     "text": [
      "Performance: train_loss=1.0460143089294434, val_acc=0.9142323732376099, val_loss=1.4728667736053467\n",
      "Time Elapsed: 9.669090032577515\n",
      "Accuracy: 0.9133614 Loss: 1.4612199\n"
     ]
    }
   ],
   "source": [
    "key = jax.random.PRNGKey(42)\n",
    "# Since there's nothing stochastic about the network, we can avoid using an RNG as a param!\n",
    "SNN = hk.without_apply_rng(hk.transform(nmnist_snn))\n",
    "params = SNN.init(rng=key, x=x[0])\n",
    "start = time()\n",
    "grad_params, metrics = gd(SNN, params, nmnist_dl, epochs=25, schedule=2e-4)\n",
    "elapsed = time() - start\n",
    "print(\"Performance: train_loss={}, val_acc={}, val_loss={}\".format(*metrics[-1]))\n",
    "print(\"Time Elapsed:\", elapsed)\n",
    "acc, loss, preds, tgts = test_gd(SNN, grad_params, nmnist_dl)\n",
    "print(\"Accuracy:\", acc, \"Loss:\", loss)\n"
   ]
  },
  {
   "cell_type": "code",
   "execution_count": 31,
   "id": "98d48193",
   "metadata": {
    "execution": {
     "iopub.execute_input": "2023-08-22T07:35:53.548987Z",
     "iopub.status.busy": "2023-08-22T07:35:53.548843Z",
     "iopub.status.idle": "2023-08-22T07:36:05.011909Z",
     "shell.execute_reply": "2023-08-22T07:36:05.011456Z",
     "shell.execute_reply.started": "2023-08-22T07:35:53.548981Z"
    },
    "scrolled": true
   },
   "outputs": [
    {
     "data": {
      "application/vnd.jupyter.widget-view+json": {
       "model_id": "d334881553224d78b102343717950469",
       "version_major": 2,
       "version_minor": 0
      },
      "text/plain": [
       "  0%|          | 0/25 [00:00<?, ?it/s]"
      ]
     },
     "metadata": {},
     "output_type": "display_data"
    },
    {
     "name": "stdout",
     "output_type": "stream",
     "text": [
      "Performance: train_loss=1.0485444068908691, val_acc=0.909307062625885, val_loss=1.4736167192459106\n",
      "Time Elapsed: 9.50881838798523\n",
      "Accuracy: 0.9120593 Loss: 1.4651097\n"
     ]
    }
   ],
   "source": [
    "key = jax.random.PRNGKey(12345)\n",
    "# Since there's nothing stochastic about the network, we can avoid using an RNG as a param!\n",
    "SNN = hk.without_apply_rng(hk.transform(nmnist_snn))\n",
    "params = SNN.init(rng=key, x=x[0])\n",
    "start = time()\n",
    "grad_params, metrics = gd(SNN, params, nmnist_dl, epochs=25, schedule=2e-4)\n",
    "elapsed = time() - start\n",
    "print(\"Performance: train_loss={}, val_acc={}, val_loss={}\".format(*metrics[-1]))\n",
    "print(\"Time Elapsed:\", elapsed)\n",
    "acc, loss, preds, tgts = test_gd(SNN, grad_params, nmnist_dl)\n",
    "print(\"Accuracy:\", acc, \"Loss:\", loss)\n"
   ]
  },
  {
   "cell_type": "code",
   "execution_count": 32,
   "id": "9f408697",
   "metadata": {
    "execution": {
     "iopub.execute_input": "2023-08-22T07:36:05.014873Z",
     "iopub.status.busy": "2023-08-22T07:36:05.014410Z",
     "iopub.status.idle": "2023-08-22T07:36:16.461837Z",
     "shell.execute_reply": "2023-08-22T07:36:16.460990Z",
     "shell.execute_reply.started": "2023-08-22T07:36:05.014854Z"
    },
    "scrolled": true
   },
   "outputs": [
    {
     "data": {
      "application/vnd.jupyter.widget-view+json": {
       "model_id": "ffefaf28008e4a768e216af2fb04911c",
       "version_major": 2,
       "version_minor": 0
      },
      "text/plain": [
       "  0%|          | 0/25 [00:00<?, ?it/s]"
      ]
     },
     "metadata": {},
     "output_type": "display_data"
    },
    {
     "name": "stdout",
     "output_type": "stream",
     "text": [
      "Performance: train_loss=1.0516709089279175, val_acc=0.9121943116188049, val_loss=1.4870579242706299\n",
      "Time Elapsed: 9.528529167175293\n",
      "Accuracy: 0.9172676 Loss: 1.4718499\n"
     ]
    }
   ],
   "source": [
    "key = jax.random.PRNGKey(54321)\n",
    "# Since there's nothing stochastic about the network, we can avoid using an RNG as a param!\n",
    "SNN = hk.without_apply_rng(hk.transform(nmnist_snn))\n",
    "params = SNN.init(rng=key, x=x[0])\n",
    "start = time()\n",
    "grad_params, metrics = gd(SNN, params, nmnist_dl, epochs=25, schedule=2e-4) \n",
    "elapsed = time() - start\n",
    "print(\"Performance: train_loss={}, val_acc={}, val_loss={}\".format(*metrics[-1]))\n",
    "print(\"Time Elapsed:\", elapsed)\n",
    "acc, loss, preds, tgts = test_gd(SNN, grad_params, nmnist_dl)\n",
    "print(\"Accuracy:\", acc, \"Loss:\", loss)\n"
   ]
  }
 ],
 "metadata": {
  "kernelspec": {
   "display_name": "Python 3 (ipykernel)",
   "language": "python",
   "name": "python3"
  },
  "language_info": {
   "codemirror_mode": {
    "name": "ipython",
    "version": 3
   },
   "file_extension": ".py",
   "mimetype": "text/x-python",
   "name": "python",
   "nbconvert_exporter": "python",
   "pygments_lexer": "ipython3",
   "version": "3.10.12"
  }
 },
 "nbformat": 4,
 "nbformat_minor": 5
}
