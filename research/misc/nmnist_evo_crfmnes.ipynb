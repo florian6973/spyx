{
 "cells": [
  {
   "cell_type": "markdown",
   "id": "fd3a7575",
   "metadata": {},
   "source": [
    "# Training an SNN using evolution!\n",
    "\n",
    "This notebook contains the experimental results for evolving SNNs for NMNIST."
   ]
  },
  {
   "cell_type": "code",
   "execution_count": 1,
   "id": "222bb1a3",
   "metadata": {
    "execution": {
     "iopub.execute_input": "2023-08-22T06:31:23.217375Z",
     "iopub.status.busy": "2023-08-22T06:31:23.216564Z",
     "iopub.status.idle": "2023-08-22T06:31:24.484635Z",
     "shell.execute_reply": "2023-08-22T06:31:24.484061Z",
     "shell.execute_reply.started": "2023-08-22T06:31:23.217352Z"
    },
    "tags": []
   },
   "outputs": [
    {
     "data": {
      "text/plain": [
       "Array([12.34, 24.68, 37.02], dtype=float32, weak_type=True)"
      ]
     },
     "execution_count": 1,
     "metadata": {},
     "output_type": "execute_result"
    }
   ],
   "source": [
    "import jax.numpy as jnp\n",
    "warmup = jnp.array([1,2,3])\n",
    "warmup * 12.34"
   ]
  },
  {
   "cell_type": "code",
   "execution_count": 2,
   "id": "3cf6fa71",
   "metadata": {
    "execution": {
     "iopub.execute_input": "2023-08-22T06:31:25.789561Z",
     "iopub.status.busy": "2023-08-22T06:31:25.789141Z",
     "iopub.status.idle": "2023-08-22T06:31:28.919189Z",
     "shell.execute_reply": "2023-08-22T06:31:28.918446Z",
     "shell.execute_reply.started": "2023-08-22T06:31:25.789535Z"
    },
    "tags": []
   },
   "outputs": [],
   "source": [
    "import spyx\n",
    "import spyx.nn as snn\n",
    "\n",
    "# JAX imports\n",
    "import jax\n",
    "from jax import numpy as jnp\n",
    "import jmp\n",
    "import numpy as np\n",
    "\n",
    "from jax_tqdm import scan_tqdm\n",
    "from tqdm import tqdm\n",
    "\n",
    "# implement our SNN in DeepMind's Haiku\n",
    "import haiku as hk\n",
    "\n",
    "# for surrogate loss training.\n",
    "import evosax\n",
    "from evosax.strategies import CR_FM_NES as CRFMNES\n",
    "from evosax.strategies import LM_MA_ES as LMMAES\n",
    "\n",
    "from evosax import FitnessShaper\n",
    "\n",
    "# rendering tools\n",
    "import matplotlib.pyplot as plt\n",
    "from sklearn.metrics import confusion_matrix, ConfusionMatrixDisplay\n",
    "%matplotlib notebook"
   ]
  },
  {
   "cell_type": "markdown",
   "id": "f4e9402d",
   "metadata": {},
   "source": [
    "## Set Mixed Precision Policy"
   ]
  },
  {
   "cell_type": "code",
   "execution_count": 3,
   "id": "9bfdcd58",
   "metadata": {
    "execution": {
     "iopub.execute_input": "2023-08-22T06:31:31.057153Z",
     "iopub.status.busy": "2023-08-22T06:31:31.056749Z",
     "iopub.status.idle": "2023-08-22T06:31:31.062779Z",
     "shell.execute_reply": "2023-08-22T06:31:31.062000Z",
     "shell.execute_reply.started": "2023-08-22T06:31:31.057131Z"
    },
    "tags": []
   },
   "outputs": [],
   "source": [
    "policy = jmp.get_policy('half')\n",
    "\n",
    "\n",
    "hk.mixed_precision.set_policy(hk.Flatten, policy)\n",
    "hk.mixed_precision.set_policy(hk.Linear, policy)\n",
    "hk.mixed_precision.set_policy(snn.LIF, policy)\n",
    "hk.mixed_precision.set_policy(snn.LI, policy)"
   ]
  },
  {
   "cell_type": "markdown",
   "id": "95bf2a89",
   "metadata": {},
   "source": [
    "## Data Loading"
   ]
  },
  {
   "cell_type": "code",
   "execution_count": 4,
   "id": "6573ba59",
   "metadata": {
    "execution": {
     "iopub.execute_input": "2023-08-22T06:31:32.843899Z",
     "iopub.status.busy": "2023-08-22T06:31:32.843351Z",
     "iopub.status.idle": "2023-08-22T06:33:20.359226Z",
     "shell.execute_reply": "2023-08-22T06:33:20.358543Z",
     "shell.execute_reply.started": "2023-08-22T06:31:32.843872Z"
    },
    "tags": []
   },
   "outputs": [],
   "source": [
    "nmnist_dl = spyx.data.NMNIST_loader(batch_size=256)"
   ]
  },
  {
   "cell_type": "code",
   "execution_count": 5,
   "id": "e5d127b3",
   "metadata": {
    "execution": {
     "iopub.execute_input": "2023-08-22T06:35:58.782485Z",
     "iopub.status.busy": "2023-08-22T06:35:58.782215Z",
     "iopub.status.idle": "2023-08-22T06:36:05.165396Z",
     "shell.execute_reply": "2023-08-22T06:36:05.164679Z",
     "shell.execute_reply.started": "2023-08-22T06:35:58.782466Z"
    },
    "tags": []
   },
   "outputs": [],
   "source": [
    "key = jax.random.PRNGKey(0)\n",
    "x, y = nmnist_dl.train_epoch(key)"
   ]
  },
  {
   "cell_type": "code",
   "execution_count": 6,
   "id": "f2076c71",
   "metadata": {
    "execution": {
     "iopub.execute_input": "2023-08-22T06:36:08.331940Z",
     "iopub.status.busy": "2023-08-22T06:36:08.331680Z",
     "iopub.status.idle": "2023-08-22T06:36:08.336643Z",
     "shell.execute_reply": "2023-08-22T06:36:08.335954Z",
     "shell.execute_reply.started": "2023-08-22T06:36:08.331921Z"
    },
    "tags": []
   },
   "outputs": [
    {
     "data": {
      "text/plain": [
       "(54, 256, 5, 2, 34, 34)"
      ]
     },
     "execution_count": 6,
     "metadata": {},
     "output_type": "execute_result"
    }
   ],
   "source": [
    "x.shape"
   ]
  },
  {
   "cell_type": "markdown",
   "id": "f878677e",
   "metadata": {},
   "source": [
    "## SNN\n",
    "\n",
    "A simple Feed Forward architecture is used to reduce computational demand compared to evaluating hundreds of convolutional SNNs in parallel."
   ]
  },
  {
   "cell_type": "code",
   "execution_count": 7,
   "id": "1e9ee900",
   "metadata": {
    "execution": {
     "iopub.execute_input": "2023-08-22T06:36:10.224301Z",
     "iopub.status.busy": "2023-08-22T06:36:10.224044Z",
     "iopub.status.idle": "2023-08-22T06:36:10.228671Z",
     "shell.execute_reply": "2023-08-22T06:36:10.227869Z",
     "shell.execute_reply.started": "2023-08-22T06:36:10.224283Z"
    },
    "tags": []
   },
   "outputs": [],
   "source": [
    "def nmnist_snn(x):\n",
    "    \n",
    "    x = hk.BatchApply(hk.Flatten())(x)\n",
    "    x = hk.BatchApply(hk.Linear(512, with_bias=False))(x)\n",
    "    \n",
    "    core = hk.DeepRNN([\n",
    "        snn.LIF((512,)),\n",
    "        hk.Linear(10, with_bias=False),\n",
    "        snn.LI((10,))\n",
    "    ])\n",
    "    \n",
    "    # static unroll for maximum performance\n",
    "    spikes, V = hk.dynamic_unroll(core, x, core.initial_state(x.shape[0]), time_major=False, unroll=20)\n",
    "    \n",
    "    return spikes, V\n"
   ]
  },
  {
   "cell_type": "code",
   "execution_count": 8,
   "id": "e32e514a",
   "metadata": {
    "execution": {
     "iopub.execute_input": "2023-08-22T06:36:11.644593Z",
     "iopub.status.busy": "2023-08-22T06:36:11.644316Z",
     "iopub.status.idle": "2023-08-22T06:36:15.059770Z",
     "shell.execute_reply": "2023-08-22T06:36:15.058960Z",
     "shell.execute_reply.started": "2023-08-22T06:36:11.644570Z"
    },
    "tags": []
   },
   "outputs": [],
   "source": [
    "key = jax.random.PRNGKey(0)\n",
    "# Since there's nothing stochastic about the network, we can avoid using an RNG as a param!\n",
    "SNN = hk.without_apply_rng(hk.transform(nmnist_snn))\n",
    "params = SNN.init(rng=key, x=x[0])"
   ]
  },
  {
   "cell_type": "markdown",
   "id": "0711ce25",
   "metadata": {},
   "source": [
    "## evolution\n"
   ]
  },
  {
   "cell_type": "code",
   "execution_count": 9,
   "id": "aa93e1f4",
   "metadata": {
    "execution": {
     "iopub.execute_input": "2023-08-22T06:36:24.428654Z",
     "iopub.status.busy": "2023-08-22T06:36:24.428380Z",
     "iopub.status.idle": "2023-08-22T06:36:24.437858Z",
     "shell.execute_reply": "2023-08-22T06:36:24.437359Z",
     "shell.execute_reply.started": "2023-08-22T06:36:24.428632Z"
    },
    "tags": []
   },
   "outputs": [],
   "source": [
    "def evo(params, dl, key, epochs=300): # rename this\n",
    "    rng = key        \n",
    "    \n",
    "    \n",
    "    param_reshaper = evosax.ParameterReshaper(params)\n",
    "        \n",
    "\n",
    "    fit_shaper = FitnessShaper(maximize=True)\n",
    "\n",
    "    # Shape the evaluated fitness scores\n",
    "    \n",
    "    strategy = CRFMNES(popsize=256, \n",
    "                num_dims=param_reshaper.total_params,\n",
    "                sigma_init=0.03\n",
    "                )\n",
    "\n",
    "    opt_state = strategy.initialize(rng)\n",
    "    \n",
    "            \n",
    "    # define and compile our eval function that computes the loss for our SNN\n",
    "    @jax.jit\n",
    "    def net_eval(weights, events, targets):\n",
    "        readout = SNN.apply(weights, events)\n",
    "        traces, V_f = readout\n",
    "        acc, _ = spyx.fn.integral_accuracy(traces, targets)\n",
    "        return acc\n",
    "        \n",
    "    sim_fn = jax.vmap(net_eval, (0, None, None))\n",
    "    \n",
    "    # compile the meat of our training loop for speed\n",
    "    @jax.jit\n",
    "    def train_step(state, data):\n",
    "        old_state, rng = state\n",
    "        rng, rng_ask = jax.random.split(rng)\n",
    "        events, targets = data\n",
    "        pop, evo_state = strategy.ask(rng_ask, old_state)\n",
    "        population_params = param_reshaper.reshape(pop.astype(jnp.float16))\n",
    "        # EVAL\n",
    "        fit = sim_fn(population_params, jnp.unpackbits(events, axis=1), targets) \n",
    "        # TELL\n",
    "        fit_shaped = fit_shaper.apply(pop, fit) \n",
    "        new_state = [strategy.tell(pop, fit_shaped, evo_state), rng]\n",
    "        \n",
    "        return new_state, fit\n",
    "    \n",
    "    # For validation epochs, do the same as before but compute the\n",
    "    # accuracy, predictions and losses (no gradients needed)\n",
    "    @jax.jit\n",
    "    def eval_step(grad_params_rng, data):\n",
    "        grad_params, rng = grad_params_rng\n",
    "        events, targets = data # fix\n",
    "        readout = SNN.apply(grad_params, jnp.unpackbits(events, axis=1))\n",
    "        traces, V_f = readout\n",
    "        acc, _ = spyx.fn.integral_accuracy(traces, targets)\n",
    "        return [grad_params, rng], acc\n",
    "        \n",
    "    \n",
    "    val_data = dl.val_epoch()\n",
    "    \n",
    "    # Here's the start of our training loop!\n",
    "    @scan_tqdm(epochs)\n",
    "    def epoch(curr_opt_state, epoch_num):\n",
    "        \n",
    "        shuffle_rng = jax.random.fold_in(rng, epoch_num)\n",
    "        train_data = dl.train_epoch(shuffle_rng)\n",
    "        \n",
    "        # train epoch\n",
    "        end_state, train_acc = jax.lax.scan(\n",
    "            train_step,# func\n",
    "            curr_opt_state,# init\n",
    "            train_data,# xs\n",
    "            train_data.obs.shape[0]# len\n",
    "        )\n",
    "        \n",
    "        elite = param_reshaper.reshape(jnp.array([end_state[0].best_member]))\n",
    "        new_params = jax.tree_util.tree_map(lambda x: x[0], elite)\n",
    "                        \n",
    "        # val epoch\n",
    "        _rng, val_acc = jax.lax.scan(\n",
    "            eval_step,# func\n",
    "            [new_params, end_state[1]],# init\n",
    "            val_data,# xs\n",
    "            val_data.obs.shape[0]# len\n",
    "        )\n",
    "\n",
    "        _, new_rng = _rng\n",
    "        \n",
    "        return [end_state[0], new_rng], jnp.hstack([jnp.max(train_acc), jnp.mean(val_acc)])\n",
    "    # end epoch\n",
    "    \n",
    "    # epoch loop\n",
    "    final_state, metrics = jax.lax.scan(\n",
    "        epoch,\n",
    "        [opt_state, rng], # metric arrays\n",
    "        jnp.arange(epochs), # \n",
    "        epochs # len of loop\n",
    "    )\n",
    "    \n",
    "    elite = param_reshaper.reshape(jnp.array([final_state[0].best_member]))\n",
    "    final_params = jax.tree_util.tree_map(lambda x: x[0], elite)\n",
    "                \n",
    "    # return our final, optimized network.       \n",
    "    return final_params, metrics"
   ]
  },
  {
   "cell_type": "code",
   "execution_count": 10,
   "id": "f5eb4fb2",
   "metadata": {
    "execution": {
     "iopub.execute_input": "2023-08-22T06:36:26.186328Z",
     "iopub.status.busy": "2023-08-22T06:36:26.186057Z",
     "iopub.status.idle": "2023-08-22T06:36:26.191374Z",
     "shell.execute_reply": "2023-08-22T06:36:26.190739Z",
     "shell.execute_reply.started": "2023-08-22T06:36:26.186308Z"
    },
    "tags": []
   },
   "outputs": [],
   "source": [
    "def test_evo(params, dl):\n",
    "\n",
    "    rng = jax.random.PRNGKey(0)\n",
    "    \n",
    "    @jax.jit\n",
    "    def test_step(params_rng, data):\n",
    "        params, rng = params_rng\n",
    "        events, targets = data\n",
    "        events = jnp.unpackbits(events, axis=1)\n",
    "        readout = SNN.apply(params, events)\n",
    "        traces, V_f = readout\n",
    "        acc, pred = spyx.fn.integral_accuracy(traces, targets)\n",
    "        return [params, rng], [acc, pred, targets ]\n",
    "    \n",
    "    test_data = dl.test_epoch()\n",
    "    \n",
    "    _, test_metrics = jax.lax.scan(\n",
    "            test_step,# func\n",
    "            [params, rng],# init\n",
    "            test_data,# xs\n",
    "            test_data.obs.shape[0]# len\n",
    "    )\n",
    "    \n",
    "    acc = jnp.mean(test_metrics[0])\n",
    "    preds = jnp.array(test_metrics[1]).flatten()\n",
    "    tgts = jnp.array(test_metrics[2]).flatten()\n",
    "    return acc, preds, tgts"
   ]
  },
  {
   "cell_type": "markdown",
   "id": "d1669fb3",
   "metadata": {},
   "source": [
    "## Training Time\n",
    "\n"
   ]
  },
  {
   "cell_type": "code",
   "execution_count": 11,
   "id": "bf91d9db-af60-4fdf-8562-2a680e94b693",
   "metadata": {
    "execution": {
     "iopub.execute_input": "2023-08-22T06:36:28.117200Z",
     "iopub.status.busy": "2023-08-22T06:36:28.116941Z",
     "iopub.status.idle": "2023-08-22T06:36:28.120106Z",
     "shell.execute_reply": "2023-08-22T06:36:28.119497Z",
     "shell.execute_reply.started": "2023-08-22T06:36:28.117179Z"
    },
    "tags": []
   },
   "outputs": [],
   "source": [
    "from time import time"
   ]
  },
  {
   "cell_type": "code",
   "execution_count": 12,
   "id": "ec1565db",
   "metadata": {
    "execution": {
     "iopub.execute_input": "2023-08-22T06:36:29.703068Z",
     "iopub.status.busy": "2023-08-22T06:36:29.702784Z",
     "iopub.status.idle": "2023-08-22T06:43:33.779641Z",
     "shell.execute_reply": "2023-08-22T06:43:33.778916Z",
     "shell.execute_reply.started": "2023-08-22T06:36:29.703047Z"
    },
    "scrolled": true,
    "tags": []
   },
   "outputs": [
    {
     "name": "stdout",
     "output_type": "stream",
     "text": [
      "ParameterReshaper: 1189376 parameters detected for optimization.\n"
     ]
    },
    {
     "data": {
      "application/vnd.jupyter.widget-view+json": {
       "model_id": "82f31eb4c32847ee9394496b4f92458c",
       "version_major": 2,
       "version_minor": 0
      },
      "text/plain": [
       "  0%|          | 0/50 [00:00<?, ?it/s]"
      ]
     },
     "metadata": {},
     "output_type": "display_data"
    },
    {
     "name": "stdout",
     "output_type": "stream",
     "text": [
      "Performance: train_acc=0.9609375, val_acc=0.88671875 Elapsed Time: 418.15694999694824\n",
      "Test Acc: 0.89152646\n"
     ]
    }
   ],
   "source": [
    "key = jax.random.PRNGKey(0)\n",
    "\n",
    "start = time()\n",
    "evolved_params, metrics = evo(params, nmnist_dl, key, epochs=50) \n",
    "elapsed_time = time()-start\n",
    "print(\"Performance: train_acc={}, val_acc={}\".format(*metrics[-1]), \"Elapsed Time: {}\".format(elapsed_time))\n",
    "acc, preds, tgts = test_evo(evolved_params, nmnist_dl)\n",
    "print(\"Test Acc:\",acc)"
   ]
  },
  {
   "cell_type": "code",
   "execution_count": 14,
   "id": "3a709a38-038d-4785-8656-dbe85853789a",
   "metadata": {
    "execution": {
     "iopub.execute_input": "2023-08-22T06:45:13.985189Z",
     "iopub.status.busy": "2023-08-22T06:45:13.984549Z",
     "iopub.status.idle": "2023-08-22T06:52:10.232016Z",
     "shell.execute_reply": "2023-08-22T06:52:10.231442Z",
     "shell.execute_reply.started": "2023-08-22T06:45:13.985164Z"
    },
    "scrolled": true,
    "tags": []
   },
   "outputs": [
    {
     "name": "stdout",
     "output_type": "stream",
     "text": [
      "ParameterReshaper: 1189376 parameters detected for optimization.\n"
     ]
    },
    {
     "data": {
      "application/vnd.jupyter.widget-view+json": {
       "model_id": "26b48f9dea4f4727973a83452f66f899",
       "version_major": 2,
       "version_minor": 0
      },
      "text/plain": [
       "  0%|          | 0/50 [00:00<?, ?it/s]"
      ]
     },
     "metadata": {},
     "output_type": "display_data"
    },
    {
     "name": "stdout",
     "output_type": "stream",
     "text": [
      "Performance: train_acc=0.96484375, val_acc=0.9021739363670349 Elapsed Time: 415.0913519859314\n",
      "Test Acc: 0.8958334\n"
     ]
    }
   ],
   "source": [
    "key = jax.random.PRNGKey(7)\n",
    "\n",
    "start = time()\n",
    "evolved_params, metrics = evo(params, nmnist_dl, key, epochs=50) \n",
    "elapsed_time = time()-start\n",
    "print(\"Performance: train_acc={}, val_acc={}\".format(*metrics[-1]), \"Elapsed Time: {}\".format(elapsed_time))\n",
    "acc, preds, tgts = test_evo(evolved_params, nmnist_dl)\n",
    "print(\"Test Acc:\",acc)"
   ]
  },
  {
   "cell_type": "code",
   "execution_count": 15,
   "id": "4ff9e8b3-7de9-47d7-8321-c95594fee7a8",
   "metadata": {
    "execution": {
     "iopub.execute_input": "2023-08-22T06:52:48.534581Z",
     "iopub.status.busy": "2023-08-22T06:52:48.533958Z",
     "iopub.status.idle": "2023-08-22T06:59:44.680723Z",
     "shell.execute_reply": "2023-08-22T06:59:44.679803Z",
     "shell.execute_reply.started": "2023-08-22T06:52:48.534553Z"
    },
    "scrolled": true,
    "tags": []
   },
   "outputs": [
    {
     "name": "stdout",
     "output_type": "stream",
     "text": [
      "ParameterReshaper: 1189376 parameters detected for optimization.\n"
     ]
    },
    {
     "data": {
      "application/vnd.jupyter.widget-view+json": {
       "model_id": "cf01031adb5c487ea2972df3e22af0f0",
       "version_major": 2,
       "version_minor": 0
      },
      "text/plain": [
       "  0%|          | 0/50 [00:00<?, ?it/s]"
      ]
     },
     "metadata": {},
     "output_type": "display_data"
    },
    {
     "name": "stdout",
     "output_type": "stream",
     "text": [
      "Performance: train_acc=0.96875, val_acc=0.8904551863670349 Elapsed Time: 415.1407585144043\n",
      "Test Acc: 0.8924279\n"
     ]
    }
   ],
   "source": [
    "key = jax.random.PRNGKey(42)\n",
    "\n",
    "start = time()\n",
    "evolved_params, metrics = evo(params, nmnist_dl, key, epochs=50) \n",
    "elapsed_time = time()-start\n",
    "print(\"Performance: train_acc={}, val_acc={}\".format(*metrics[-1]), \"Elapsed Time: {}\".format(elapsed_time))\n",
    "acc, preds, tgts = test_evo(evolved_params, nmnist_dl)\n",
    "print(\"Test Acc:\",acc)"
   ]
  },
  {
   "cell_type": "code",
   "execution_count": 16,
   "id": "b0b83f59-92ed-418d-8c94-2e20ee98bd42",
   "metadata": {
    "execution": {
     "iopub.execute_input": "2023-08-22T07:00:06.557671Z",
     "iopub.status.busy": "2023-08-22T07:00:06.557033Z",
     "iopub.status.idle": "2023-08-22T07:07:03.202507Z",
     "shell.execute_reply": "2023-08-22T07:07:03.201837Z",
     "shell.execute_reply.started": "2023-08-22T07:00:06.557647Z"
    },
    "scrolled": true,
    "tags": []
   },
   "outputs": [
    {
     "name": "stdout",
     "output_type": "stream",
     "text": [
      "ParameterReshaper: 1189376 parameters detected for optimization.\n"
     ]
    },
    {
     "data": {
      "application/vnd.jupyter.widget-view+json": {
       "model_id": "8b6d7226c3e442a88a5f419db305e116",
       "version_major": 2,
       "version_minor": 0
      },
      "text/plain": [
       "  0%|          | 0/50 [00:00<?, ?it/s]"
      ]
     },
     "metadata": {},
     "output_type": "display_data"
    },
    {
     "name": "stdout",
     "output_type": "stream",
     "text": [
      "Performance: train_acc=0.9609375, val_acc=0.8924932479858398 Elapsed Time: 415.57034158706665\n",
      "Test Acc: 0.89703524\n"
     ]
    }
   ],
   "source": [
    "key = jax.random.PRNGKey(12345)\n",
    "\n",
    "start = time()\n",
    "evolved_params, metrics = evo(params, nmnist_dl, key, epochs=50) \n",
    "elapsed_time = time()-start\n",
    "print(\"Performance: train_acc={}, val_acc={}\".format(*metrics[-1]), \"Elapsed Time: {}\".format(elapsed_time))\n",
    "acc, preds, tgts = test_evo(evolved_params, nmnist_dl)\n",
    "print(\"Test Acc:\",acc)"
   ]
  },
  {
   "cell_type": "code",
   "execution_count": 17,
   "id": "df6ba64a-c44f-430a-b02c-887bdbf3c28b",
   "metadata": {
    "execution": {
     "iopub.execute_input": "2023-08-22T07:07:59.489269Z",
     "iopub.status.busy": "2023-08-22T07:07:59.488775Z",
     "iopub.status.idle": "2023-08-22T07:14:55.595203Z",
     "shell.execute_reply": "2023-08-22T07:14:55.594099Z",
     "shell.execute_reply.started": "2023-08-22T07:07:59.489244Z"
    },
    "scrolled": true,
    "tags": []
   },
   "outputs": [
    {
     "name": "stdout",
     "output_type": "stream",
     "text": [
      "ParameterReshaper: 1189376 parameters detected for optimization.\n"
     ]
    },
    {
     "data": {
      "application/vnd.jupyter.widget-view+json": {
       "model_id": "af89f0dd52fa4ebe9fdbdbfbae13f515",
       "version_major": 2,
       "version_minor": 0
      },
      "text/plain": [
       "  0%|          | 0/50 [00:00<?, ?it/s]"
      ]
     },
     "metadata": {},
     "output_type": "display_data"
    },
    {
     "name": "stdout",
     "output_type": "stream",
     "text": [
      "Performance: train_acc=0.96484375, val_acc=0.88892662525177 Elapsed Time: 414.9552752971649\n",
      "Test Acc: 0.8954327\n"
     ]
    }
   ],
   "source": [
    "key = jax.random.PRNGKey(54321)\n",
    "\n",
    "start = time()\n",
    "evolved_params, metrics = evo(params, nmnist_dl, key, epochs=50) \n",
    "elapsed_time = time()-start\n",
    "print(\"Performance: train_acc={}, val_acc={}\".format(*metrics[-1]), \"Elapsed Time: {}\".format(elapsed_time))\n",
    "acc, preds, tgts = test_evo(evolved_params, nmnist_dl)\n",
    "print(\"Test Acc:\",acc)"
   ]
  },
  {
   "cell_type": "code",
   "execution_count": 61,
   "id": "bb5445ce-b755-4398-bb38-155576ada1dd",
   "metadata": {
    "execution": {
     "iopub.execute_input": "2023-08-21T22:16:02.119560Z",
     "iopub.status.busy": "2023-08-21T22:16:02.119304Z",
     "iopub.status.idle": "2023-08-21T22:16:02.141199Z",
     "shell.execute_reply": "2023-08-21T22:16:02.140472Z",
     "shell.execute_reply.started": "2023-08-21T22:16:02.119541Z"
    }
   },
   "outputs": [
    {
     "data": {
      "text/plain": [
       "Array([[0.3046875 , 0.22894022],\n",
       "       [0.5078125 , 0.42747962],\n",
       "       [0.67578125, 0.6110734 ],\n",
       "       [0.75390625, 0.67493206],\n",
       "       [0.8046875 , 0.727072  ],\n",
       "       [0.81640625, 0.7204484 ],\n",
       "       [0.85546875, 0.7498302 ],\n",
       "       [0.83984375, 0.7498302 ],\n",
       "       [0.8515625 , 0.7498302 ],\n",
       "       [0.8515625 , 0.7498302 ],\n",
       "       [0.859375  , 0.7814199 ],\n",
       "       [0.8828125 , 0.78396744],\n",
       "       [0.8671875 , 0.78396744],\n",
       "       [0.87890625, 0.78396744],\n",
       "       [0.87109375, 0.78396744],\n",
       "       [0.90625   , 0.84714675],\n",
       "       [0.93359375, 0.8661685 ],\n",
       "       [0.9375    , 0.8755095 ],\n",
       "       [0.94140625, 0.8816237 ],\n",
       "       [0.94140625, 0.8816237 ],\n",
       "       [0.94921875, 0.86956525],\n",
       "       [0.9453125 , 0.86956525],\n",
       "       [0.953125  , 0.8806046 ],\n",
       "       [0.95703125, 0.8873981 ],\n",
       "       [0.96484375, 0.8828125 ],\n",
       "       [0.96875   , 0.8868886 ],\n",
       "       [0.95703125, 0.8868886 ],\n",
       "       [0.9609375 , 0.8868886 ],\n",
       "       [0.96484375, 0.8868886 ],\n",
       "       [0.96484375, 0.8868886 ],\n",
       "       [0.95703125, 0.8868886 ],\n",
       "       [0.95703125, 0.8868886 ],\n",
       "       [0.96484375, 0.8868886 ],\n",
       "       [0.96484375, 0.8868886 ],\n",
       "       [0.953125  , 0.8868886 ],\n",
       "       [0.96484375, 0.8868886 ],\n",
       "       [0.96875   , 0.8868886 ],\n",
       "       [0.96875   , 0.8868886 ],\n",
       "       [0.96484375, 0.8868886 ],\n",
       "       [0.96484375, 0.8868886 ],\n",
       "       [0.96484375, 0.8868886 ],\n",
       "       [0.9609375 , 0.8868886 ],\n",
       "       [0.97265625, 0.8977582 ],\n",
       "       [0.96484375, 0.8977582 ],\n",
       "       [0.96484375, 0.8977582 ],\n",
       "       [0.9609375 , 0.8977582 ],\n",
       "       [0.97265625, 0.8977582 ],\n",
       "       [0.96484375, 0.8977582 ],\n",
       "       [0.9609375 , 0.8977582 ],\n",
       "       [0.96484375, 0.8977582 ],\n",
       "       [0.97265625, 0.8977582 ],\n",
       "       [0.97265625, 0.8977582 ],\n",
       "       [0.9765625 , 0.9054008 ],\n",
       "       [0.9765625 , 0.9054008 ],\n",
       "       [0.96484375, 0.9054008 ],\n",
       "       [0.96875   , 0.9054008 ],\n",
       "       [0.97265625, 0.9054008 ],\n",
       "       [0.96875   , 0.9054008 ],\n",
       "       [0.97265625, 0.9054008 ],\n",
       "       [0.96875   , 0.9054008 ],\n",
       "       [0.96484375, 0.9054008 ],\n",
       "       [0.9765625 , 0.9054008 ],\n",
       "       [0.97265625, 0.9054008 ],\n",
       "       [0.96875   , 0.9054008 ],\n",
       "       [0.96875   , 0.9054008 ],\n",
       "       [0.97265625, 0.9054008 ],\n",
       "       [0.9765625 , 0.9054008 ],\n",
       "       [0.96484375, 0.9054008 ],\n",
       "       [0.97265625, 0.9054008 ],\n",
       "       [0.9765625 , 0.9054008 ],\n",
       "       [0.96484375, 0.9054008 ],\n",
       "       [0.97265625, 0.9054008 ],\n",
       "       [0.97265625, 0.9054008 ],\n",
       "       [0.9765625 , 0.9054008 ],\n",
       "       [0.97265625, 0.9054008 ]], dtype=float32)"
      ]
     },
     "execution_count": 61,
     "metadata": {},
     "output_type": "execute_result"
    }
   ],
   "source": [
    "metrics"
   ]
  },
  {
   "cell_type": "code",
   "execution_count": 18,
   "id": "52e6c9bb-2455-4015-a3cb-891ac31edfa3",
   "metadata": {
    "execution": {
     "iopub.execute_input": "2023-08-22T07:24:38.311416Z",
     "iopub.status.busy": "2023-08-22T07:24:38.310834Z",
     "iopub.status.idle": "2023-08-22T07:24:38.338337Z",
     "shell.execute_reply": "2023-08-22T07:24:38.337637Z",
     "shell.execute_reply.started": "2023-08-22T07:24:38.311392Z"
    }
   },
   "outputs": [
    {
     "data": {
      "text/plain": [
       "array([[ 945,    0,    1,    5,    2,    6,    2,   11,    5,    3],\n",
       "       [   0, 1091,    6,   12,    3,    4,    8,    1,    7,    1],\n",
       "       [  23,   14,  845,   40,   30,    1,   23,   13,   23,   18],\n",
       "       [   9,    3,   13,  916,    3,   20,    7,    5,   14,   19],\n",
       "       [   4,    4,    3,    0,  922,    0,    9,    0,    4,   33],\n",
       "       [  15,    0,    3,   40,    5,  752,   24,    8,   26,   18],\n",
       "       [  18,    4,    3,    1,    9,   23,  887,    5,    3,    1],\n",
       "       [   1,   17,   15,    3,    7,    2,    0,  915,    5,   62],\n",
       "       [  17,   10,   13,   63,   11,   29,   12,   24,  738,   56],\n",
       "       [  14,    5,    1,    9,   20,    8,    2,   16,    4,  929]])"
      ]
     },
     "execution_count": 18,
     "metadata": {},
     "output_type": "execute_result"
    }
   ],
   "source": [
    "from sklearn.metrics import confusion_matrix\n",
    "\n",
    "confusion_matrix(tgts, preds)"
   ]
  }
 ],
 "metadata": {
  "kernelspec": {
   "display_name": "Python 3 (ipykernel)",
   "language": "python",
   "name": "python3"
  },
  "language_info": {
   "codemirror_mode": {
    "name": "ipython",
    "version": 3
   },
   "file_extension": ".py",
   "mimetype": "text/x-python",
   "name": "python",
   "nbconvert_exporter": "python",
   "pygments_lexer": "ipython3",
   "version": "3.10.12"
  }
 },
 "nbformat": 4,
 "nbformat_minor": 5
}
