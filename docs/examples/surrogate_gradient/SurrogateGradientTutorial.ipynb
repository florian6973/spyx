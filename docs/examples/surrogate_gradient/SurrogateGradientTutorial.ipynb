{
  "cells": [
    {
      "cell_type": "markdown",
      "id": "fd3a7575",
      "metadata": {
        "id": "fd3a7575"
      },
      "source": [
        "# Surrogate Gradient Tutorial\n",
        "\n",
        "Welcome! This tutorial demonstrates the full power of Spyx: fully Just-In-Time compiled training to achieve incredible throughput! This notebook will demonstrate how you can train a spiking neural network on the Spiking Heidelberg Digits dataset in under a minute on any GPU!"
      ]
    },
    {
      "cell_type": "code",
      "execution_count": null,
      "id": "4cJz0jeW5kP6",
      "metadata": {
        "id": "4cJz0jeW5kP6"
      },
      "outputs": [],
      "source": [
        "!pip install tonic\n",
        "!pip install nir\n",
        "!pip install spyx"
      ]
    },
    {
      "cell_type": "code",
      "execution_count": 10,
      "id": "3cf6fa71",
      "metadata": {
        "id": "3cf6fa71"
      },
      "outputs": [],
      "source": [
        "import spyx\n",
        "import spyx.nn as snn\n",
        "\n",
        "# JAX imports\n",
        "import os\n",
        "import jax\n",
        "from jax import numpy as jnp\n",
        "import jmp # jax mixed-precision\n",
        "import numpy as np\n",
        "\n",
        "from jax_tqdm import scan_tqdm\n",
        "from tqdm import tqdm\n",
        "\n",
        "# implement our SNN in DeepMind's Haiku\n",
        "import haiku as hk\n",
        "\n",
        "# for surrogate loss training.\n",
        "import optax\n",
        "\n",
        "# rendering tools\n",
        "import matplotlib.pyplot as plt\n",
        "from sklearn.metrics import confusion_matrix, ConfusionMatrixDisplay"
      ]
    },
    {
      "cell_type": "markdown",
      "id": "289c72b9",
      "metadata": {},
      "source": [
        "## Here's an example of JAX's JIT abilities:"
      ]
    },
    {
      "cell_type": "code",
      "execution_count": 9,
      "id": "f2785ac1",
      "metadata": {},
      "outputs": [
        {
          "data": {
            "text/plain": [
              "{ \u001b[34m\u001b[22m\u001b[1mlambda \u001b[39m\u001b[22m\u001b[22m; a\u001b[35m:f32[1,1,1,1,1,1]\u001b[39m. \u001b[34m\u001b[22m\u001b[1mlet\n",
              "    \u001b[39m\u001b[22m\u001b[22mb\u001b[35m:f32[1,1,1,1,1,1]\u001b[39m = pjit[\n",
              "      jaxpr={ \u001b[34m\u001b[22m\u001b[1mlambda \u001b[39m\u001b[22m\u001b[22m; c\u001b[35m:f32[1,1,1,1,1,1]\u001b[39m. \u001b[34m\u001b[22m\u001b[1mlet\n",
              "          \u001b[39m\u001b[22m\u001b[22md\u001b[35m:f32[1,1,1,1,1,1]\u001b[39m = abs c\n",
              "          e\u001b[35m:f32[1,1,1,1,1,1]\u001b[39m = mul 25.0 d\n",
              "          f\u001b[35m:f32[1,1,1,1,1,1]\u001b[39m = add 1.0 e\n",
              "          g\u001b[35m:f32[1,1,1,1,1,1]\u001b[39m = integer_pow[y=2] f\n",
              "          h\u001b[35m:f32[1,1,1,1,1,1]\u001b[39m = div 1.0 g\n",
              "        \u001b[34m\u001b[22m\u001b[1min \u001b[39m\u001b[22m\u001b[22m(h,) }\n",
              "      name=g\n",
              "    ] a\n",
              "  \u001b[34m\u001b[22m\u001b[1min \u001b[39m\u001b[22m\u001b[22m(b,) }"
            ]
          },
          "execution_count": 9,
          "metadata": {},
          "output_type": "execute_result"
        }
      ],
      "source": [
        "from jax import make_jaxpr\n",
        "\n",
        "example_a = jnp.ones([1,1,1,1,1,1])\n",
        "\n",
        "make_jaxpr(spyx.axn.superspike())(example_a)"
      ]
    },
    {
      "cell_type": "markdown",
      "id": "f4e9402d",
      "metadata": {
        "id": "f4e9402d"
      },
      "source": [
        "## Set Mixed Precision Policy\n",
        "\n",
        "Since Spyx is built on top of Haiku, we can leverage the JAX Mixed Precision (JMP) library to automatically cast the numerical precision of different modules in our SNN. This allows us to have very granular control over the precision of different layers in the model (say, computing the linear layers in half precision but maintaining full precision for neuron state); the motivation for doing so is that NVIDIA's top-end GPU accelerators as well as Google's TPU use reduced numerical precision in order to achieve higher computational throughput, meaning our model can run faster with minimal losses in accuracy! For other GPUs more common in desktops, using half precision only yields memory savings, whereas on A100/H100/TPU using mixed precision also results in a higher number of FLOPS."
      ]
    },
    {
      "cell_type": "code",
      "execution_count": 11,
      "id": "9bfdcd58",
      "metadata": {
        "id": "9bfdcd58"
      },
      "outputs": [],
      "source": [
        "policy = jmp.get_policy('half')\n",
        "\n",
        "\n",
        "hk.mixed_precision.set_policy(hk.Linear, policy)\n",
        "hk.mixed_precision.set_policy(snn.LIF, policy)\n",
        "hk.mixed_precision.set_policy(snn.LI, policy)"
      ]
    },
    {
      "cell_type": "markdown",
      "id": "95bf2a89",
      "metadata": {
        "id": "95bf2a89"
      },
      "source": [
        "## Data Loading\n",
        "\n",
        "For the template, the Spiking Heidelberg Dataset is used. Feel free to replace this section with your own dataloading pipeline, just be sure once you've loaded and processed your whole dataset into RAM as a single numpy array and call np.packbits(data, axis=\\<time axis\\>) to compress the data prior to converting it to a jax.numpy array."
      ]
    },
    {
      "cell_type": "code",
      "execution_count": 12,
      "id": "6573ba59",
      "metadata": {
        "id": "6573ba59"
      },
      "outputs": [],
      "source": [
        "shd_dl = spyx.data.SHD_loader(256,128,128)"
      ]
    },
    {
      "cell_type": "code",
      "execution_count": 13,
      "id": "e5d127b3",
      "metadata": {
        "id": "e5d127b3"
      },
      "outputs": [],
      "source": [
        "# JAX has deterministic pseudorandom number generation\n",
        "key = jax.random.PRNGKey(0)\n",
        "x, y = shd_dl.train_epoch(key)"
      ]
    },
    {
      "cell_type": "code",
      "execution_count": 14,
      "id": "f2076c71",
      "metadata": {
        "colab": {
          "base_uri": "https://localhost:8080/",
          "height": 434
        },
        "id": "f2076c71",
        "outputId": "a422d7bc-8a4b-4e18-a283-ab51cfdee180"
      },
      "outputs": [
        {
          "data": {
            "image/png": "[encoded data removed]",
            "text/plain": [
              "<Figure size 432x288 with 1 Axes>"
            ]
          },
          "metadata": {
            "needs_background": "light"
          },
          "output_type": "display_data"
        }
      ],
      "source": [
        "plt.imshow(np.unpackbits(x[0][69], axis=0).T)\n",
        "plt.show()"
      ]
    },
    {
      "cell_type": "code",
      "execution_count": 15,
      "id": "df9bc18e",
      "metadata": {
        "colab": {
          "base_uri": "https://localhost:8080/"
        },
        "id": "df9bc18e",
        "outputId": "35920b41-3c9d-411c-ff19-3887878e0837"
      },
      "outputs": [
        {
          "data": {
            "text/plain": [
              "(25, 256)"
            ]
          },
          "execution_count": 15,
          "metadata": {},
          "output_type": "execute_result"
        }
      ],
      "source": [
        "y.shape"
      ]
    },
    {
      "cell_type": "markdown",
      "id": "f878677e",
      "metadata": {
        "id": "f878677e"
      },
      "source": [
        "## SNN\n",
        "\n",
        "Here we define a simple feed-forward SNN using Haiku's RNN features, incorporating our\n",
        "LIF neuron models where activation functions would usually go. Haiku manages all of the state for us, so when we transform the function and get an apply() function we just need to pass the params!\n",
        "\n",
        "Since spiking neurons have a discrete all-or-nothing activation, we'll approximate the gradient using a triangular surrogate gradient.\n"
      ]
    },
    {
      "cell_type": "code",
      "execution_count": 16,
      "id": "1e9ee900",
      "metadata": {
        "id": "1e9ee900"
      },
      "outputs": [],
      "source": [
        "def shd_snn(x):\n",
        "\n",
        "    # We can use batch apply to apply the first linear layer across all of the input data\n",
        "    x = hk.BatchApply(hk.Linear(64, with_bias=False))(x)\n",
        "\n",
        "    # Haiku has the ability to stack multiple layers/recurrent modules as one entity\n",
        "    core = hk.DeepRNN([\n",
        "        snn.LIF((64,), activation=spyx.axn.Axon(spyx.axn.triangular())), #LIF neuron layer with triangular activation\n",
        "        hk.Linear(64, with_bias=False),\n",
        "        snn.LIF((64,), activation=spyx.axn.Axon(spyx.axn.triangular())),\n",
        "        hk.Linear(20, with_bias=False),\n",
        "        snn.LI((20,)) # Non-spiking final layer\n",
        "    ])\n",
        "\n",
        "    # This takes our SNN core and computes it across the input data.\n",
        "    spikes, V = hk.dynamic_unroll(core, x, core.initial_state(x.shape[0]), time_major=False, unroll=32) # unroll our model.\n",
        "\n",
        "    return spikes, V"
      ]
    },
    {
      "cell_type": "code",
      "execution_count": 17,
      "id": "e32e514a",
      "metadata": {
        "id": "e32e514a"
      },
      "outputs": [],
      "source": [
        "# Create a random key\n",
        "key = jax.random.PRNGKey(0)\n",
        "# Since there's nothing stochastic about the network, we can avoid using an RNG as a param!\n",
        "SNN = hk.without_apply_rng(hk.transform(shd_snn))\n",
        "params = SNN.init(rng=key, x=x[0])"
      ]
    },
    {
      "cell_type": "markdown",
      "id": "0711ce25",
      "metadata": {
        "id": "0711ce25"
      },
      "source": [
        "## Gradient Descent"
      ]
    },
    {
      "cell_type": "code",
      "execution_count": 18,
      "id": "aa93e1f4",
      "metadata": {
        "id": "aa93e1f4"
      },
      "outputs": [],
      "source": [
        "def gd(SNN, params, dl, epochs=300, schedule=3e-4):\n",
        "\n",
        "    # We use optax for our optimizer.\n",
        "    opt = optax.lion(learning_rate=schedule)\n",
        "\n",
        "    # create and initialize the optimizer\n",
        "    opt_state = opt.init(params)\n",
        "    grad_params = params\n",
        "\n",
        "    # define and compile our eval function that computes the loss for our SNN\n",
        "    @jax.jit\n",
        "    def net_eval(weights, events, targets):\n",
        "        readout = SNN.apply(weights, events)\n",
        "        traces, V_f = readout\n",
        "        return spyx.fn.integral_crossentropy(traces, targets)\n",
        "\n",
        "    # Use JAX to create a function that calculates the loss and the gradient!\n",
        "    surrogate_grad = jax.value_and_grad(net_eval)\n",
        "\n",
        "    rng = jax.random.PRNGKey(0)\n",
        "\n",
        "    # compile the meat of our training loop for speed\n",
        "    @jax.jit\n",
        "    def train_step(state, data):\n",
        "        # unpack the parameters and optimizer state\n",
        "        grad_params, opt_state = state\n",
        "        # unpack the data into x, y\n",
        "        events, targets = data\n",
        "        events = jnp.unpackbits(events, axis=1) # decompress temporal axis\n",
        "        # compute loss and gradient\n",
        "        loss, grads = surrogate_grad(grad_params, events, targets)\n",
        "        # generate updates based on the gradients and optimizer\n",
        "        updates, opt_state = opt.update(grads, opt_state, grad_params)\n",
        "        # return the updated parameters\n",
        "        new_state = [optax.apply_updates(grad_params, updates), opt_state]\n",
        "        return new_state, loss\n",
        "\n",
        "    # For validation epochs, do the same as before but compute the\n",
        "    # accuracy, predictions and losses (no gradients needed)\n",
        "    @jax.jit\n",
        "    def eval_step(grad_params, data):\n",
        "        # unpack our data\n",
        "        events, targets = data\n",
        "        # decompress information along temporal axis\n",
        "        events = jnp.unpackbits(events, axis=1)\n",
        "        # apply the network to the data\n",
        "        readout = SNN.apply(grad_params, events)\n",
        "        # unpack the final layer outputs and end state of each SNN layer\n",
        "        traces, V_f = readout\n",
        "        # compute accuracy, predictions, and loss\n",
        "        acc, pred = spyx.fn.integral_accuracy(traces, targets)\n",
        "        loss = spyx.fn.integral_crossentropy(traces, targets)\n",
        "        # we return the parameters here because of how jax.scan is structured.\n",
        "        return grad_params, jnp.array([acc, loss])\n",
        "\n",
        "\n",
        "    val_data = dl.val_epoch()\n",
        "\n",
        "    # Here's the start of our training loop!\n",
        "    @scan_tqdm(epochs)\n",
        "    def epoch(epoch_state, epoch_num):\n",
        "        curr_params, curr_opt_state = epoch_state\n",
        "\n",
        "        shuffle_rng = jax.random.fold_in(rng, epoch_num)\n",
        "        train_data = dl.train_epoch(shuffle_rng)\n",
        "\n",
        "        # train epoch\n",
        "        end_state, train_loss = jax.lax.scan(\n",
        "            train_step,# our function which computes and updates gradients for one batch\n",
        "            [curr_params, curr_opt_state], # initialize with parameters and optimizer state of current epoch\n",
        "            train_data,# pass the newly shuffled training data\n",
        "            train_data.obs.shape[0]# this corresponds to the number of training batches\n",
        "        )\n",
        "\n",
        "        new_params, _ = end_state\n",
        "\n",
        "        # val epoch\n",
        "        _, val_metrics = jax.lax.scan(\n",
        "            eval_step,# func\n",
        "            new_params,# init\n",
        "            val_data,# xs\n",
        "            val_data.obs.shape[0]# len\n",
        "        )\n",
        "\n",
        "\n",
        "        return end_state, jnp.concatenate([jnp.expand_dims(jnp.mean(train_loss),0), jnp.mean(val_metrics, axis=0)])\n",
        "    # end epoch\n",
        "\n",
        "    # epoch loop\n",
        "    final_state, metrics = jax.lax.scan(\n",
        "        epoch,\n",
        "        [grad_params, opt_state], # metric arrays\n",
        "        jnp.arange(epochs), #\n",
        "        epochs # len of loop\n",
        "    )\n",
        "\n",
        "    final_params, final_optimizer_state = final_state\n",
        "\n",
        "\n",
        "    # return our final, optimized network.\n",
        "    return final_params, metrics"
      ]
    },
    {
      "cell_type": "code",
      "execution_count": 20,
      "id": "f5eb4fb2",
      "metadata": {
        "id": "f5eb4fb2"
      },
      "outputs": [],
      "source": [
        "def test_gd(SNN, params, dl):\n",
        "\n",
        "    @jax.jit\n",
        "    def test_step(params, data):\n",
        "        events, targets = data\n",
        "        events = jnp.unpackbits(events, axis=1)\n",
        "        readout = SNN.apply(params, events)\n",
        "        traces, V_f = readout\n",
        "        acc, pred = spyx.fn.integral_accuracy(traces, targets)\n",
        "        loss = spyx.fn.integral_crossentropy(traces, targets)\n",
        "        return params, [acc, loss, pred, targets]\n",
        "\n",
        "    test_data = dl.test_epoch()\n",
        "\n",
        "    _, test_metrics = jax.lax.scan(\n",
        "            test_step,# func\n",
        "            params,# init\n",
        "            test_data,# xs\n",
        "            test_data.obs.shape[0]# len\n",
        "    )\n",
        "\n",
        "    acc = jnp.mean(test_metrics[0])\n",
        "    loss = jnp.mean(test_metrics[1])\n",
        "    preds = jnp.array(test_metrics[2]).flatten()\n",
        "    tgts = jnp.array(test_metrics[3]).flatten()\n",
        "    return acc, loss, preds, tgts"
      ]
    },
    {
      "cell_type": "markdown",
      "id": "d1669fb3",
      "metadata": {
        "id": "d1669fb3"
      },
      "source": [
        "## Training Time"
      ]
    },
    {
      "cell_type": "code",
      "execution_count": 21,
      "id": "ec1565db",
      "metadata": {
        "colab": {
          "base_uri": "https://localhost:8080/",
          "height": 49,
          "referenced_widgets": [
            "c1b33720a5644e56937a8acfd5e2982d",
            "786b28ee173b4de38071aa112adc8fb7",
            "1b92920d11c94cffa25ddcee861b958e",
            "9807674f050f45718f7c16d3754b2673",
            "a7d5f17943f6414e90bcfdf6fc5d1f4e",
            "cde5326dadc44f948934da78336aca0d",
            "f12cbd3dfddc4bf18cc7ddead4b65061",
            "19c3008ffb2f4471a93cb4120eb49cc0",
            "27579956b827433aa7fe9bb5718466af",
            "39ed33b157be4837a4e7901ff76f1134",
            "6c7f6702e8984888bfe721726d0783b4"
          ]
        },
        "id": "ec1565db",
        "outputId": "217eea43-5b41-4f07-dfc8-e2301a564c70",
        "scrolled": true
      },
      "outputs": [
        {
          "data": {
            "application/vnd.jupyter.widget-view+json": {
              "model_id": "861cf97ed4614b60ac90e2eababcee2a",
              "version_major": 2,
              "version_minor": 0
            },
            "text/plain": [
              "  0%|          | 0/300 [00:00<?, ?it/s]"
            ]
          },
          "metadata": {},
          "output_type": "display_data"
        }
      ],
      "source": [
        "grad_params, metrics = gd(SNN, params, shd_dl, epochs=300) # this takes a minute or two to compile on Colab because of weak CPU compute."
      ]
    },
    {
      "cell_type": "code",
      "execution_count": 22,
      "id": "1c431435",
      "metadata": {
        "colab": {
          "base_uri": "https://localhost:8080/"
        },
        "id": "1c431435",
        "outputId": "5b9a7b2d-abee-4986-e2d6-6b20def2bd56"
      },
      "outputs": [
        {
          "name": "stdout",
          "output_type": "stream",
          "text": [
            "Performance: train_loss=1.5957428216934204, val_acc=0.923828125, val_loss=1.7143497467041016\n"
          ]
        }
      ],
      "source": [
        "print(\"Performance: train_loss={}, val_acc={}, val_loss={}\".format(*metrics[-1]))"
      ]
    },
    {
      "cell_type": "code",
      "execution_count": 23,
      "id": "d5470666",
      "metadata": {
        "colab": {
          "base_uri": "https://localhost:8080/",
          "height": 452
        },
        "id": "d5470666",
        "outputId": "536f06cf-1a82-477e-abdd-61b14c8a27bf"
      },
      "outputs": [
        {
          "data": {
            "image/png": "[encoded data removed]",
            "text/plain": [
              "<Figure size 432x288 with 1 Axes>"
            ]
          },
          "metadata": {
            "needs_background": "light"
          },
          "output_type": "display_data"
        }
      ],
      "source": [
        "plt.plot(metrics, label=[\"train loss\", \"val acc\", \"val loss\"])\n",
        "plt.title(\"SHD Surrogate Gradient\")\n",
        "plt.legend()\n",
        "plt.show()"
      ]
    },
    {
      "cell_type": "markdown",
      "id": "959b79e4",
      "metadata": {
        "id": "959b79e4"
      },
      "source": [
        "## Evaluation Time\n",
        "\n",
        "Now we'll run the network on the test set and see what happens:"
      ]
    },
    {
      "cell_type": "code",
      "execution_count": 24,
      "id": "6a9716b6",
      "metadata": {
        "colab": {
          "base_uri": "https://localhost:8080/"
        },
        "id": "6a9716b6",
        "outputId": "629756d7-200c-47c3-81ee-883c6f9f1a20",
        "scrolled": true
      },
      "outputs": [
        {
          "name": "stdout",
          "output_type": "stream",
          "text": [
            "Accuracy: 0.7626953 Loss: 1.9734248\n"
          ]
        }
      ],
      "source": [
        "acc, loss, preds, tgts = test_gd(SNN, grad_params, shd_dl)\n",
        "print(\"Accuracy:\", acc, \"Loss:\", loss)"
      ]
    },
    {
      "cell_type": "code",
      "execution_count": 25,
      "id": "d1ad7ead",
      "metadata": {
        "colab": {
          "base_uri": "https://localhost:8080/",
          "height": 449
        },
        "id": "d1ad7ead",
        "outputId": "db5ce4a2-fe5d-4dbc-9da6-b2f45e70e6fa"
      },
      "outputs": [
        {
          "data": {
            "image/png": "[encoded data removed]",
            "text/plain": [
              "<Figure size 432x288 with 2 Axes>"
            ]
          },
          "metadata": {
            "needs_background": "light"
          },
          "output_type": "display_data"
        }
      ],
      "source": [
        "cm = confusion_matrix(tgts, preds)\n",
        "ConfusionMatrixDisplay(cm).plot()\n",
        "plt.show()"
      ]
    }
  ],
  "metadata": {
    "accelerator": "GPU",
    "colab": {
      "gpuType": "T4",
      "provenance": []
    },
    "kernelspec": {
      "display_name": "Python 3",
      "name": "python3"
    },
    "language_info": {
      "codemirror_mode": {
        "name": "ipython",
        "version": 3
      },
      "file_extension": ".py",
      "mimetype": "text/x-python",
      "name": "python",
      "nbconvert_exporter": "python",
      "pygments_lexer": "ipython3",
      "version": "3.10.12"
    },
    "widgets": {
      "application/vnd.jupyter.widget-state+json": {
        "19c3008ffb2f4471a93cb4120eb49cc0": {
          "model_module": "@jupyter-widgets/base",
          "model_module_version": "1.2.0",
          "model_name": "LayoutModel",
          "state": {
            "_model_module": "@jupyter-widgets/base",
            "_model_module_version": "1.2.0",
            "_model_name": "LayoutModel",
            "_view_count": null,
            "_view_module": "@jupyter-widgets/base",
            "_view_module_version": "1.2.0",
            "_view_name": "LayoutView",
            "align_content": null,
            "align_items": null,
            "align_self": null,
            "border": null,
            "bottom": null,
            "display": null,
            "flex": null,
            "flex_flow": null,
            "grid_area": null,
            "grid_auto_columns": null,
            "grid_auto_flow": null,
            "grid_auto_rows": null,
            "grid_column": null,
            "grid_gap": null,
            "grid_row": null,
            "grid_template_areas": null,
            "grid_template_columns": null,
            "grid_template_rows": null,
            "height": null,
            "justify_content": null,
            "justify_items": null,
            "left": null,
            "margin": null,
            "max_height": null,
            "max_width": null,
            "min_height": null,
            "min_width": null,
            "object_fit": null,
            "object_position": null,
            "order": null,
            "overflow": null,
            "overflow_x": null,
            "overflow_y": null,
            "padding": null,
            "right": null,
            "top": null,
            "visibility": null,
            "width": null
          }
        },
        "1b92920d11c94cffa25ddcee861b958e": {
          "model_module": "@jupyter-widgets/controls",
          "model_module_version": "1.5.0",
          "model_name": "FloatProgressModel",
          "state": {
            "_dom_classes": [],
            "_model_module": "@jupyter-widgets/controls",
            "_model_module_version": "1.5.0",
            "_model_name": "FloatProgressModel",
            "_view_count": null,
            "_view_module": "@jupyter-widgets/controls",
            "_view_module_version": "1.5.0",
            "_view_name": "ProgressView",
            "bar_style": "success",
            "description": "",
            "description_tooltip": null,
            "layout": "IPY_MODEL_19c3008ffb2f4471a93cb4120eb49cc0",
            "max": 300,
            "min": 0,
            "orientation": "horizontal",
            "style": "IPY_MODEL_27579956b827433aa7fe9bb5718466af",
            "value": 300
          }
        },
        "27579956b827433aa7fe9bb5718466af": {
          "model_module": "@jupyter-widgets/controls",
          "model_module_version": "1.5.0",
          "model_name": "ProgressStyleModel",
          "state": {
            "_model_module": "@jupyter-widgets/controls",
            "_model_module_version": "1.5.0",
            "_model_name": "ProgressStyleModel",
            "_view_count": null,
            "_view_module": "@jupyter-widgets/base",
            "_view_module_version": "1.2.0",
            "_view_name": "StyleView",
            "bar_color": null,
            "description_width": ""
          }
        },
        "39ed33b157be4837a4e7901ff76f1134": {
          "model_module": "@jupyter-widgets/base",
          "model_module_version": "1.2.0",
          "model_name": "LayoutModel",
          "state": {
            "_model_module": "@jupyter-widgets/base",
            "_model_module_version": "1.2.0",
            "_model_name": "LayoutModel",
            "_view_count": null,
            "_view_module": "@jupyter-widgets/base",
            "_view_module_version": "1.2.0",
            "_view_name": "LayoutView",
            "align_content": null,
            "align_items": null,
            "align_self": null,
            "border": null,
            "bottom": null,
            "display": null,
            "flex": null,
            "flex_flow": null,
            "grid_area": null,
            "grid_auto_columns": null,
            "grid_auto_flow": null,
            "grid_auto_rows": null,
            "grid_column": null,
            "grid_gap": null,
            "grid_row": null,
            "grid_template_areas": null,
            "grid_template_columns": null,
            "grid_template_rows": null,
            "height": null,
            "justify_content": null,
            "justify_items": null,
            "left": null,
            "margin": null,
            "max_height": null,
            "max_width": null,
            "min_height": null,
            "min_width": null,
            "object_fit": null,
            "object_position": null,
            "order": null,
            "overflow": null,
            "overflow_x": null,
            "overflow_y": null,
            "padding": null,
            "right": null,
            "top": null,
            "visibility": null,
            "width": null
          }
        },
        "6c7f6702e8984888bfe721726d0783b4": {
          "model_module": "@jupyter-widgets/controls",
          "model_module_version": "1.5.0",
          "model_name": "DescriptionStyleModel",
          "state": {
            "_model_module": "@jupyter-widgets/controls",
            "_model_module_version": "1.5.0",
            "_model_name": "DescriptionStyleModel",
            "_view_count": null,
            "_view_module": "@jupyter-widgets/base",
            "_view_module_version": "1.2.0",
            "_view_name": "StyleView",
            "description_width": ""
          }
        },
        "786b28ee173b4de38071aa112adc8fb7": {
          "model_module": "@jupyter-widgets/controls",
          "model_module_version": "1.5.0",
          "model_name": "HTMLModel",
          "state": {
            "_dom_classes": [],
            "_model_module": "@jupyter-widgets/controls",
            "_model_module_version": "1.5.0",
            "_model_name": "HTMLModel",
            "_view_count": null,
            "_view_module": "@jupyter-widgets/controls",
            "_view_module_version": "1.5.0",
            "_view_name": "HTMLView",
            "description": "",
            "description_tooltip": null,
            "layout": "IPY_MODEL_cde5326dadc44f948934da78336aca0d",
            "placeholder": "​",
            "style": "IPY_MODEL_f12cbd3dfddc4bf18cc7ddead4b65061",
            "value": "Running for 300 iterations: 100%"
          }
        },
        "9807674f050f45718f7c16d3754b2673": {
          "model_module": "@jupyter-widgets/controls",
          "model_module_version": "1.5.0",
          "model_name": "HTMLModel",
          "state": {
            "_dom_classes": [],
            "_model_module": "@jupyter-widgets/controls",
            "_model_module_version": "1.5.0",
            "_model_name": "HTMLModel",
            "_view_count": null,
            "_view_module": "@jupyter-widgets/controls",
            "_view_module_version": "1.5.0",
            "_view_name": "HTMLView",
            "description": "",
            "description_tooltip": null,
            "layout": "IPY_MODEL_39ed33b157be4837a4e7901ff76f1134",
            "placeholder": "​",
            "style": "IPY_MODEL_6c7f6702e8984888bfe721726d0783b4",
            "value": " 300/300 [00:25&lt;00:00, 11.58it/s]"
          }
        },
        "a7d5f17943f6414e90bcfdf6fc5d1f4e": {
          "model_module": "@jupyter-widgets/base",
          "model_module_version": "1.2.0",
          "model_name": "LayoutModel",
          "state": {
            "_model_module": "@jupyter-widgets/base",
            "_model_module_version": "1.2.0",
            "_model_name": "LayoutModel",
            "_view_count": null,
            "_view_module": "@jupyter-widgets/base",
            "_view_module_version": "1.2.0",
            "_view_name": "LayoutView",
            "align_content": null,
            "align_items": null,
            "align_self": null,
            "border": null,
            "bottom": null,
            "display": null,
            "flex": null,
            "flex_flow": null,
            "grid_area": null,
            "grid_auto_columns": null,
            "grid_auto_flow": null,
            "grid_auto_rows": null,
            "grid_column": null,
            "grid_gap": null,
            "grid_row": null,
            "grid_template_areas": null,
            "grid_template_columns": null,
            "grid_template_rows": null,
            "height": null,
            "justify_content": null,
            "justify_items": null,
            "left": null,
            "margin": null,
            "max_height": null,
            "max_width": null,
            "min_height": null,
            "min_width": null,
            "object_fit": null,
            "object_position": null,
            "order": null,
            "overflow": null,
            "overflow_x": null,
            "overflow_y": null,
            "padding": null,
            "right": null,
            "top": null,
            "visibility": null,
            "width": null
          }
        },
        "c1b33720a5644e56937a8acfd5e2982d": {
          "model_module": "@jupyter-widgets/controls",
          "model_module_version": "1.5.0",
          "model_name": "HBoxModel",
          "state": {
            "_dom_classes": [],
            "_model_module": "@jupyter-widgets/controls",
            "_model_module_version": "1.5.0",
            "_model_name": "HBoxModel",
            "_view_count": null,
            "_view_module": "@jupyter-widgets/controls",
            "_view_module_version": "1.5.0",
            "_view_name": "HBoxView",
            "box_style": "",
            "children": [
              "IPY_MODEL_786b28ee173b4de38071aa112adc8fb7",
              "IPY_MODEL_1b92920d11c94cffa25ddcee861b958e",
              "IPY_MODEL_9807674f050f45718f7c16d3754b2673"
            ],
            "layout": "IPY_MODEL_a7d5f17943f6414e90bcfdf6fc5d1f4e"
          }
        },
        "cde5326dadc44f948934da78336aca0d": {
          "model_module": "@jupyter-widgets/base",
          "model_module_version": "1.2.0",
          "model_name": "LayoutModel",
          "state": {
            "_model_module": "@jupyter-widgets/base",
            "_model_module_version": "1.2.0",
            "_model_name": "LayoutModel",
            "_view_count": null,
            "_view_module": "@jupyter-widgets/base",
            "_view_module_version": "1.2.0",
            "_view_name": "LayoutView",
            "align_content": null,
            "align_items": null,
            "align_self": null,
            "border": null,
            "bottom": null,
            "display": null,
            "flex": null,
            "flex_flow": null,
            "grid_area": null,
            "grid_auto_columns": null,
            "grid_auto_flow": null,
            "grid_auto_rows": null,
            "grid_column": null,
            "grid_gap": null,
            "grid_row": null,
            "grid_template_areas": null,
            "grid_template_columns": null,
            "grid_template_rows": null,
            "height": null,
            "justify_content": null,
            "justify_items": null,
            "left": null,
            "margin": null,
            "max_height": null,
            "max_width": null,
            "min_height": null,
            "min_width": null,
            "object_fit": null,
            "object_position": null,
            "order": null,
            "overflow": null,
            "overflow_x": null,
            "overflow_y": null,
            "padding": null,
            "right": null,
            "top": null,
            "visibility": null,
            "width": null
          }
        },
        "f12cbd3dfddc4bf18cc7ddead4b65061": {
          "model_module": "@jupyter-widgets/controls",
          "model_module_version": "1.5.0",
          "model_name": "DescriptionStyleModel",
          "state": {
            "_model_module": "@jupyter-widgets/controls",
            "_model_module_version": "1.5.0",
            "_model_name": "DescriptionStyleModel",
            "_view_count": null,
            "_view_module": "@jupyter-widgets/base",
            "_view_module_version": "1.2.0",
            "_view_name": "StyleView",
            "description_width": ""
          }
        }
      }
    }
  },
  "nbformat": 4,
  "nbformat_minor": 5
}
