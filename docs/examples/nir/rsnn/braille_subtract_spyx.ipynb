{
 "cells": [
  {
   "cell_type": "code",
   "execution_count": 19,
   "id": "b256e6d3",
   "metadata": {},
   "outputs": [],
   "source": [
    "import spyx\n",
    "import spyx.nn as snn\n",
    "\n",
    "import jax\n",
    "import jax.numpy as jnp\n",
    "\n",
    "import nir\n",
    "# for loading dataset\n",
    "import torch\n",
    "\n",
    "import matplotlib.pyplot as plt"
   ]
  },
  {
   "cell_type": "code",
   "execution_count": 20,
   "id": "6cab3896",
   "metadata": {},
   "outputs": [],
   "source": [
    "ng = nir.read(\"braille_subtract.nir\")"
   ]
  },
  {
   "cell_type": "code",
   "execution_count": 21,
   "id": "56d6ab66",
   "metadata": {},
   "outputs": [
    {
     "data": {
      "text/plain": [
       "dict_keys(['fc1', 'fc2', 'input', 'lif1.lif', 'lif1.w_rec', 'lif2', 'output'])"
      ]
     },
     "execution_count": 21,
     "metadata": {},
     "output_type": "execute_result"
    }
   ],
   "source": [
    "ng.nodes.keys()"
   ]
  },
  {
   "cell_type": "code",
   "execution_count": 22,
   "id": "0af61bbe",
   "metadata": {},
   "outputs": [
    {
     "data": {
      "text/plain": [
       "dict_keys(['fc1', 'fc2', 'input', 'lif1.lif', 'lif1.w_rec', 'lif2', 'output'])"
      ]
     },
     "execution_count": 22,
     "metadata": {},
     "output_type": "execute_result"
    }
   ],
   "source": [
    "ng.nodes.keys()"
   ]
  },
  {
   "cell_type": "code",
   "execution_count": null,
   "id": "43b91141",
   "metadata": {},
   "outputs": [],
   "source": []
  },
  {
   "cell_type": "code",
   "execution_count": 23,
   "id": "e47b4a4c",
   "metadata": {},
   "outputs": [],
   "source": [
    "data = torch.load(\"ds_test.pt\")"
   ]
  },
  {
   "cell_type": "code",
   "execution_count": 24,
   "id": "28708916",
   "metadata": {},
   "outputs": [],
   "source": [
    "x, y = data.tensors"
   ]
  },
  {
   "cell_type": "code",
   "execution_count": 25,
   "id": "56fd624a",
   "metadata": {},
   "outputs": [],
   "source": [
    "x = jnp.array(x)"
   ]
  },
  {
   "cell_type": "code",
   "execution_count": 26,
   "id": "aa50f16d",
   "metadata": {},
   "outputs": [],
   "source": [
    "y = jnp.array(y)"
   ]
  },
  {
   "cell_type": "code",
   "execution_count": 27,
   "id": "89122ee8",
   "metadata": {},
   "outputs": [
    {
     "data": {
      "text/plain": [
       "(140, 256, 12)"
      ]
     },
     "execution_count": 27,
     "metadata": {},
     "output_type": "execute_result"
    }
   ],
   "source": [
    "x.shape # --> 256 time"
   ]
  },
  {
   "cell_type": "code",
   "execution_count": 44,
   "id": "03c8d15e",
   "metadata": {},
   "outputs": [],
   "source": [
    "import numpy as np\n"
   ]
  },
  {
   "cell_type": "code",
   "execution_count": 47,
   "id": "b08d25b2",
   "metadata": {},
   "outputs": [
    {
     "data": {
      "text/plain": [
       "{'output': array([55])}"
      ]
     },
     "execution_count": 47,
     "metadata": {},
     "output_type": "execute_result"
    }
   ],
   "source": [
    "ng.nodes[\"lif1.lif\"].output_type"
   ]
  },
  {
   "cell_type": "code",
   "execution_count": 48,
   "id": "65c5c5e4",
   "metadata": {},
   "outputs": [],
   "source": [
    "n_list = [\"input\", \"fc1\", \"lif1.lif\", \"lif1.w_rec\", \"output\"]\n",
    "subgraph_nodes = {k : ng.nodes[k] for k in n_list}\n",
    "subgraph_edges = [\n",
    "    ('input', 'fc1'),\n",
    "    ('fc1', 'lif1.lif'),\n",
    "    ('lif1.lif', 'lif1.w_rec'),\n",
    "    ('lif1.w_rec', 'lif1.lif'),\n",
    "    ('lif1.lif', 'output')\n",
    "]\n",
    "subgraph.nodes[\"output\"].output_type['output'] = np.array([55])\n",
    "subgraph = nir.NIRGraph(subgraph_nodes, subgraph_edges)"
   ]
  },
  {
   "cell_type": "code",
   "execution_count": 49,
   "id": "f3b086ce",
   "metadata": {
    "scrolled": true
   },
   "outputs": [
    {
     "name": "stdout",
     "output_type": "stream",
     "text": [
      "[INFO] found RNN subgraph, replacing with NIRGraph node\n",
      "[INFO] subgraph edges: ('lif1.lif', 'lif1.w_rec'), ('lif1.w_rec', 'lif1.lif')\n",
      "found subgraph, trying to parse as RNN\n",
      "HERE: [0.00016667 0.00016667 0.00016667 0.00016667 0.00016667 0.00016667\n",
      " 0.00016667 0.00016667 0.00016667 0.00016667 0.00016667 0.00016667\n",
      " 0.00016667 0.00016667 0.00016667 0.00016667 0.00016667 0.00016667\n",
      " 0.00016667 0.00016667 0.00016667 0.00016667 0.00016667 0.00016667\n",
      " 0.00016667 0.00016667 0.00016667 0.00016667 0.00016667 0.00016667\n",
      " 0.00016667 0.00016667 0.00016667 0.00016667 0.00016667 0.00016667\n",
      " 0.00016667 0.00016667 0.00016667 0.00016667 0.00016667 0.00016667\n",
      " 0.00016667 0.00016667 0.00016667 0.00016667 0.00016667 0.00016667\n",
      " 0.00016667 0.00016667 0.00016667 0.00016667 0.00016667 0.00016667\n",
      " 0.00016667]\n",
      "found subgraph, trying to parse as RNN\n"
     ]
    }
   ],
   "source": [
    "SNN, params = spyx.nir.from_nir(subgraph, x, dt=1e-4, return_all_states=True)"
   ]
  },
  {
   "cell_type": "code",
   "execution_count": 50,
   "id": "1979a46e",
   "metadata": {
    "scrolled": true
   },
   "outputs": [
    {
     "data": {
      "text/plain": [
       "dict_keys(['linear', 'RCuBaLIF'])"
      ]
     },
     "execution_count": 50,
     "metadata": {},
     "output_type": "execute_result"
    }
   ],
   "source": [
    "params.keys()"
   ]
  },
  {
   "cell_type": "code",
   "execution_count": 51,
   "id": "0701a1b6",
   "metadata": {},
   "outputs": [
    {
     "name": "stdout",
     "output_type": "stream",
     "text": [
      "found subgraph, trying to parse as RNN\n"
     ]
    }
   ],
   "source": [
    "a, b = SNN.apply(params, x)"
   ]
  },
  {
   "cell_type": "code",
   "execution_count": 57,
   "id": "ca2e5c15",
   "metadata": {},
   "outputs": [
    {
     "data": {
      "text/plain": [
       "<matplotlib.image.AxesImage at 0x7f2e181d9810>"
      ]
     },
     "execution_count": 57,
     "metadata": {},
     "output_type": "execute_result"
    },
    {
     "data": {
      "image/png": "[encoded data removed]",
      "text/plain": [
       "<Figure size 432x288 with 1 Axes>"
      ]
     },
     "metadata": {
      "needs_background": "light"
     },
     "output_type": "display_data"
    }
   ],
   "source": [
    "plt.imshow(a[0].T)"
   ]
  },
  {
   "cell_type": "code",
   "execution_count": 53,
   "id": "1ef835a1",
   "metadata": {},
   "outputs": [
    {
     "data": {
      "text/plain": [
       "Array([12, 46, 12, 46, 35, 12, 12, 46, 46, 35, 46, 35, 35, 35, 35, 22, 46,\n",
       "       46, 35, 12, 35, 46, 46, 35, 46, 46, 46, 12, 46, 46, 12, 46, 30, 13,\n",
       "       46, 35, 12, 35, 46, 35, 12, 46, 35, 46, 44, 46, 35, 35, 35, 12, 46,\n",
       "       35, 35, 46, 46, 46, 35, 35, 46, 35, 35, 35, 35, 35, 35, 46, 12, 46,\n",
       "       35, 12, 35, 35, 35, 46, 35, 46, 46, 35, 12, 35, 46, 35, 46, 12, 35,\n",
       "       12, 46, 35, 46, 35, 35, 35, 46, 35, 35, 35, 46, 35, 12, 35, 35, 35,\n",
       "       35, 35, 46, 12, 35, 12, 46, 46, 46, 46, 35, 46, 35, 12, 46, 35, 46,\n",
       "       35, 12, 12, 46, 35, 35, 46, 35, 46, 12, 35, 46, 35, 46, 35, 46, 12,\n",
       "       12, 46, 46, 12], dtype=int32)"
      ]
     },
     "execution_count": 53,
     "metadata": {},
     "output_type": "execute_result"
    }
   ],
   "source": [
    "preds = jnp.argmax(jnp.sum(a,axis=1), axis=1)\n",
    "preds"
   ]
  },
  {
   "cell_type": "code",
   "execution_count": 54,
   "id": "23e259bc",
   "metadata": {
    "scrolled": true
   },
   "outputs": [
    {
     "data": {
      "text/plain": [
       "Array([1, 3, 2, 2, 6, 1, 1, 3, 4, 5, 4, 0, 5, 5, 0, 2, 4, 3, 1, 2, 5, 2,\n",
       "       4, 6, 2, 2, 4, 1, 4, 4, 1, 3, 2, 0, 4, 5, 1, 0, 3, 5, 1, 2, 0, 4,\n",
       "       5, 4, 5, 6, 6, 1, 4, 5, 0, 2, 3, 4, 5, 0, 2, 5, 5, 5, 6, 5, 6, 4,\n",
       "       1, 2, 6, 1, 0, 0, 6, 4, 0, 3, 3, 0, 1, 6, 2, 0, 3, 1, 0, 1, 2, 0,\n",
       "       3, 0, 0, 0, 4, 6, 1, 3, 2, 5, 2, 6, 0, 5, 5, 0, 3, 1, 6, 6, 3, 2,\n",
       "       4, 4, 6, 3, 6, 2, 2, 5, 3, 6, 2, 1, 3, 6, 5, 4, 5, 4, 1, 6, 3, 0,\n",
       "       3, 6, 3, 1, 6, 4, 3, 1], dtype=int32)"
      ]
     },
     "execution_count": 54,
     "metadata": {},
     "output_type": "execute_result"
    }
   ],
   "source": [
    "y"
   ]
  },
  {
   "cell_type": "code",
   "execution_count": 55,
   "id": "464c5cb8",
   "metadata": {},
   "outputs": [
    {
     "data": {
      "text/plain": [
       "(Array(0., dtype=float32),\n",
       " Array([12, 46, 12, 46, 35, 12, 12, 46, 46, 35, 46, 35, 35, 35, 35, 22, 46,\n",
       "        46, 35, 12, 35, 46, 46, 35, 46, 46, 46, 12, 46, 46, 12, 46, 30, 13,\n",
       "        46, 35, 12, 35, 46, 35, 12, 46, 35, 46, 44, 46, 35, 35, 35, 12, 46,\n",
       "        35, 35, 46, 46, 46, 35, 35, 46, 35, 35, 35, 35, 35, 35, 46, 12, 46,\n",
       "        35, 12, 35, 35, 35, 46, 35, 46, 46, 35, 12, 35, 46, 35, 46, 12, 35,\n",
       "        12, 46, 35, 46, 35, 35, 35, 46, 35, 35, 35, 46, 35, 12, 35, 35, 35,\n",
       "        35, 35, 46, 12, 35, 12, 46, 46, 46, 46, 35, 46, 35, 12, 46, 35, 46,\n",
       "        35, 12, 12, 46, 35, 35, 46, 35, 46, 12, 35, 46, 35, 46, 35, 46, 12,\n",
       "        12, 46, 46, 12], dtype=int32))"
      ]
     },
     "execution_count": 55,
     "metadata": {},
     "output_type": "execute_result"
    }
   ],
   "source": [
    "spyx.fn.integral_accuracy(a, y)"
   ]
  },
  {
   "cell_type": "code",
   "execution_count": 18,
   "id": "5de1f45f",
   "metadata": {},
   "outputs": [
    {
     "data": {
      "text/plain": [
       "(280, 256, 55)"
      ]
     },
     "execution_count": 18,
     "metadata": {},
     "output_type": "execute_result"
    }
   ],
   "source": [
    "b[0].shape"
   ]
  },
  {
   "cell_type": "code",
   "execution_count": null,
   "id": "a0da2e7e",
   "metadata": {},
   "outputs": [],
   "source": []
  }
 ],
 "metadata": {
  "kernelspec": {
   "display_name": "Python 3 (ipykernel)",
   "language": "python",
   "name": "python3"
  },
  "language_info": {
   "codemirror_mode": {
    "name": "ipython",
    "version": 3
   },
   "file_extension": ".py",
   "mimetype": "text/x-python",
   "name": "python",
   "nbconvert_exporter": "python",
   "pygments_lexer": "ipython3",
   "version": "3.10.12"
  }
 },
 "nbformat": 4,
 "nbformat_minor": 5
}
