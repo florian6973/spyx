{
 "cells": [
  {
   "cell_type": "code",
   "execution_count": 1,
   "id": "b256e6d3",
   "metadata": {},
   "outputs": [],
   "source": [
    "import spyx\n",
    "import spyx.nn as snn\n",
    "\n",
    "import jax\n",
    "import jax.numpy as jnp\n",
    "import numpy as np\n",
    "\n",
    "import nir\n",
    "# for loading dataset\n",
    "import torch\n",
    "\n",
    "import matplotlib.pyplot as plt"
   ]
  },
  {
   "cell_type": "code",
   "execution_count": 2,
   "id": "6cab3896",
   "metadata": {},
   "outputs": [],
   "source": [
    "ng = nir.read(\"braille_noDelay_noBias_subtract_subgraph.nir\")"
   ]
  },
  {
   "cell_type": "code",
   "execution_count": 3,
   "id": "e47b4a4c",
   "metadata": {},
   "outputs": [],
   "source": [
    "data = torch.load(\"ds_test.pt\")"
   ]
  },
  {
   "cell_type": "code",
   "execution_count": 4,
   "id": "28708916",
   "metadata": {},
   "outputs": [],
   "source": [
    "x, y = data.tensors"
   ]
  },
  {
   "cell_type": "code",
   "execution_count": 5,
   "id": "56fd624a",
   "metadata": {},
   "outputs": [],
   "source": [
    "x = jnp.array(x)"
   ]
  },
  {
   "cell_type": "code",
   "execution_count": 6,
   "id": "aa50f16d",
   "metadata": {},
   "outputs": [],
   "source": [
    "y = jnp.array(y)"
   ]
  },
  {
   "cell_type": "code",
   "execution_count": 7,
   "id": "89122ee8",
   "metadata": {},
   "outputs": [
    {
     "data": {
      "text/plain": [
       "(140, 256, 12)"
      ]
     },
     "execution_count": 7,
     "metadata": {},
     "output_type": "execute_result"
    }
   ],
   "source": [
    "x.shape # --> 256 time"
   ]
  },
  {
   "cell_type": "code",
   "execution_count": 8,
   "id": "b952042b",
   "metadata": {},
   "outputs": [
    {
     "data": {
      "text/plain": [
       "dict_keys(['fc1', 'fc2', 'input', 'lif1', 'lif2', 'output'])"
      ]
     },
     "execution_count": 8,
     "metadata": {},
     "output_type": "execute_result"
    }
   ],
   "source": [
    "ng.nodes.keys()"
   ]
  },
  {
   "cell_type": "code",
   "execution_count": 9,
   "id": "896580c5",
   "metadata": {},
   "outputs": [
    {
     "data": {
      "text/plain": [
       "1.0"
      ]
     },
     "execution_count": 9,
     "metadata": {},
     "output_type": "execute_result"
    }
   ],
   "source": [
    "10 / .001 * 1e-4"
   ]
  },
  {
   "cell_type": "code",
   "execution_count": 10,
   "id": "bd245a2f",
   "metadata": {},
   "outputs": [
    {
     "data": {
      "text/plain": [
       "{'input': Input(input_type={'input': array([40])}),\n",
       " 'lif1': CubaLIF(tau_syn=array([0.0004, 0.0004, 0.0004, 0.0004, 0.0004, 0.0004, 0.0004, 0.0004,\n",
       "        0.0004, 0.0004, 0.0004, 0.0004, 0.0004, 0.0004, 0.0004, 0.0004,\n",
       "        0.0004, 0.0004, 0.0004, 0.0004, 0.0004, 0.0004, 0.0004, 0.0004,\n",
       "        0.0004, 0.0004, 0.0004, 0.0004, 0.0004, 0.0004, 0.0004, 0.0004,\n",
       "        0.0004, 0.0004, 0.0004, 0.0004, 0.0004, 0.0004, 0.0004, 0.0004]), tau_mem=array([0.00066667, 0.00066667, 0.00066667, 0.00066667, 0.00066667,\n",
       "        0.00066667, 0.00066667, 0.00066667, 0.00066667, 0.00066667,\n",
       "        0.00066667, 0.00066667, 0.00066667, 0.00066667, 0.00066667,\n",
       "        0.00066667, 0.00066667, 0.00066667, 0.00066667, 0.00066667,\n",
       "        0.00066667, 0.00066667, 0.00066667, 0.00066667, 0.00066667,\n",
       "        0.00066667, 0.00066667, 0.00066667, 0.00066667, 0.00066667,\n",
       "        0.00066667, 0.00066667, 0.00066667, 0.00066667, 0.00066667,\n",
       "        0.00066667, 0.00066667, 0.00066667, 0.00066667, 0.00066667]), r=array([6.66666773, 6.66666773, 6.66666773, 6.66666773, 6.66666773,\n",
       "        6.66666773, 6.66666773, 6.66666773, 6.66666773, 6.66666773,\n",
       "        6.66666773, 6.66666773, 6.66666773, 6.66666773, 6.66666773,\n",
       "        6.66666773, 6.66666773, 6.66666773, 6.66666773, 6.66666773,\n",
       "        6.66666773, 6.66666773, 6.66666773, 6.66666773, 6.66666773,\n",
       "        6.66666773, 6.66666773, 6.66666773, 6.66666773, 6.66666773,\n",
       "        6.66666773, 6.66666773, 6.66666773, 6.66666773, 6.66666773,\n",
       "        6.66666773, 6.66666773, 6.66666773, 6.66666773, 6.66666773]), v_leak=array([0., 0., 0., 0., 0., 0., 0., 0., 0., 0., 0., 0., 0., 0., 0., 0., 0.,\n",
       "        0., 0., 0., 0., 0., 0., 0., 0., 0., 0., 0., 0., 0., 0., 0., 0., 0.,\n",
       "        0., 0., 0., 0., 0., 0.]), v_threshold=array([1., 1., 1., 1., 1., 1., 1., 1., 1., 1., 1., 1., 1., 1., 1., 1., 1.,\n",
       "        1., 1., 1., 1., 1., 1., 1., 1., 1., 1., 1., 1., 1., 1., 1., 1., 1.,\n",
       "        1., 1., 1., 1., 1., 1.]), w_in=array([4., 4., 4., 4., 4., 4., 4., 4., 4., 4., 4., 4., 4., 4., 4., 4., 4.,\n",
       "        4., 4., 4., 4., 4., 4., 4., 4., 4., 4., 4., 4., 4., 4., 4., 4., 4.,\n",
       "        4., 4., 4., 4., 4., 4.])),\n",
       " 'lin': Linear(weight=array([[-0.09206945, -0.00610573, -0.03186178, ..., -0.41431713,\n",
       "          0.07258335,  0.07014831],\n",
       "        [ 0.0914842 ,  0.07446281, -0.02700176, ..., -0.35446247,\n",
       "          0.11730811, -0.0289953 ],\n",
       "        [-0.11703656,  0.05255548, -0.1806816 , ..., -1.0814627 ,\n",
       "         -0.18135646, -0.12542179],\n",
       "        ...,\n",
       "        [ 0.0073339 , -0.06453346,  0.12149727, ..., -0.5568414 ,\n",
       "          0.04187693,  0.33452725],\n",
       "        [-0.03548701, -0.16206522, -0.15327527, ..., -0.41350865,\n",
       "          0.01400763,  0.03219759],\n",
       "        [-0.13786262,  0.06637163, -0.09750799, ..., -0.21823251,\n",
       "          0.05300799,  0.1756823 ]], dtype=float32)),\n",
       " 'output': Output(output_type={'output': array([40])})}"
      ]
     },
     "execution_count": 10,
     "metadata": {},
     "output_type": "execute_result"
    }
   ],
   "source": [
    "ng.nodes[\"lif1\"].nodes"
   ]
  },
  {
   "cell_type": "code",
   "execution_count": 11,
   "id": "a7c11579",
   "metadata": {},
   "outputs": [
    {
     "data": {
      "text/plain": [
       "[('input', 'fc1'),\n",
       " ('fc1', 'lif1'),\n",
       " ('lif1', 'fc2'),\n",
       " ('fc2', 'lif2'),\n",
       " ('lif2', 'output')]"
      ]
     },
     "execution_count": 11,
     "metadata": {},
     "output_type": "execute_result"
    }
   ],
   "source": [
    "ng.edges"
   ]
  },
  {
   "cell_type": "code",
   "execution_count": 12,
   "id": "4b1bfeae",
   "metadata": {},
   "outputs": [],
   "source": [
    "n_list = [\"input\", \"fc1\", \"lif1\", \"output\"]\n",
    "subgraph_nodes = {k : ng.nodes[k] for k in n_list}\n",
    "subgraph_edges = [\n",
    "    ('input', 'fc1'),\n",
    "    ('fc1', 'lif1'),\n",
    "    ('lif1', 'output')\n",
    "]\n",
    "subgraph = nir.NIRGraph(subgraph_nodes, subgraph_edges)"
   ]
  },
  {
   "cell_type": "code",
   "execution_count": 13,
   "id": "65c5c5e4",
   "metadata": {},
   "outputs": [],
   "source": [
    "subgraph.nodes[\"output\"].output_type['output'] = np.array([40])"
   ]
  },
  {
   "cell_type": "code",
   "execution_count": 14,
   "id": "f3b086ce",
   "metadata": {
    "scrolled": true
   },
   "outputs": [
    {
     "name": "stdout",
     "output_type": "stream",
     "text": [
      "found subgraph, trying to parse as RNN\n",
      "found subgraph, trying to parse as RNN\n"
     ]
    }
   ],
   "source": [
    "SNN, params = spyx.nir.from_nir(subgraph, x, dt=1e-4, return_all_states=True)"
   ]
  },
  {
   "cell_type": "code",
   "execution_count": 15,
   "id": "1979a46e",
   "metadata": {
    "scrolled": true
   },
   "outputs": [
    {
     "data": {
      "text/plain": [
       "dict_keys(['linear', 'RCuBaLIF'])"
      ]
     },
     "execution_count": 15,
     "metadata": {},
     "output_type": "execute_result"
    }
   ],
   "source": [
    "params.keys()"
   ]
  },
  {
   "cell_type": "code",
   "execution_count": 16,
   "id": "0701a1b6",
   "metadata": {},
   "outputs": [
    {
     "name": "stdout",
     "output_type": "stream",
     "text": [
      "found subgraph, trying to parse as RNN\n"
     ]
    }
   ],
   "source": [
    "a, b = SNN.apply(params, x)"
   ]
  },
  {
   "cell_type": "code",
   "execution_count": 17,
   "id": "ca2e5c15",
   "metadata": {
    "scrolled": true
   },
   "outputs": [
    {
     "data": {
      "text/plain": [
       "<matplotlib.image.AxesImage at 0x7fccac2ef8e0>"
      ]
     },
     "execution_count": 17,
     "metadata": {},
     "output_type": "execute_result"
    },
    {
     "data": {
      "image/png": "[encoded data removed]",
      "text/plain": [
       "<Figure size 864x288 with 1 Axes>"
      ]
     },
     "metadata": {
      "needs_background": "light"
     },
     "output_type": "display_data"
    }
   ],
   "source": [
    "plt.figure(figsize=(12,4))\n",
    "plt.imshow(a[0].T, aspect=4, interpolation=\"none\")"
   ]
  },
  {
   "cell_type": "code",
   "execution_count": 18,
   "id": "9369a54f",
   "metadata": {},
   "outputs": [],
   "source": [
    "ng = nir.read(\"braille_noDelay_noBias_subtract_subgraph.nir\")"
   ]
  },
  {
   "cell_type": "code",
   "execution_count": null,
   "id": "c52b6549",
   "metadata": {},
   "outputs": [
    {
     "name": "stdout",
     "output_type": "stream",
     "text": [
      "found subgraph, trying to parse as RNN\n"
     ]
    }
   ],
   "source": [
    "SNN, params = spyx.nir.from_nir(ng, x, dt=1e-4, return_all_states=True)"
   ]
  },
  {
   "cell_type": "code",
   "execution_count": null,
   "id": "91f7cab8",
   "metadata": {},
   "outputs": [],
   "source": [
    "a, b = SNN.apply(params, x)"
   ]
  },
  {
   "cell_type": "code",
   "execution_count": null,
   "id": "1ef835a1",
   "metadata": {},
   "outputs": [],
   "source": [
    "plt.figure(figsize=(12,4))\n",
    "plt.imshow(a[0].T, aspect=10, interpolation=\"none\")"
   ]
  },
  {
   "cell_type": "code",
   "execution_count": null,
   "id": "23e259bc",
   "metadata": {
    "scrolled": true
   },
   "outputs": [],
   "source": [
    "y"
   ]
  },
  {
   "cell_type": "code",
   "execution_count": null,
   "id": "464c5cb8",
   "metadata": {},
   "outputs": [],
   "source": [
    "spyx.fn.integral_accuracy(a, y)"
   ]
  },
  {
   "cell_type": "code",
   "execution_count": null,
   "id": "5de1f45f",
   "metadata": {},
   "outputs": [],
   "source": [
    "params"
   ]
  },
  {
   "cell_type": "code",
   "execution_count": null,
   "id": "a0da2e7e",
   "metadata": {},
   "outputs": [],
   "source": []
  },
  {
   "cell_type": "code",
   "execution_count": null,
   "id": "cdd39d18",
   "metadata": {},
   "outputs": [],
   "source": []
  }
 ],
 "metadata": {
  "kernelspec": {
   "display_name": "Python 3 (ipykernel)",
   "language": "python",
   "name": "python3"
  },
  "language_info": {
   "codemirror_mode": {
    "name": "ipython",
    "version": 3
   },
   "file_extension": ".py",
   "mimetype": "text/x-python",
   "name": "python",
   "nbconvert_exporter": "python",
   "pygments_lexer": "ipython3",
   "version": "3.10.12"
  }
 },
 "nbformat": 4,
 "nbformat_minor": 5
}
