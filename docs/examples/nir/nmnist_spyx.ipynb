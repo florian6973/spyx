{
 "cells": [
  {
   "cell_type": "code",
   "execution_count": 1,
   "id": "5e25d964",
   "metadata": {},
   "outputs": [],
   "source": [
    "import spyx\n",
    "import spyx.nn as snn\n",
    "\n",
    "import jax\n",
    "import jax.numpy as jnp\n",
    "import numpy as np\n",
    "\n",
    "import nir"
   ]
  },
  {
   "cell_type": "code",
   "execution_count": 2,
   "id": "68de6a32",
   "metadata": {},
   "outputs": [],
   "source": [
    "input_data = jnp.array(np.load(\"val_numbers.npy\"), dtype=jnp.float32)"
   ]
  },
  {
   "cell_type": "code",
   "execution_count": 3,
   "id": "4d292d71",
   "metadata": {},
   "outputs": [
    {
     "data": {
      "text/plain": [
       "(300, 10, 2, 34, 34)"
      ]
     },
     "execution_count": 3,
     "metadata": {},
     "output_type": "execute_result"
    }
   ],
   "source": [
    "input_data.shape"
   ]
  },
  {
   "cell_type": "code",
   "execution_count": 4,
   "id": "026f463d",
   "metadata": {},
   "outputs": [],
   "source": [
    "ng = nir.read(\"scnn_mnist.nir\")"
   ]
  },
  {
   "cell_type": "code",
   "execution_count": null,
   "id": "a1f86915",
   "metadata": {
    "scrolled": true
   },
   "outputs": [],
   "source": [
    "SNN, params = spyx.nir.from_nir(ng, input_data, dt=1)"
   ]
  },
  {
   "cell_type": "code",
   "execution_count": null,
   "id": "fc5b01dc",
   "metadata": {},
   "outputs": [],
   "source": [
    "params.keys()"
   ]
  },
  {
   "cell_type": "code",
   "execution_count": null,
   "id": "5717dec9",
   "metadata": {},
   "outputs": [],
   "source": [
    "SNN.apply(params, input_data)"
   ]
  }
 ],
 "metadata": {
  "kernelspec": {
   "display_name": "Python 3 (ipykernel)",
   "language": "python",
   "name": "python3"
  },
  "language_info": {
   "codemirror_mode": {
    "name": "ipython",
    "version": 3
   },
   "file_extension": ".py",
   "mimetype": "text/x-python",
   "name": "python",
   "nbconvert_exporter": "python",
   "pygments_lexer": "ipython3",
   "version": "3.10.12"
  }
 },
 "nbformat": 4,
 "nbformat_minor": 5
}
