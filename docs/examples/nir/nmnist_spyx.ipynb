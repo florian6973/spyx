{
 "cells": [
  {
   "cell_type": "code",
   "execution_count": 1,
   "id": "5e25d964",
   "metadata": {},
   "outputs": [],
   "source": [
    "import spyx\n",
    "import spyx.nn as snn\n",
    "\n",
    "import jax\n",
    "import jax.numpy as jnp\n",
    "import numpy as np\n",
    "\n",
    "import nir\n",
    "\n",
    "import matplotlib.pyplot as plt"
   ]
  },
  {
   "cell_type": "code",
   "execution_count": 2,
   "id": "68de6a32",
   "metadata": {},
   "outputs": [],
   "source": [
    "input_data = jnp.array(np.load(\"val_numbers.npy\"), dtype=jnp.float32)"
   ]
  },
  {
   "cell_type": "code",
   "execution_count": 3,
   "id": "4d292d71",
   "metadata": {},
   "outputs": [
    {
     "data": {
      "text/plain": [
       "(300, 10, 2, 34, 34)"
      ]
     },
     "execution_count": 3,
     "metadata": {},
     "output_type": "execute_result"
    }
   ],
   "source": [
    "input_data.shape"
   ]
  },
  {
   "cell_type": "code",
   "execution_count": 4,
   "id": "026f463d",
   "metadata": {},
   "outputs": [
    {
     "data": {
      "text/plain": [
       "[nir.ir.Conv2d,\n",
       " nir.ir.IF,\n",
       " nir.ir.IF,\n",
       " nir.ir.Affine,\n",
       " nir.ir.IF,\n",
       " nir.ir.Conv2d,\n",
       " nir.ir.IF,\n",
       " nir.ir.SumPool2d,\n",
       " nir.ir.Conv2d,\n",
       " nir.ir.IF,\n",
       " nir.ir.SumPool2d,\n",
       " nir.ir.Flatten,\n",
       " nir.ir.Affine,\n",
       " nir.ir.Input,\n",
       " nir.ir.Output]"
      ]
     },
     "execution_count": 4,
     "metadata": {},
     "output_type": "execute_result"
    }
   ],
   "source": [
    "ng = nir.read(\"scnn_mnist.nir\")\n",
    "[type(v) for v in ng.nodes.values()]"
   ]
  },
  {
   "cell_type": "code",
   "execution_count": 5,
   "id": "a1f86915",
   "metadata": {
    "scrolled": true
   },
   "outputs": [],
   "source": [
    "SNN, params = spyx.nir.from_nir(ng, input_data, dt=1, return_all_states=True)"
   ]
  },
  {
   "cell_type": "code",
   "execution_count": 6,
   "id": "fc5b01dc",
   "metadata": {},
   "outputs": [
    {
     "data": {
      "text/plain": [
       "dict_keys(['conv2_d', 'conv2_d_1', 'conv2_d_2', 'linear', 'linear_1'])"
      ]
     },
     "execution_count": 6,
     "metadata": {},
     "output_type": "execute_result"
    }
   ],
   "source": [
    "params.keys()"
   ]
  },
  {
   "cell_type": "code",
   "execution_count": 7,
   "id": "5717dec9",
   "metadata": {},
   "outputs": [],
   "source": [
    "a, b = SNN.apply(params, input_data)"
   ]
  },
  {
   "cell_type": "code",
   "execution_count": 8,
   "id": "350f0426",
   "metadata": {},
   "outputs": [
    {
     "data": {
      "text/plain": [
       "<matplotlib.image.AxesImage at 0x7ff7a90e02e0>"
      ]
     },
     "execution_count": 8,
     "metadata": {},
     "output_type": "execute_result"
    },
    {
     "data": {
      "image/png": "[encoded data removed]",
      "text/plain": [
       "<Figure size 432x288 with 1 Axes>"
      ]
     },
     "metadata": {
      "needs_background": "light"
     },
     "output_type": "display_data"
    }
   ],
   "source": [
    "plt.imshow(jnp.sum(input_data[6], axis=(0,1)))"
   ]
  },
  {
   "cell_type": "code",
   "execution_count": 9,
   "id": "0549020b",
   "metadata": {},
   "outputs": [
    {
     "data": {
      "text/plain": [
       "Array(151., dtype=float32)"
      ]
     },
     "execution_count": 9,
     "metadata": {},
     "output_type": "execute_result"
    }
   ],
   "source": [
    "a.sum()"
   ]
  },
  {
   "cell_type": "code",
   "execution_count": 25,
   "id": "5890975e",
   "metadata": {},
   "outputs": [
    {
     "data": {
      "text/plain": [
       "Array([[0., 0., 0., 0., 0., 0., 0., 0., 0., 0.],\n",
       "       [0., 0., 0., 0., 0., 0., 0., 0., 0., 0.],\n",
       "       [0., 0., 0., 0., 0., 0., 0., 0., 0., 0.],\n",
       "       [0., 0., 0., 0., 0., 0., 0., 0., 0., 0.],\n",
       "       [0., 0., 0., 0., 0., 0., 0., 0., 0., 0.],\n",
       "       [0., 0., 0., 0., 0., 0., 0., 0., 0., 0.],\n",
       "       [0., 0., 0., 0., 0., 0., 0., 0., 0., 0.],\n",
       "       [0., 0., 0., 0., 0., 0., 0., 0., 0., 0.],\n",
       "       [0., 0., 0., 0., 0., 0., 0., 0., 0., 0.],\n",
       "       [1., 0., 0., 0., 0., 0., 1., 0., 0., 0.]], dtype=float32)"
      ]
     },
     "execution_count": 25,
     "metadata": {},
     "output_type": "execute_result"
    }
   ],
   "source": [
    "a[21]"
   ]
  },
  {
   "cell_type": "code",
   "execution_count": 12,
   "id": "129edd80",
   "metadata": {},
   "outputs": [
    {
     "data": {
      "text/plain": [
       "(300, 10, 16, 16, 16)"
      ]
     },
     "execution_count": 12,
     "metadata": {},
     "output_type": "execute_result"
    }
   ],
   "source": [
    "b[0].shape"
   ]
  },
  {
   "cell_type": "code",
   "execution_count": 10,
   "id": "ca6751af",
   "metadata": {},
   "outputs": [
    {
     "name": "stdout",
     "output_type": "stream",
     "text": [
      "(300, 10, 16, 16, 16)\n",
      "(300, 10, 16, 16, 16)\n",
      "(300, 10, 8, 8, 8)\n",
      "(300, 10, 256)\n",
      "(300, 10, 10)\n"
     ]
    }
   ],
   "source": [
    "for layer in b:\n",
    "    print(layer.shape)"
   ]
  }
 ],
 "metadata": {
  "kernelspec": {
   "display_name": "Python 3 (ipykernel)",
   "language": "python",
   "name": "python3"
  },
  "language_info": {
   "codemirror_mode": {
    "name": "ipython",
    "version": 3
   },
   "file_extension": ".py",
   "mimetype": "text/x-python",
   "name": "python",
   "nbconvert_exporter": "python",
   "pygments_lexer": "ipython3",
   "version": "3.10.12"
  }
 },
 "nbformat": 4,
 "nbformat_minor": 5
}
