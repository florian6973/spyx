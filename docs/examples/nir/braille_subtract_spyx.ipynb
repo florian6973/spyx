{
 "cells": [
  {
   "cell_type": "code",
   "execution_count": 1,
   "id": "b256e6d3",
   "metadata": {},
   "outputs": [],
   "source": [
    "import spyx\n",
    "import spyx.nn as snn\n",
    "\n",
    "import jax\n",
    "import jax.numpy as jnp\n",
    "\n",
    "import nir\n",
    "# for loading dataset\n",
    "import torch"
   ]
  },
  {
   "cell_type": "code",
   "execution_count": 2,
   "id": "6cab3896",
   "metadata": {},
   "outputs": [],
   "source": [
    "ng = nir.read(\"braille_subtract.nir\")"
   ]
  },
  {
   "cell_type": "code",
   "execution_count": 3,
   "id": "56d6ab66",
   "metadata": {},
   "outputs": [
    {
     "data": {
      "text/plain": [
       "dict_keys(['fc1', 'fc2', 'input', 'lif1.lif', 'lif1.w_rec', 'lif2', 'output'])"
      ]
     },
     "execution_count": 3,
     "metadata": {},
     "output_type": "execute_result"
    }
   ],
   "source": [
    "ng.nodes.keys()"
   ]
  },
  {
   "cell_type": "code",
   "execution_count": 4,
   "id": "0af61bbe",
   "metadata": {},
   "outputs": [
    {
     "data": {
      "text/plain": [
       "dict_keys(['fc1', 'fc2', 'input', 'lif1.lif', 'lif1.w_rec', 'lif2', 'output'])"
      ]
     },
     "execution_count": 4,
     "metadata": {},
     "output_type": "execute_result"
    }
   ],
   "source": [
    "ng.nodes.keys()"
   ]
  },
  {
   "cell_type": "code",
   "execution_count": null,
   "id": "43b91141",
   "metadata": {},
   "outputs": [],
   "source": []
  },
  {
   "cell_type": "code",
   "execution_count": 5,
   "id": "e47b4a4c",
   "metadata": {},
   "outputs": [],
   "source": [
    "data = torch.load(\"ds_test.pt\")"
   ]
  },
  {
   "cell_type": "code",
   "execution_count": 6,
   "id": "28708916",
   "metadata": {},
   "outputs": [],
   "source": [
    "x, y = data.tensors"
   ]
  },
  {
   "cell_type": "code",
   "execution_count": 7,
   "id": "56fd624a",
   "metadata": {},
   "outputs": [],
   "source": [
    "x = jnp.array(x)"
   ]
  },
  {
   "cell_type": "code",
   "execution_count": 8,
   "id": "aa50f16d",
   "metadata": {},
   "outputs": [],
   "source": [
    "y = jnp.array(y)"
   ]
  },
  {
   "cell_type": "code",
   "execution_count": 9,
   "id": "89122ee8",
   "metadata": {},
   "outputs": [
    {
     "data": {
      "text/plain": [
       "(140, 256, 12)"
      ]
     },
     "execution_count": 9,
     "metadata": {},
     "output_type": "execute_result"
    }
   ],
   "source": [
    "x.shape"
   ]
  },
  {
   "cell_type": "code",
   "execution_count": 10,
   "id": "f3b086ce",
   "metadata": {
    "scrolled": true
   },
   "outputs": [
    {
     "name": "stdout",
     "output_type": "stream",
     "text": [
      "[INFO] found RNN subgraph, replacing with NIRGraph node\n",
      "[INFO] subgraph edges: ('lif1.lif', 'lif1.w_rec'), ('lif1.w_rec', 'lif1.lif')\n",
      "found subgraph, trying to parse as RNN\n",
      "(55,)\n",
      "found subgraph, trying to parse as RNN\n"
     ]
    }
   ],
   "source": [
    "SNN, params = spyx.nir.from_nir(ng, x, dt=1e-4)"
   ]
  },
  {
   "cell_type": "code",
   "execution_count": 11,
   "id": "1979a46e",
   "metadata": {
    "scrolled": true
   },
   "outputs": [
    {
     "data": {
      "text/plain": [
       "dict_keys(['linear', 'RCuBaLIF', 'linear_1', 'CuBaLIF'])"
      ]
     },
     "execution_count": 11,
     "metadata": {},
     "output_type": "execute_result"
    }
   ],
   "source": [
    "params.keys()"
   ]
  },
  {
   "cell_type": "code",
   "execution_count": 12,
   "id": "993bc38d",
   "metadata": {},
   "outputs": [
    {
     "data": {
      "text/plain": [
       "(55, 55)"
      ]
     },
     "execution_count": 12,
     "metadata": {},
     "output_type": "execute_result"
    }
   ],
   "source": [
    "ng.nodes[\"lif1\"].nodes[\"lif1.w_rec\"].weight.shape"
   ]
  },
  {
   "cell_type": "code",
   "execution_count": 14,
   "id": "0701a1b6",
   "metadata": {},
   "outputs": [
    {
     "name": "stdout",
     "output_type": "stream",
     "text": [
      "found subgraph, trying to parse as RNN\n",
      "(55,)\n"
     ]
    }
   ],
   "source": [
    "a, b = SNN.apply(params, x)"
   ]
  },
  {
   "cell_type": "code",
   "execution_count": 16,
   "id": "ca2e5c15",
   "metadata": {},
   "outputs": [
    {
     "data": {
      "text/plain": [
       "(Array([[-1.39830541e-03, -9.41243663e-04, -1.98475039e-03, ...,\n",
       "         -1.70383137e-04, -1.35695911e-04,  3.91362264e-04],\n",
       "        [-1.08747138e-03, -9.10809264e-04, -1.78573467e-03, ...,\n",
       "         -5.69773329e-05, -2.32480787e-04,  1.05030689e-04],\n",
       "        [-9.97755793e-04, -5.89790987e-04, -1.29603548e-03, ...,\n",
       "          2.51238416e-05, -2.29639423e-04,  2.43395451e-04],\n",
       "        ...,\n",
       "        [-1.26554311e-04, -6.34278404e-05, -1.48453692e-04, ...,\n",
       "          1.38779551e-05, -4.49158979e-05,  4.07784901e-05],\n",
       "        [-1.26314175e-04, -6.28601119e-05, -1.47331855e-04, ...,\n",
       "          1.39628755e-05, -4.41333941e-05,  4.07725747e-05],\n",
       "        [-1.25406776e-04, -6.24186650e-05, -1.46116043e-04, ...,\n",
       "          1.47043556e-05, -4.52857494e-05,  4.02877777e-05]],      dtype=float32),\n",
       " Array([[0.6672535 , 0.478741  , 0.6132505 , ..., 0.3900332 , 0.532617  ,\n",
       "         0.39897135],\n",
       "        [0.6672535 , 0.478741  , 0.6132505 , ..., 0.3900332 , 0.532617  ,\n",
       "         0.39897135],\n",
       "        [0.6672535 , 0.478741  , 0.6132505 , ..., 0.3900332 , 0.532617  ,\n",
       "         0.39897135],\n",
       "        ...,\n",
       "        [0.6672535 , 0.478741  , 0.6132505 , ..., 0.3900332 , 0.532617  ,\n",
       "         0.39897135],\n",
       "        [0.6672535 , 0.478741  , 0.6132505 , ..., 0.3900332 , 0.532617  ,\n",
       "         0.39897135],\n",
       "        [0.6672535 , 0.478741  , 0.6132505 , ..., 0.3900332 , 0.532617  ,\n",
       "         0.39897135]], dtype=float32))"
      ]
     },
     "execution_count": 16,
     "metadata": {},
     "output_type": "execute_result"
    }
   ],
   "source": []
  }
 ],
 "metadata": {
  "kernelspec": {
   "display_name": "Python 3 (ipykernel)",
   "language": "python",
   "name": "python3"
  },
  "language_info": {
   "codemirror_mode": {
    "name": "ipython",
    "version": 3
   },
   "file_extension": ".py",
   "mimetype": "text/x-python",
   "name": "python",
   "nbconvert_exporter": "python",
   "pygments_lexer": "ipython3",
   "version": "3.10.12"
  }
 },
 "nbformat": 4,
 "nbformat_minor": 5
}
