{
 "cells": [
  {
   "cell_type": "code",
   "execution_count": 1,
   "id": "b256e6d3",
   "metadata": {},
   "outputs": [],
   "source": [
    "import spyx\n",
    "import spyx.nn as snn\n",
    "\n",
    "import jax\n",
    "import jax.numpy as jnp\n",
    "\n",
    "import nir\n",
    "# for loading dataset\n",
    "import torch\n",
    "\n",
    "import matplotlib.pyplot as plt"
   ]
  },
  {
   "cell_type": "code",
   "execution_count": 2,
   "id": "6cab3896",
   "metadata": {},
   "outputs": [],
   "source": [
    "ng = nir.read(\"braille_subtract.nir\")"
   ]
  },
  {
   "cell_type": "code",
   "execution_count": 3,
   "id": "56d6ab66",
   "metadata": {},
   "outputs": [
    {
     "data": {
      "text/plain": [
       "dict_keys(['fc1', 'fc2', 'input', 'lif1.lif', 'lif1.w_rec', 'lif2', 'output'])"
      ]
     },
     "execution_count": 3,
     "metadata": {},
     "output_type": "execute_result"
    }
   ],
   "source": [
    "ng.nodes.keys()"
   ]
  },
  {
   "cell_type": "code",
   "execution_count": 4,
   "id": "0af61bbe",
   "metadata": {},
   "outputs": [
    {
     "data": {
      "text/plain": [
       "dict_keys(['fc1', 'fc2', 'input', 'lif1.lif', 'lif1.w_rec', 'lif2', 'output'])"
      ]
     },
     "execution_count": 4,
     "metadata": {},
     "output_type": "execute_result"
    }
   ],
   "source": [
    "ng.nodes.keys()"
   ]
  },
  {
   "cell_type": "code",
   "execution_count": null,
   "id": "43b91141",
   "metadata": {},
   "outputs": [],
   "source": []
  },
  {
   "cell_type": "code",
   "execution_count": 5,
   "id": "e47b4a4c",
   "metadata": {},
   "outputs": [],
   "source": [
    "data = torch.load(\"ds_test.pt\")"
   ]
  },
  {
   "cell_type": "code",
   "execution_count": 6,
   "id": "28708916",
   "metadata": {},
   "outputs": [],
   "source": [
    "x, y = data.tensors"
   ]
  },
  {
   "cell_type": "code",
   "execution_count": 7,
   "id": "56fd624a",
   "metadata": {},
   "outputs": [],
   "source": [
    "x = jnp.array(x)"
   ]
  },
  {
   "cell_type": "code",
   "execution_count": 8,
   "id": "aa50f16d",
   "metadata": {},
   "outputs": [],
   "source": [
    "y = jnp.array(y)"
   ]
  },
  {
   "cell_type": "code",
   "execution_count": 9,
   "id": "89122ee8",
   "metadata": {},
   "outputs": [
    {
     "data": {
      "text/plain": [
       "(140, 256, 12)"
      ]
     },
     "execution_count": 9,
     "metadata": {},
     "output_type": "execute_result"
    }
   ],
   "source": [
    "x.shape # --> 256 time"
   ]
  },
  {
   "cell_type": "code",
   "execution_count": 10,
   "id": "f3b086ce",
   "metadata": {
    "scrolled": true
   },
   "outputs": [
    {
     "name": "stdout",
     "output_type": "stream",
     "text": [
      "[INFO] found RNN subgraph, replacing with NIRGraph node\n",
      "[INFO] subgraph edges: ('lif1.lif', 'lif1.w_rec'), ('lif1.w_rec', 'lif1.lif')\n",
      "found subgraph, trying to parse as RNN\n",
      "found subgraph, trying to parse as RNN\n"
     ]
    }
   ],
   "source": [
    "SNN, params = spyx.nir.from_nir(ng, x, dt=1e-4, return_all_states=True)"
   ]
  },
  {
   "cell_type": "code",
   "execution_count": 11,
   "id": "1979a46e",
   "metadata": {
    "scrolled": true
   },
   "outputs": [
    {
     "data": {
      "text/plain": [
       "dict_keys(['linear', 'RCuBaLIF', 'linear_1', 'CuBaLIF'])"
      ]
     },
     "execution_count": 11,
     "metadata": {},
     "output_type": "execute_result"
    }
   ],
   "source": [
    "params.keys()"
   ]
  },
  {
   "cell_type": "code",
   "execution_count": 12,
   "id": "993bc38d",
   "metadata": {},
   "outputs": [
    {
     "data": {
      "text/plain": [
       "(55, 55)"
      ]
     },
     "execution_count": 12,
     "metadata": {},
     "output_type": "execute_result"
    }
   ],
   "source": [
    "ng.nodes[\"lif1\"].nodes[\"lif1.w_rec\"].weight.shape"
   ]
  },
  {
   "cell_type": "code",
   "execution_count": 13,
   "id": "0701a1b6",
   "metadata": {},
   "outputs": [
    {
     "name": "stdout",
     "output_type": "stream",
     "text": [
      "found subgraph, trying to parse as RNN\n"
     ]
    }
   ],
   "source": [
    "a, b = SNN.apply(params, x)"
   ]
  },
  {
   "cell_type": "code",
   "execution_count": 14,
   "id": "ca2e5c15",
   "metadata": {},
   "outputs": [
    {
     "data": {
      "text/plain": [
       "(140, 256, 7)"
      ]
     },
     "execution_count": 14,
     "metadata": {},
     "output_type": "execute_result"
    }
   ],
   "source": [
    "a.shape"
   ]
  },
  {
   "cell_type": "code",
   "execution_count": 15,
   "id": "1ef835a1",
   "metadata": {},
   "outputs": [
    {
     "data": {
      "text/plain": [
       "Array([1, 4, 4, 2, 0, 1, 1, 4, 4, 0, 4, 0, 5, 0, 0, 1, 4, 4, 2, 1, 0, 4,\n",
       "       4, 0, 4, 2, 4, 5, 4, 4, 4, 4, 2, 0, 4, 0, 1, 0, 4, 0, 1, 4, 0, 4,\n",
       "       5, 4, 0, 0, 0, 5, 4, 0, 0, 4, 3, 4, 5, 0, 4, 0, 5, 0, 0, 0, 0, 4,\n",
       "       1, 4, 6, 5, 0, 0, 0, 4, 0, 4, 4, 0, 1, 0, 4, 0, 4, 1, 0, 5, 4, 0,\n",
       "       4, 0, 0, 0, 4, 0, 5, 4, 2, 0, 1, 0, 0, 0, 5, 0, 4, 1, 5, 1, 4, 4,\n",
       "       4, 4, 0, 4, 0, 4, 4, 0, 4, 0, 4, 1, 4, 6, 0, 4, 0, 4, 4, 0, 4, 0,\n",
       "       4, 5, 4, 5, 5, 4, 4, 5], dtype=int32)"
      ]
     },
     "execution_count": 15,
     "metadata": {},
     "output_type": "execute_result"
    }
   ],
   "source": [
    "preds = jnp.argmax(jnp.sum(a,axis=1), axis=1)\n",
    "preds"
   ]
  },
  {
   "cell_type": "code",
   "execution_count": 16,
   "id": "23e259bc",
   "metadata": {
    "scrolled": true
   },
   "outputs": [
    {
     "data": {
      "text/plain": [
       "Array([1, 3, 2, 2, 6, 1, 1, 3, 4, 5, 4, 0, 5, 5, 0, 2, 4, 3, 1, 2, 5, 2,\n",
       "       4, 6, 2, 2, 4, 1, 4, 4, 1, 3, 2, 0, 4, 5, 1, 0, 3, 5, 1, 2, 0, 4,\n",
       "       5, 4, 5, 6, 6, 1, 4, 5, 0, 2, 3, 4, 5, 0, 2, 5, 5, 5, 6, 5, 6, 4,\n",
       "       1, 2, 6, 1, 0, 0, 6, 4, 0, 3, 3, 0, 1, 6, 2, 0, 3, 1, 0, 1, 2, 0,\n",
       "       3, 0, 0, 0, 4, 6, 1, 3, 2, 5, 2, 6, 0, 5, 5, 0, 3, 1, 6, 6, 3, 2,\n",
       "       4, 4, 6, 3, 6, 2, 2, 5, 3, 6, 2, 1, 3, 6, 5, 4, 5, 4, 1, 6, 3, 0,\n",
       "       3, 6, 3, 1, 6, 4, 3, 1], dtype=int32)"
      ]
     },
     "execution_count": 16,
     "metadata": {},
     "output_type": "execute_result"
    }
   ],
   "source": [
    "y"
   ]
  },
  {
   "cell_type": "code",
   "execution_count": 17,
   "id": "464c5cb8",
   "metadata": {},
   "outputs": [
    {
     "data": {
      "text/plain": [
       "(Array(0.44285715, dtype=float32),\n",
       " Array([1, 4, 4, 2, 0, 1, 1, 4, 4, 0, 4, 0, 5, 0, 0, 1, 4, 4, 2, 1, 0, 4,\n",
       "        4, 0, 4, 2, 4, 5, 4, 4, 4, 4, 2, 0, 4, 0, 1, 0, 4, 0, 1, 4, 0, 4,\n",
       "        5, 4, 0, 0, 0, 5, 4, 0, 0, 4, 3, 4, 5, 0, 4, 0, 5, 0, 0, 0, 0, 4,\n",
       "        1, 4, 6, 5, 0, 0, 0, 4, 0, 4, 4, 0, 1, 0, 4, 0, 4, 1, 0, 5, 4, 0,\n",
       "        4, 0, 0, 0, 4, 0, 5, 4, 2, 0, 1, 0, 0, 0, 5, 0, 4, 1, 5, 1, 4, 4,\n",
       "        4, 4, 0, 4, 0, 4, 4, 0, 4, 0, 4, 1, 4, 6, 0, 4, 0, 4, 4, 0, 4, 0,\n",
       "        4, 5, 4, 5, 5, 4, 4, 5], dtype=int32))"
      ]
     },
     "execution_count": 17,
     "metadata": {},
     "output_type": "execute_result"
    }
   ],
   "source": [
    "spyx.fn.integral_accuracy(a, y)"
   ]
  },
  {
   "cell_type": "code",
   "execution_count": 18,
   "id": "5de1f45f",
   "metadata": {},
   "outputs": [
    {
     "data": {
      "text/plain": [
       "(280, 256, 55)"
      ]
     },
     "execution_count": 18,
     "metadata": {},
     "output_type": "execute_result"
    }
   ],
   "source": [
    "b[0].shape"
   ]
  },
  {
   "cell_type": "code",
   "execution_count": null,
   "id": "a0da2e7e",
   "metadata": {},
   "outputs": [],
   "source": []
  }
 ],
 "metadata": {
  "kernelspec": {
   "display_name": "Python 3 (ipykernel)",
   "language": "python",
   "name": "python3"
  },
  "language_info": {
   "codemirror_mode": {
    "name": "ipython",
    "version": 3
   },
   "file_extension": ".py",
   "mimetype": "text/x-python",
   "name": "python",
   "nbconvert_exporter": "python",
   "pygments_lexer": "ipython3",
   "version": "3.10.12"
  }
 },
 "nbformat": 4,
 "nbformat_minor": 5
}
