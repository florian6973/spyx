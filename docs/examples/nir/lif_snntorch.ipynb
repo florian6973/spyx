{
 "cells": [
  {
   "cell_type": "code",
   "execution_count": 2,
   "metadata": {},
   "outputs": [],
   "source": [
    "import torch\n",
    "import torch.nn as nn\n",
    "import snntorch as snn\n",
    "import numpy as np\n",
    "from snntorch import export\n",
    "import nir"
   ]
  },
  {
   "cell_type": "code",
   "execution_count": 3,
   "metadata": {},
   "outputs": [
    {
     "name": "stdout",
     "output_type": "stream",
     "text": [
      "0       Affine(weight=array([[1.]], dtype=float32), bias=array([0.], dtype=float32))\n",
      "1       LIF(tau=array([0.0025], dtype=float32), r=array([1.], dtype=float32), v_leak=array([0.], dtype=float32), v_threshold=array([0.1], dtype=float32))\n",
      "input   Input(input_type={'input': array([1])})\n",
      "output  Output(output_type={'output': array([1])})\n"
     ]
    }
   ],
   "source": [
    "graph = nir.read('lif_norse.nir')\n",
    "for nkey, node in graph.nodes.items():\n",
    "    print(f\"{nkey:7} {node}\")"
   ]
  },
  {
   "cell_type": "code",
   "execution_count": 4,
   "metadata": {},
   "outputs": [],
   "source": [
    "isis = [\n",
    "    6, 15, 4, 3, 0, 2, 1, 2, 0, 1, 0, 0, 0, 0, 0, 0, 0, \n",
    "    0, 0, 0, 13, 0, 0, 0, 0, 0, 0, 0, 0, 0, 0, 0, 5, 0, 14\n",
    "]\n",
    "d1 = list(np.concatenate([isi*[0]+[1] for isi in isis]))[:100]\n",
    "d = np.array([[e] + 9*[0] for e in d1]).reshape(1, -1)"
   ]
  },
  {
   "cell_type": "code",
   "execution_count": 5,
   "metadata": {},
   "outputs": [],
   "source": [
    "class NIRNetwork(torch.nn.Module):\n",
    "    def __init__(self, graph: nir.ir.NIRGraph) -> None:\n",
    "        super().__init__()\n",
    "\n",
    "        nirlif = graph.nodes['1']\n",
    "        niraffine = graph.nodes['0']\n",
    "\n",
    "        dt = 1e-4\n",
    "\n",
    "        beta = 1-(dt/nirlif.tau)\n",
    "        assert nirlif.v_leak == 0., \"snnTorch doesn't support v_leak\"\n",
    "        vthr = nirlif.v_threshold\n",
    "\n",
    "        w_scale = nirlif.r * dt / nirlif.tau\n",
    "        weights = niraffine.weight * w_scale\n",
    "        nonzero_bias = np.alltrue(niraffine.bias == 0.)\n",
    "\n",
    "        print(f'NIR net with beta: {beta}, v_thr: {vthr}, w_scale: {w_scale}')\n",
    "\n",
    "        self.lin = nn.Linear(1, 1, bias=nonzero_bias)\n",
    "        self.lin.weight.data = torch.Tensor(weights)\n",
    "        if nonzero_bias:\n",
    "            # TODO: how to scale this?\n",
    "            self.lin.bias.data = torch.Tensor(niraffine.bias)\n",
    "\n",
    "        self.lif = snn.Leaky(beta=beta, threshold=vthr, reset_mechanism='zero')\n",
    "    \n",
    "    def forward(self, ut: torch.Tensor) -> torch.Tensor:\n",
    "        # shape of ut: (N, T)\n",
    "        spk_rec, mem_rec = [], []\n",
    "        mem = torch.zeros((1,))  # self.lif.init_leaky()\n",
    "        for t in range(ut.shape[1]):\n",
    "            cur = self.lin(ut[:, t])\n",
    "            spk, mem = self.lif(cur, mem)\n",
    "            spk_rec.append(spk)\n",
    "            mem_rec.append(mem)\n",
    "        return torch.stack(spk_rec, dim=0), torch.stack(mem_rec, dim=0)"
   ]
  },
  {
   "cell_type": "code",
   "execution_count": 6,
   "metadata": {},
   "outputs": [
    {
     "name": "stdout",
     "output_type": "stream",
     "text": [
      "NIR net with beta: [0.96], v_thr: [0.1], w_scale: [0.04]\n"
     ]
    },
    {
     "name": "stderr",
     "output_type": "stream",
     "text": [
      "/tmp/ipykernel_21232/2326313447.py:1: DeprecationWarning: `alltrue` is deprecated as of NumPy 1.25.0, and will be removed in NumPy 2.0. Please use `all` instead.\n",
      "  net = NIRNetwork(graph)\n"
     ]
    },
    {
     "data": {
      "text/plain": [
       "(torch.Size([1000, 1]), torch.Size([1000, 1]))"
      ]
     },
     "execution_count": 6,
     "metadata": {},
     "output_type": "execute_result"
    }
   ],
   "source": [
    "net = NIRNetwork(graph)\n",
    "spk, mem = net(torch.Tensor(d))\n",
    "mem.shape, spk.shape"
   ]
  },
  {
   "cell_type": "code",
   "execution_count": 8,
   "metadata": {},
   "outputs": [
    {
     "data": {
      "text/plain": [
       "tensor([[0.0400],\n",
       "        [0.0384],\n",
       "        [0.0369],\n",
       "        [0.0354],\n",
       "        [0.0340],\n",
       "        [0.0326],\n",
       "        [0.0313],\n",
       "        [0.0301],\n",
       "        [0.0289],\n",
       "        [0.0277],\n",
       "        [0.0266],\n",
       "        [0.0255],\n",
       "        [0.0245],\n",
       "        [0.0235],\n",
       "        [0.0226],\n",
       "        [0.0217],\n",
       "        [0.0208],\n",
       "        [0.0200],\n",
       "        [0.0192],\n",
       "        [0.0184],\n",
       "        [0.0177],\n",
       "        [0.0170],\n",
       "        [0.0163],\n",
       "        [0.0156],\n",
       "        [0.0150],\n",
       "        [0.0144],\n",
       "        [0.0138],\n",
       "        [0.0133],\n",
       "        [0.0128],\n",
       "        [0.0122],\n",
       "        [0.0118],\n",
       "        [0.0113],\n",
       "        [0.0108],\n",
       "        [0.0104],\n",
       "        [0.0100],\n",
       "        [0.0096],\n",
       "        [0.0092],\n",
       "        [0.0088],\n",
       "        [0.0085],\n",
       "        [0.0081]], grad_fn=<SliceBackward0>)"
      ]
     },
     "execution_count": 8,
     "metadata": {},
     "output_type": "execute_result"
    }
   ],
   "source": [
    "mem[60:100]"
   ]
  },
  {
   "cell_type": "code",
   "execution_count": 6,
   "metadata": {},
   "outputs": [
    {
     "data": {
      "image/png": "[encoded data removed]",
      "text/plain": [
       "<Figure size 432x288 with 2 Axes>"
      ]
     },
     "metadata": {
      "needs_background": "light"
     },
     "output_type": "display_data"
    }
   ],
   "source": [
    "import matplotlib.pyplot as plt\n",
    "fig, axs = plt.subplots(2, 1, sharex=True)\n",
    "axs[0].eventplot(np.where(spk.detach().numpy() == 1)[0])\n",
    "axs[1].plot(mem.detach().numpy())\n",
    "plt.show();"
   ]
  },
  {
   "cell_type": "code",
   "execution_count": 102,
   "metadata": {},
   "outputs": [],
   "source": [
    "with open(f'lif_snntorch.csv', 'w') as fw:\n",
    "    for idx in range(d.shape[1]):\n",
    "        fw.write(f'{d[0, idx]},{mem.detach().numpy()[idx, 0]},{spk.detach().numpy()[idx, 0]}\\n')"
   ]
  },
  {
   "cell_type": "markdown",
   "metadata": {},
   "source": [
    "## saved for later"
   ]
  },
  {
   "cell_type": "code",
   "execution_count": null,
   "metadata": {},
   "outputs": [],
   "source": [
    "class NIRNetwork(torch.nn.Module):\n",
    "    def __init__(self, module_list: list) -> None:\n",
    "        super().__init__()\n",
    "        self.blocks = nn.ModuleList(module_list)\n",
    "    \n",
    "    def forward(self, ut: torch.Tensor) -> torch.Tensor:\n",
    "        # shape of ut: (N, T)\n",
    "        x = ut\n",
    "        for block in self.blocks:\n",
    "            if isinstance(block, nn.Linear):\n",
    "            elif isinstance(block, snn.Leaky):\n",
    "                out = []\n",
    "                hid = None\n",
    "                for t in range(ut.shape[1]):\n",
    "                    \n",
    "            else:\n",
    "                raise NotImplementedError('unknown block')\n",
    "\n",
    "    def forward(self, ut):\n",
    "        # shape of ut: (N, T)\n",
    "\n",
    "        hidden = {}\n",
    "        for idx, block in enumerate(self.blocks):\n",
    "            if isinstance(block, snn.Leaky):\n",
    "                hidden[idx] = [block.init_leaky()]\n",
    "\n",
    "        output = {idx: [] for idx in range(self.blocks)}\n",
    "        for t in range(ut.shape[1]):\n",
    "            for idx, block in enumerate(self.blocks):\n",
    "                if isinstance(block, nn.Linear):\n",
    "                elif isinstance(block, snn.Leaky):\n",
    "                    x, hidden[]\n",
    "                else:\n",
    "                    raise NotImplementedError('unknown block')\n",
    "\n",
    "        # # Initialize hidden states at t=0\n",
    "        # mem1 = self.lif1.init_leaky()\n",
    "        # mem2 = self.lif2.init_leaky()\n",
    "        # # Record the final layer\n",
    "        # spk2_rec = []\n",
    "        # mem2_rec = []\n",
    "\n",
    "        for step in range(num_steps):\n",
    "            cur1 = self.fc1(x)\n",
    "            spk1, mem1 = self.lif1(cur1, mem1)\n",
    "            cur2 = self.fc2(spk1)\n",
    "            spk2, mem2 = self.lif2(cur2, mem2)\n",
    "            spk2_rec.append(spk2)\n",
    "            mem2_rec.append(mem2)\n",
    "\n",
    "        return torch.stack(spk2_rec, dim=0), torch.stack(mem2_rec, dim=0)\n"
   ]
  },
  {
   "cell_type": "code",
   "execution_count": null,
   "metadata": {},
   "outputs": [],
   "source": [
    "\n",
    "\n",
    "data_path = \"untrained-snntorch.pt\"\n",
    "\n",
    "net = nn.Sequential(nn.Linear(784, 128),\n",
    "                    snn.Leaky(beta=0.8, init_hidden=True),\n",
    "                    nn.Linear(128, 10),\n",
    "                    snn.Leaky(beta=0.8, init_hidden=True, output=True))\n",
    "\n",
    "# save model in pt format\n",
    "torch.save(net.state_dict(), data_path)\n",
    "\n",
    "# load model (does nothing here, but shown for completeness)\n",
    "net.load_state_dict(torch.load(data_path))\n",
    "\n",
    "# generate input tensor to dynamically construct graph\n",
    "x = torch.zeros(784)\n",
    "\n",
    "# generate NIR graph\n",
    "nir_net = export.to_nir(net, x)\n"
   ]
  }
 ],
 "metadata": {
  "kernelspec": {
   "display_name": "Python 3 (ipykernel)",
   "language": "python",
   "name": "python3"
  },
  "language_info": {
   "codemirror_mode": {
    "name": "ipython",
    "version": 3
   },
   "file_extension": ".py",
   "mimetype": "text/x-python",
   "name": "python",
   "nbconvert_exporter": "python",
   "pygments_lexer": "ipython3",
   "version": "3.10.12"
  }
 },
 "nbformat": 4,
 "nbformat_minor": 2
}
